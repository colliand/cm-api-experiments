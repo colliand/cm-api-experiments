{
 "cells": [
  {
   "cell_type": "markdown",
   "metadata": {},
   "source": [
    "<img src=\"https://crowdmark-com.s3.amazonaws.com/website/images/visual-identity/crowdmark-logo-dark.png\" alt=\"PIMS logo\" width =\"180\" align=\"right\">\n",
    "\n",
    "# Exploring the Crowdmark API\n",
    "\n",
    "[Crowdmark API Guide (draft version)](https://gist.github.com/heycarsten/46060b3cfce1eaeed325ddd3cdb79f0b)\n",
    "\n",
    "[Draft Documentation Site](http://scattered-island.surge.sh/)"
   ]
  },
  {
   "cell_type": "markdown",
   "metadata": {},
   "source": [
    "Goals: Use the Crowdmark API to\n",
    "1. List all the assessments by their `id` in a given course\n",
    "1. Extract student associated with a given booklet\n",
    "2. Extract assessment_id from slug"
   ]
  },
  {
   "cell_type": "code",
   "execution_count": null,
   "metadata": {},
   "outputs": [],
   "source": [
    "## Some math and data tools\n",
    "import pandas as pd\n",
    "import numpy as np\n",
    "import matplotlib.pyplot as plt\n",
    "from scipy import stats"
   ]
  },
  {
   "cell_type": "code",
   "execution_count": null,
   "metadata": {},
   "outputs": [],
   "source": [
    "# Import seaborn for visualizing data graphically\n",
    "import seaborn as sns\n",
    "sns.set()"
   ]
  },
  {
   "cell_type": "code",
   "execution_count": null,
   "metadata": {},
   "outputs": [],
   "source": [
    "## For graphing in this notebook\n",
    "%matplotlib inline"
   ]
  },
  {
   "cell_type": "markdown",
   "metadata": {},
   "source": [
    "## Enter your Crowdmark API key"
   ]
  },
  {
   "cell_type": "code",
   "execution_count": null,
   "metadata": {},
   "outputs": [],
   "source": [
    "## Execute this cell to generate a request for your API key.\n",
    "## Paste your api key into the text field (and press enter); Comment out the next line to define your API Key.\n",
    "# api = input(\"What is your Crowdmark API key:\")"
   ]
  },
  {
   "cell_type": "code",
   "execution_count": null,
   "metadata": {},
   "outputs": [],
   "source": [
    "## This cell writes the content of `api` to the file .crowdmark-key.\n",
    "\n",
    "#with open(\".crowdmark-key\", \"w\") as text_file:\n",
    "#   print(f\"{api}\", file=text_file)"
   ]
  },
  {
   "cell_type": "code",
   "execution_count": null,
   "metadata": {},
   "outputs": [],
   "source": [
    "# This cell reads in the .crowdmark-key file and saves it as apiKey.\n",
    "# The API key allows the computer hosting your Jupyter notebook to programmatically access data from Crowdmark.\n",
    "with open(\".crowdmark-key\", 'r') as f:\n",
    "    apiKey = f.read().rstrip()\n",
    "# apiKey"
   ]
  },
  {
   "cell_type": "markdown",
   "metadata": {},
   "source": [
    "## Specify the Course"
   ]
  },
  {
   "cell_type": "code",
   "execution_count": null,
   "metadata": {},
   "outputs": [],
   "source": [
    "## SPECIFY THE COURSE YOU WISH TO INVESTIGATE HERE\n",
    "# course_slug = 'demos'\n",
    "\n",
    "course_slug ='samples'"
   ]
  },
  {
   "cell_type": "code",
   "execution_count": null,
   "metadata": {},
   "outputs": [],
   "source": [
    "## Define the URL endpoint for accessing the API data.\n",
    "cm = 'https://app.crowdmark.com'\n",
    "\n",
    "# api_endpoint = '/api/users/{user-id}'\n",
    "# api_endpoint = '/api/courses/'\n",
    "# api_endpoint = '/api/courses/2015mat127-7934f/assessments'\n",
    "# api_endpoint = '/api/assessments'\n",
    "# api_endpoint = '/api/assessments/mat217-assignment-4/enrollments'\n",
    "# api_endpoint = '/api/assessments/mat217-assignment-4/memberships'\n",
    "# api_endpoint = '/api/assessments/mat217-assignment-4/questions'\n",
    "# booklets_endpoint = '/api/assessments/' + assessment_slug +'/booklets'\n",
    "assessments_endpoint = '/api/courses/' + course_slug + '/assessments'\n",
    "# enrollments_endpoint = '/api/assessments/' + assessment_slug + '/enrollments'\n",
    "# bookletsURL = cm + booklets_endpoint + '?api_key=' + apiKey\n",
    "assessmentsURL = cm + assessments_endpoint + '?api_key=' + apiKey\n",
    "# enrollmentsURL = cm + enrollments_endpoint + '?api_key=' + apiKey\n"
   ]
  },
  {
   "cell_type": "code",
   "execution_count": null,
   "metadata": {},
   "outputs": [],
   "source": [
    "from urllib.request import urlopen\n",
    "\n",
    "# booklets_response = urlopen(bookletsURL).read().decode('utf8')\n",
    "# booklets = json.loads(booklets_response)\n",
    "\n",
    "assessments_response = urlopen(assessmentsURL).read().decode('utf8')\n",
    "assessments = json.loads(assessments_response)\n",
    "\n",
    "# enrollments_response = urlopen(enrollmentsURL).read().decode('utf8')\n",
    "# enrollments = json.loads(enrollments_response)\n",
    "\n",
    "## Our data set has been pulled from bookletsURL and is now encoded as python dictionary in `booklets`."
   ]
  },
  {
   "cell_type": "markdown",
   "metadata": {},
   "source": [
    "## List Assessments in a Course"
   ]
  },
  {
   "cell_type": "code",
   "execution_count": null,
   "metadata": {},
   "outputs": [],
   "source": [
    "assessments"
   ]
  },
  {
   "cell_type": "code",
   "execution_count": null,
   "metadata": {},
   "outputs": [],
   "source": [
    "## List all the assessments in a course\n",
    "for k in range(0,len(assessments['data'])):\n",
    "    print(assessments['data'][k]['id'])"
   ]
  },
  {
   "cell_type": "markdown",
   "metadata": {},
   "source": [
    "## Loop to merge all assessments"
   ]
  },
  {
   "cell_type": "code",
   "execution_count": null,
   "metadata": {},
   "outputs": [],
   "source": [
    "## List all the assessments in a course\n",
    "for k in range(0,len(assessments['data'])):\n",
    "    print(assessments['data'][k]['id'])"
   ]
  },
  {
   "cell_type": "code",
   "execution_count": null,
   "metadata": {},
   "outputs": [],
   "source": [
    "## Configure the first data frame\n",
    "url0 = 'https://app.crowdmark.com/api/assessments/' + assessments['data'][0]['id'] + '/results.csv' + '?api_key=' + apiKey\n",
    "dgd = pd.read_csv(url0)\n",
    "## Ingore some columns\n",
    "dgd = dgd.drop(['Crowdmark ID', 'Score URL', \n",
    "                 'Total', 'Penalty', 'Total After Penalty','Submitted At', \n",
    "                'Username', 'First Name', 'Last Name', \n",
    "                'Canvas ID', 'Email.1', 'Name', 'Student ID', \n",
    "                'first_name', 'full_name', 'id', 'last_name'], axis=1, errors='ignore')"
   ]
  },
  {
   "cell_type": "code",
   "execution_count": null,
   "metadata": {},
   "outputs": [],
   "source": [
    "dgd.head(n=12)"
   ]
  },
  {
   "cell_type": "code",
   "execution_count": null,
   "metadata": {},
   "outputs": [],
   "source": [
    "dgd.columns"
   ]
  },
  {
   "cell_type": "code",
   "execution_count": null,
   "metadata": {},
   "outputs": [],
   "source": [
    "## Merge scores from all the assessments in the course into a single data frame.\n",
    "for k in range(1,len(assessments['data'])):\n",
    "## for k in range(1,2):\n",
    "    print(assessments['data'][k]['id'])\n",
    "    assess_slug = assessments['data'][k]['id']\n",
    "    #URL for API, Crowdmark API URL in this case\n",
    "    url1 = 'https://app.crowdmark.com/api/assessments/' + assess_slug + '/results.csv' + '?api_key=' + apiKey\n",
    "    dg1 = pd.read_csv(url1)\n",
    "    dg1 = dg1.drop(['Crowdmark ID', 'Score URL', \n",
    "                 'Total', 'Penalty', 'Total After Penalty','Submitted At', \n",
    "                'Username', 'First Name', 'Last Name', \n",
    "                'Canvas ID', 'Email.1', 'Name', 'Student ID', \n",
    "                'first_name', 'full_name', 'id', 'last_name'], axis=1, errors='ignore')\n",
    "    dgd = dgd.merge(dg1, left_on=['Email'], \n",
    "                 right_on=['Email'], how='outer')"
   ]
  },
  {
   "cell_type": "code",
   "execution_count": null,
   "metadata": {},
   "outputs": [],
   "source": [
    "dgd.columns.max"
   ]
  },
  {
   "cell_type": "markdown",
   "metadata": {},
   "source": [
    "## Analyze the Scores in the Class"
   ]
  },
  {
   "cell_type": "code",
   "execution_count": null,
   "metadata": {},
   "outputs": [],
   "source": [
    "## Cut and Paste the Question Score Columns\n",
    "dgda = dgd[['Q1_x', 'Q2_x', 'Q3_x', 'Q4_x', 'Q5_x', 'Q6_x', 'Q1_y', 'Q2_y',\n",
    "       'Q3_y', 'Q4_y', 'Q5_y', 'Q6_y', 'Q7', 'Q1_x', 'Q2_x', 'Q3_x', 'Q1_x',\n",
    "       'Q2_y', 'Q3_y', 'Q1_y', 'Q2_x', 'Q3_x', 'Q1_x', 'Q2_y', 'Q3_y', 'Q1_y',\n",
    "       'Q2_x', 'Q3_x', 'Q1_x', 'Q2_y', 'Q3_y','Q1_y', 'Q2_x', 'Q3_x', 'Q1_x',\n",
    "       'Q2_y', 'Q3_y', 'Q1_y', 'Q2_x', 'Q3_x','Q1', 'Q2_y', 'Q3_y']]"
   ]
  },
  {
   "cell_type": "code",
   "execution_count": null,
   "metadata": {},
   "outputs": [],
   "source": [
    "dgda"
   ]
  },
  {
   "cell_type": "code",
   "execution_count": null,
   "metadata": {},
   "outputs": [],
   "source": [
    "corr = dgda.corr"
   ]
  },
  {
   "cell_type": "code",
   "execution_count": null,
   "metadata": {},
   "outputs": [],
   "source": [
    "plt.figure(figsize = (15,12))\n",
    "ax = sns.heatmap(corr('pearson'), cmap=\"viridis\")"
   ]
  },
  {
   "cell_type": "code",
   "execution_count": null,
   "metadata": {},
   "outputs": [],
   "source": [
    "len(dgda)"
   ]
  },
  {
   "cell_type": "code",
   "execution_count": null,
   "metadata": {},
   "outputs": [],
   "source": []
  }
 ],
 "metadata": {
  "kernelspec": {
   "display_name": "Python 3",
   "language": "python",
   "name": "python3"
  },
  "language_info": {
   "codemirror_mode": {
    "name": "ipython",
    "version": 3
   },
   "file_extension": ".py",
   "mimetype": "text/x-python",
   "name": "python",
   "nbconvert_exporter": "python",
   "pygments_lexer": "ipython3",
   "version": "3.6.5"
  }
 },
 "nbformat": 4,
 "nbformat_minor": 1
}
