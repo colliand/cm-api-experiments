{
 "cells": [
  {
   "cell_type": "markdown",
   "metadata": {},
   "source": [
    "<img src=\"https://crowdmark-com.s3.amazonaws.com/website/images/visual-identity/crowdmark-logo-dark.png\" alt=\"Crowdmark logo\" width =\"180\" align=\"right\">\n",
    "\n",
    "# Page Images Extracted for Local Storage\n",
    "\n",
    "[Crowdmark API Guide (draft version)](https://gist.github.com/heycarsten/46060b3cfce1eaeed325ddd3cdb79f0b)\n",
    "\n",
    "[Draft Documentation Site](https://crowdmark-api-docs.surge.sh/readme/)"
   ]
  },
  {
   "cell_type": "markdown",
   "metadata": {},
   "source": [
    "**Goals:** Use the Crowdmark API to\n",
    "\n",
    "1. Extract front page images for all students from a given assessment on Crowdmark.\n",
    "2. Associate front page images with the corresponding student metadata.\n",
    "3. Extract all page images for all booklets as clickable thumbnails\n"
   ]
  },
  {
   "cell_type": "code",
   "execution_count": 1,
   "metadata": {},
   "outputs": [],
   "source": [
    "## We will bring the data from Crowdmark into this notebook by importing JSON.\n",
    "# import pandas as pd ## We don't currently use pandas.\n",
    "# from pandas.io.json import json_normalize\n",
    "import json\n",
    "import os"
   ]
  },
  {
   "cell_type": "markdown",
   "metadata": {},
   "source": [
    "## Enter your Crowdmark API key"
   ]
  },
  {
   "cell_type": "code",
   "execution_count": 2,
   "metadata": {},
   "outputs": [],
   "source": [
    "## Execute this cell to generate a request for your API key.\n",
    "## Paste your api key into the text field (and press enter); Comment out the next line to define your API Key.\n",
    "# api = input(\"What is your Crowdmark API key:\")"
   ]
  },
  {
   "cell_type": "code",
   "execution_count": 3,
   "metadata": {},
   "outputs": [],
   "source": [
    "## This cell writes the content of `api` to the file .crowdmark-key.\n",
    "\n",
    "#with open(\".crowdmark-key\", \"w\") as text_file:\n",
    "#   print(f\"{api}\", file=text_file)"
   ]
  },
  {
   "cell_type": "code",
   "execution_count": 4,
   "metadata": {},
   "outputs": [],
   "source": [
    "# This cell reads in the .crowdmark-key file and saves it as apiKey.\n",
    "# The API key allows the computer hosting your Jupyter notebook to programmatically access data from Crowdmark.\n",
    "with open(\".crowdmark-key\", 'r') as f:\n",
    "    apiKey = f.read().rstrip()\n",
    "# apiKey"
   ]
  },
  {
   "cell_type": "markdown",
   "metadata": {},
   "source": [
    "## Connect to Scores Data on Crowdmark"
   ]
  },
  {
   "cell_type": "markdown",
   "metadata": {},
   "source": [
    "## Authentication with Crowdmark API Key"
   ]
  },
  {
   "cell_type": "code",
   "execution_count": 5,
   "metadata": {},
   "outputs": [],
   "source": [
    "## Carsten Nielsen helped me with pagination.\n",
    "def api_get(path):\n",
    "    req = Request('https://app.crowdmark.com/api' + path)\n",
    "    req.add_header('Authorization', 'Token token=\"' + apiKey + '\"')\n",
    "    res = urlopen(req).read().decode('utf8')\n",
    "    return json.loads(res)"
   ]
  },
  {
   "cell_type": "markdown",
   "metadata": {},
   "source": [
    "## Specifying the Assessment for Analysis\n",
    "\n",
    "![assessment_slug](https://wwejubwfy.s3.amazonaws.com/WUSTL_Demonstration_Assessment__Crowdmark_2017-01-07_15-58-14.png)"
   ]
  },
  {
   "cell_type": "code",
   "execution_count": 6,
   "metadata": {},
   "outputs": [],
   "source": [
    "# Define the assessment to investigate.\n",
    "# Select the assessment slug from inside the URL from the assessment's dashboard on Crowdamrk.\n",
    "# https://app.crowdmark.com/exams/<assessment-slug>/dashboard\n",
    "assessment_slug = 'math-sample-assessment-fe8c2'"
   ]
  },
  {
   "cell_type": "code",
   "execution_count": 7,
   "metadata": {},
   "outputs": [],
   "source": [
    "# GET /api/booklets/{booklet-id}\n",
    "def getbooklet(e8):\n",
    "    booklet_resp = urlopen(cm + '/api/booklets/' + e8 + '?api_key=' + apiKey ).read().decode('utf8')\n",
    "    return json.loads(booklet_resp)\n",
    "\n",
    "\n",
    "# GET /api/enrollments/{enrollment-id}\n",
    "def getenrollment(e2):\n",
    "    enrollment_resp = urlopen(cm + '/api/enrollments/' + e2 + '?api_key=' + apiKey ).read().decode('utf8')\n",
    "    return json.loads(enrollment_resp)\n"
   ]
  },
  {
   "cell_type": "markdown",
   "metadata": {},
   "source": [
    "## Accessing the Data"
   ]
  },
  {
   "cell_type": "code",
   "execution_count": 8,
   "metadata": {},
   "outputs": [
    {
     "name": "stdout",
     "output_type": "stream",
     "text": [
      "Getting page 1...\n",
      "10\n"
     ]
    }
   ],
   "source": [
    "## Pull in Booklets Data on Assessment (with assessment_slug) for Analysis in this Notebook\n",
    "## Carsten Nielsen helped me with pagination of the data payload from Crowdmark.\n",
    "from urllib.request import urlopen, Request\n",
    "\n",
    "page = 1\n",
    "booklets = []\n",
    "\n",
    "while True:\n",
    "    print('Getting page ' + str(page) + '...')\n",
    "    res = api_get('/assessments/' + assessment_slug + '/booklets?page[number]=' + str(page))\n",
    "    booklets.extend(res['data'])\n",
    "    if not res['links'].get('next'): break\n",
    "    page += 1\n",
    "\n",
    "print(len(booklets))\n",
    "\n",
    "## Our data set has been pulled from bookletsURL and is now encoded as python dictionary in `booklets`."
   ]
  },
  {
   "cell_type": "markdown",
   "metadata": {},
   "source": [
    "## Exploration\n",
    "\n",
    "Let's play around a bit to see what's in the data payload."
   ]
  },
  {
   "cell_type": "code",
   "execution_count": 9,
   "metadata": {
    "scrolled": true
   },
   "outputs": [
    {
     "data": {
      "text/plain": [
       "{'type': 'booklet',\n",
       " 'id': '2752173',\n",
       " 'links': {'self': '/api/booklets/2752173'},\n",
       " 'attributes': {'number': 3,\n",
       "  'total-points': 8.1,\n",
       "  'created-at': '2017-07-20T14:38:09.454Z',\n",
       "  'updated-at': '2017-08-29T06:17:30.570Z'},\n",
       " 'relationships': {'enrollment': {'data': {'type': 'enrollment',\n",
       "    'id': '2496805'},\n",
       "   'links': {'self': '/api/enrollments/2496805'}},\n",
       "  'assessment': {'data': {'type': 'assessment',\n",
       "    'id': 'math-sample-assessment-fe8c2'},\n",
       "   'links': {'self': '/api/assessments/math-sample-assessment-fe8c2'}},\n",
       "  'responses': {'links': {'related': '/api/booklets/2752173/responses'},\n",
       "   'meta': {'count': 3}}}}"
      ]
     },
     "execution_count": 9,
     "metadata": {},
     "output_type": "execute_result"
    }
   ],
   "source": [
    "booklets[8]"
   ]
  },
  {
   "cell_type": "code",
   "execution_count": 10,
   "metadata": {},
   "outputs": [
    {
     "data": {
      "text/plain": [
       "8.1"
      ]
     },
     "execution_count": 10,
     "metadata": {},
     "output_type": "execute_result"
    }
   ],
   "source": [
    "booklets[8]['attributes']['total-points']"
   ]
  },
  {
   "cell_type": "markdown",
   "metadata": {},
   "source": [
    "The 8th booklet record contains information related to the 8th booklet. For example, we know that the `enrollment` associated with the 8th booklet has a particular identification number."
   ]
  },
  {
   "cell_type": "markdown",
   "metadata": {},
   "source": [
    "***\n",
    "***"
   ]
  },
  {
   "cell_type": "markdown",
   "metadata": {},
   "source": [
    "# Front Pages"
   ]
  },
  {
   "cell_type": "markdown",
   "metadata": {},
   "source": [
    "The next cell will generate a Markdown file with the frong page images from the assessment. The Markdown file can be converted to HTML. The embedded image links will expire a few hours after they were generated."
   ]
  },
  {
   "cell_type": "code",
   "execution_count": 11,
   "metadata": {},
   "outputs": [
    {
     "name": "stdout",
     "output_type": "stream",
     "text": [
      "assessment_slug:math-sample-assessment-fe8c2; front pages \n",
      "\n",
      "<img src=\"https://crowdmark-com.s3.amazonaws.com/website/images/visual-identity/crowdmark-logo-dark.png\" alt=\"Crowdmark logo\" width =\"180\" align=\"right\">\n",
      "--------------------------- \n",
      "\n",
      "### Booklet:2752172\n",
      "\n"
     ]
    },
    {
     "ename": "NameError",
     "evalue": "name 'cm' is not defined",
     "output_type": "error",
     "traceback": [
      "\u001b[0;31m---------------------------------------------------------------------------\u001b[0m",
      "\u001b[0;31mNameError\u001b[0m                                 Traceback (most recent call last)",
      "\u001b[0;32m<ipython-input-11-f0e16782f592>\u001b[0m in \u001b[0;36m<module>\u001b[0;34m()\u001b[0m\n\u001b[1;32m     21\u001b[0m         \u001b[0mprint\u001b[0m\u001b[0;34m(\u001b[0m\u001b[0;34m\"### Booklet:\"\u001b[0m \u001b[0;34m+\u001b[0m \u001b[0mbooklet_id\u001b[0m \u001b[0;34m+\u001b[0m\u001b[0;34m\"\\n\"\u001b[0m\u001b[0;34m)\u001b[0m\u001b[0;34m\u001b[0m\u001b[0m\n\u001b[1;32m     22\u001b[0m         \u001b[0;31m## Set an exception to ignore empty records\u001b[0m\u001b[0;34m\u001b[0m\u001b[0;34m\u001b[0m\u001b[0m\n\u001b[0;32m---> 23\u001b[0;31m         \u001b[0;32mif\u001b[0m \u001b[0mtype\u001b[0m\u001b[0;34m(\u001b[0m\u001b[0mgetbooklet\u001b[0m\u001b[0;34m(\u001b[0m\u001b[0mbooklet_id\u001b[0m\u001b[0;34m)\u001b[0m\u001b[0;34m[\u001b[0m\u001b[0;34m'data'\u001b[0m\u001b[0;34m]\u001b[0m\u001b[0;34m[\u001b[0m\u001b[0;34m'relationships'\u001b[0m\u001b[0;34m]\u001b[0m\u001b[0;34m[\u001b[0m\u001b[0;34m'enrollment'\u001b[0m\u001b[0;34m]\u001b[0m\u001b[0;34m[\u001b[0m\u001b[0;34m'data'\u001b[0m\u001b[0;34m]\u001b[0m\u001b[0;34m)\u001b[0m \u001b[0;34m==\u001b[0m \u001b[0mdict\u001b[0m\u001b[0;34m:\u001b[0m\u001b[0;34m\u001b[0m\u001b[0m\n\u001b[0m\u001b[1;32m     24\u001b[0m             \u001b[0menr\u001b[0m \u001b[0;34m=\u001b[0m \u001b[0mgetbooklet\u001b[0m\u001b[0;34m(\u001b[0m\u001b[0mbooklet_id\u001b[0m\u001b[0;34m)\u001b[0m\u001b[0;34m[\u001b[0m\u001b[0;34m'data'\u001b[0m\u001b[0;34m]\u001b[0m\u001b[0;34m[\u001b[0m\u001b[0;34m'relationships'\u001b[0m\u001b[0;34m]\u001b[0m\u001b[0;34m[\u001b[0m\u001b[0;34m'enrollment'\u001b[0m\u001b[0;34m]\u001b[0m\u001b[0;34m[\u001b[0m\u001b[0;34m'data'\u001b[0m\u001b[0;34m]\u001b[0m\u001b[0;34m[\u001b[0m\u001b[0;34m'id'\u001b[0m\u001b[0;34m]\u001b[0m\u001b[0;34m\u001b[0m\u001b[0m\n\u001b[1;32m     25\u001b[0m             \u001b[0mg\u001b[0m\u001b[0;34m.\u001b[0m\u001b[0mwrite\u001b[0m\u001b[0;34m(\u001b[0m\u001b[0;34m\"### Enrollment:\"\u001b[0m \u001b[0;34m+\u001b[0m \u001b[0menr\u001b[0m \u001b[0;34m+\u001b[0m\u001b[0;34m\"\\n\"\u001b[0m\u001b[0;34m)\u001b[0m\u001b[0;34m\u001b[0m\u001b[0m\n",
      "\u001b[0;32m<ipython-input-7-57d83689f33e>\u001b[0m in \u001b[0;36mgetbooklet\u001b[0;34m(e8)\u001b[0m\n\u001b[1;32m      1\u001b[0m \u001b[0;31m# GET /api/booklets/{booklet-id}\u001b[0m\u001b[0;34m\u001b[0m\u001b[0;34m\u001b[0m\u001b[0m\n\u001b[1;32m      2\u001b[0m \u001b[0;32mdef\u001b[0m \u001b[0mgetbooklet\u001b[0m\u001b[0;34m(\u001b[0m\u001b[0me8\u001b[0m\u001b[0;34m)\u001b[0m\u001b[0;34m:\u001b[0m\u001b[0;34m\u001b[0m\u001b[0m\n\u001b[0;32m----> 3\u001b[0;31m     \u001b[0mbooklet_resp\u001b[0m \u001b[0;34m=\u001b[0m \u001b[0murlopen\u001b[0m\u001b[0;34m(\u001b[0m\u001b[0mcm\u001b[0m \u001b[0;34m+\u001b[0m \u001b[0;34m'/api/booklets/'\u001b[0m \u001b[0;34m+\u001b[0m \u001b[0me8\u001b[0m \u001b[0;34m+\u001b[0m \u001b[0;34m'?api_key='\u001b[0m \u001b[0;34m+\u001b[0m \u001b[0mapiKey\u001b[0m \u001b[0;34m)\u001b[0m\u001b[0;34m.\u001b[0m\u001b[0mread\u001b[0m\u001b[0;34m(\u001b[0m\u001b[0;34m)\u001b[0m\u001b[0;34m.\u001b[0m\u001b[0mdecode\u001b[0m\u001b[0;34m(\u001b[0m\u001b[0;34m'utf8'\u001b[0m\u001b[0;34m)\u001b[0m\u001b[0;34m\u001b[0m\u001b[0m\n\u001b[0m\u001b[1;32m      4\u001b[0m     \u001b[0;32mreturn\u001b[0m \u001b[0mjson\u001b[0m\u001b[0;34m.\u001b[0m\u001b[0mloads\u001b[0m\u001b[0;34m(\u001b[0m\u001b[0mbooklet_resp\u001b[0m\u001b[0;34m)\u001b[0m\u001b[0;34m\u001b[0m\u001b[0m\n\u001b[1;32m      5\u001b[0m \u001b[0;34m\u001b[0m\u001b[0m\n",
      "\u001b[0;31mNameError\u001b[0m: name 'cm' is not defined"
     ]
    }
   ],
   "source": [
    "## Export links to front page images with associated booklet and student information (if available)\n",
    "## Print as output to this cell. \n",
    "## Accumulate output in front_pages.md file\n",
    "\n",
    "## Top Matter: Reminder of which assessment we are examining\n",
    "g = open('front_pages.md', 'w')\n",
    "print(\"assessment_slug:\" + assessment_slug + \"; front pages \\n\")\n",
    "print('<img src=\"https://crowdmark-com.s3.amazonaws.com/website/images/visual-identity/crowdmark-logo-dark.png\" alt=\"Crowdmark logo\" width =\"180\" align=\"right\">')\n",
    "g.write(\"assessment_slug:\" + assessment_slug + \"; front pages \\n\")\n",
    "for booklet in booklets:\n",
    "    booklet_id = booklet['id']\n",
    "    ## Information we know about the booklet we are examining.\n",
    "    \n",
    "    res = api_get('/booklets/' + booklet_id + '/pages')\n",
    "    \n",
    "    ## Set an exception to ignore empty booklets\n",
    "    if res['data'] != []:\n",
    "        g.write(\"--------------------------- \\n\")\n",
    "        print(\"--------------------------- \\n\")\n",
    "        g.write(\"### Booklet:\" + booklet_id +\"\\n\") \n",
    "        print(\"### Booklet:\" + booklet_id +\"\\n\") \n",
    "        ## Set an exception to ignore empty records\n",
    "        if type(getbooklet(booklet_id)['data']['relationships']['enrollment']['data']) == dict: \n",
    "            enr = getbooklet(booklet_id)['data']['relationships']['enrollment']['data']['id']\n",
    "            g.write(\"### Enrollment:\" + enr +\"\\n\")\n",
    "            print(\"### Enrollment:\" + enr +\"\\n\")\n",
    "            ## Exception handling for empty records\n",
    "            if getenrollment(enr)['data']['attributes']['metadata'] != {}:\n",
    "                student = getenrollment(enr)['data']['attributes']['metadata']\n",
    "                g.write(\"### Student:\" + student['Last Name'] + \",\" + student['First Name'] + \"\\n\")\n",
    "                print(\"### Student:\" + student['Last Name'] + \",\" + student['First Name'] + \"\\n\")\n",
    "        # print(booklet)\n",
    "        ## Note: the choice of res['data'][ZERO] points at the front page of the booklet.\n",
    "        ## Variation: Change to res['data'][2] to extract third pages of all booklets.\n",
    "        ## Print in Markdown format.\n",
    "        g.write(\"![\" + booklet_id + \"](\" + res['data'][0]['attributes']['url'] + \")\\n\")\n",
    "        print((\"![\" + booklet_id + \"](\" + res['data'][0]['attributes']['url'] + \")\\n\"))\n",
    "        ## Print as clickable thumbnails when rendered in HTML\n",
    "        print('<a href=\"' + res['data'][0]['attributes']['url'] + '\"><img src =\"' \n",
    "                 + res['data'][0]['attributes']['url'] + '\" width=\"400\"></a>\\n')\n",
    "        g.write('<a href=\"' + res['data'][0]['attributes']['url'] + '\"><img src =\"' \n",
    "                 + res['data'][0]['attributes']['url'] + '\" width=\"400\"></a>\\n')\n",
    "                    \n",
    "g.close()"
   ]
  },
  {
   "cell_type": "markdown",
   "metadata": {},
   "source": [
    "## All Pages"
   ]
  },
  {
   "cell_type": "markdown",
   "metadata": {},
   "source": [
    "The next cell will generate a Markdown file with the frong page images from the assessment. The Markdown file can be converted to HTML. The embedded image links will expire a few hours after they were generated."
   ]
  },
  {
   "cell_type": "code",
   "execution_count": null,
   "metadata": {},
   "outputs": [],
   "source": [
    "## Export links to all page images with associated booklet and student information (if available)\n",
    "## Print as output to this cell. \n",
    "## Accumulate output in front_pages.md file\n",
    "## Experiments with this script suggest that the output may need to be paginated! It may crash the analysis server.\n",
    "\n",
    "## Top Matter: Reminder of which assessment we are examining\n",
    "g = open('all_pages.md', 'w')\n",
    "print(\"assessment_slug:\" + assessment_slug + \"; front pages \\n\")\n",
    "print('<img src=\"https://crowdmark-com.s3.amazonaws.com/website/images/visual-identity/crowdmark-logo-dark.png\" alt=\"Crowdmark logo\" width =\"180\" align=\"right\">')\n",
    "g.write(\"assessment_slug:\" + assessment_slug + \"; front pages \\n\")\n",
    "for booklet in booklets:\n",
    "    booklet_id = booklet['id']\n",
    "    ## Information we know about the booklet we are examining.\n",
    "    \n",
    "    res = api_get('/booklets/' + booklet_id + '/pages')\n",
    "    \n",
    "    \n",
    "    ## Set an exception to ignore empty booklets\n",
    "    if res['data'] != []:\n",
    "        g.write(\"--------------------------- \\n\")\n",
    "        print(\"--------------------------- \\n\")\n",
    "        g.write(\"### Booklet:\" + booklet_id +\"\\n\") \n",
    "        print(\"### Booklet:\" + booklet_id +\"\\n\") \n",
    "        ## Set an exception to ignore empty records\n",
    "        if type(getbooklet(booklet_id)['data']['relationships']['enrollment']['data']) == dict: \n",
    "            enr = getbooklet(booklet_id)['data']['relationships']['enrollment']['data']['id']\n",
    "            g.write(\"### Enrollment:\" + enr +\"\\n\")\n",
    "            print(\"### Enrollment:\" + enr +\"\\n\")\n",
    "            if getenrollment(enr)['data']['attributes']['metadata'] != {}:\n",
    "                student = getenrollment(enr)['data']['attributes']['metadata']\n",
    "                g.write(\"### Student:\" + student['Last Name'] + \",\" + student['First Name'] + \"\\n\")\n",
    "                print(\"### Student:\" + student['Last Name'] + \",\" + student['First Name'] + \"\\n\")\n",
    "        # print(booklet)\n",
    "        print(\"<ul><br>\\n\")\n",
    "        g.write(\"<ul>\\n\")\n",
    "        for j in range(0,len(res['data'])):\n",
    "        ## Loop through all pages in the booklet\n",
    "            g.write(\"![\" + booklet_id + \"](\" + res['data'][j]['attributes']['url'] + \")\\n\")\n",
    "            ## Note: the choice of res['data'][ZERO] points at the front page of the booklet.\n",
    "            ## Print in Markdown format.\n",
    "            print((\"![\" + booklet_id + \"](\" + res['data'][j]['attributes']['url'] + \")\\n\"))\n",
    "            ## Print as clickable thumbnails when rendered in HTML\n",
    "            print('<a href=\"' + res['data'][j]['attributes']['url'] + '\"><img src =\"' \n",
    "                 + res['data'][j]['attributes']['url'] + '\" width=\"200\"></a>\\n')\n",
    "        print(\"</ul>\\n\")\n",
    "        g.write(\"</ul><br>\\n\")\n",
    "                    \n",
    "g.close()"
   ]
  },
  {
   "cell_type": "code",
   "execution_count": null,
   "metadata": {},
   "outputs": [],
   "source": []
  }
 ],
 "metadata": {
  "kernelspec": {
   "display_name": "Python 3",
   "language": "python",
   "name": "python3"
  },
  "language_info": {
   "codemirror_mode": {
    "name": "ipython",
    "version": 3
   },
   "file_extension": ".py",
   "mimetype": "text/x-python",
   "name": "python",
   "nbconvert_exporter": "python",
   "pygments_lexer": "ipython3",
   "version": "3.6.5"
  }
 },
 "nbformat": 4,
 "nbformat_minor": 1
}
