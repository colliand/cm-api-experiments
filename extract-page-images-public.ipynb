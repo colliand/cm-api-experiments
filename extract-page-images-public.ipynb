{
 "cells": [
  {
   "cell_type": "markdown",
   "metadata": {},
   "source": [
    "<img src=\"https://crowdmark-com.s3.amazonaws.com/website/images/visual-identity/crowdmark-logo-dark.png\" alt=\"Crowdmark logo\" width =\"180\" align=\"right\">\n",
    "\n",
    "# Page Images Extracted for Local Storage\n",
    "\n",
    "[Crowdmark API Guide (draft version)](https://gist.github.com/heycarsten/46060b3cfce1eaeed325ddd3cdb79f0b)\n",
    "\n",
    "[Draft Documentation Site](https://crowdmark-api-docs.surge.sh/readme/)"
   ]
  },
  {
   "cell_type": "markdown",
   "metadata": {},
   "source": [
    "**Goals:** Use the Crowdmark API to\n",
    "\n",
    "1. Extract front page images for all students from a given assessment on Crowdmark.\n",
    "2. Associate front page images with the corresponding student metadata.\n",
    "3. Extract all page images for all booklets as clickable thumbnails\n"
   ]
  },
  {
   "cell_type": "code",
   "execution_count": 1,
   "metadata": {},
   "outputs": [],
   "source": [
    "## We will bring the data from Crowdmark into this notebook by importing JSON.\n",
    "# import pandas as pd ## We don't currently use pandas.\n",
    "# from pandas.io.json import json_normalize\n",
    "import json\n",
    "import os"
   ]
  },
  {
   "cell_type": "markdown",
   "metadata": {},
   "source": [
    "## Enter your Crowdmark API key"
   ]
  },
  {
   "cell_type": "code",
   "execution_count": 2,
   "metadata": {},
   "outputs": [],
   "source": [
    "## Execute this cell to generate a request for your API key.\n",
    "## Paste your api key into the text field (and press enter); Comment out the next line to define your API Key.\n",
    "# api = input(\"What is your Crowdmark API key:\")"
   ]
  },
  {
   "cell_type": "code",
   "execution_count": 6,
   "metadata": {},
   "outputs": [],
   "source": [
    "## This cell writes the content of `api` to the file .crowdmark-key.\n",
    "\n",
    "# with open(\".crowdmark-key\", \"w\") as text_file:\n",
    "#   print(f\"{api}\", file=text_file)"
   ]
  },
  {
   "cell_type": "code",
   "execution_count": 3,
   "metadata": {},
   "outputs": [],
   "source": [
    "# This cell reads in the .crowdmark-key file and saves it as apiKey.\n",
    "# The API key allows the computer hosting your Jupyter notebook to programmatically access data from Crowdmark.\n",
    "with open(\".crowdmark-key\", 'r') as f:\n",
    "    apiKey = f.read().rstrip()\n",
    "# apiKey"
   ]
  },
  {
   "cell_type": "markdown",
   "metadata": {},
   "source": [
    "## Connect to Scores Data on Crowdmark"
   ]
  },
  {
   "cell_type": "markdown",
   "metadata": {},
   "source": [
    "## Authentication with Crowdmark API Key"
   ]
  },
  {
   "cell_type": "code",
   "execution_count": 4,
   "metadata": {},
   "outputs": [],
   "source": [
    "## Carsten Nielsen helped me with pagination.\n",
    "def api_get(path):\n",
    "    req = Request('https://app.crowdmark.com/api' + path)\n",
    "    req.add_header('Authorization', 'Token token=\"' + apiKey + '\"')\n",
    "    res = urlopen(req).read().decode('utf8')\n",
    "    return json.loads(res)"
   ]
  },
  {
   "cell_type": "markdown",
   "metadata": {},
   "source": [
    "## Specifying the Assessment for Analysis\n",
    "\n",
    "![assessment_slug](https://wwejubwfy.s3.amazonaws.com/WUSTL_Demonstration_Assessment__Crowdmark_2017-01-07_15-58-14.png)"
   ]
  },
  {
   "cell_type": "code",
   "execution_count": 5,
   "metadata": {},
   "outputs": [],
   "source": [
    "# Define the assessment to investigate.\n",
    "# Select the assessment slug from inside the URL from the assessment's dashboard on Crowdamrk.\n",
    "# https://app.crowdmark.com/exams/<assessment-slug>/dashboard\n",
    "assessment_slug = 'math-sample-assessment-fe8c2'"
   ]
  },
  {
   "cell_type": "code",
   "execution_count": 6,
   "metadata": {},
   "outputs": [],
   "source": [
    "# GET /api/booklets/{booklet-id}\n",
    "def getbooklet(e8):\n",
    "    booklet_resp = urlopen(cm + '/api/booklets/' + e8 + '?api_key=' + apiKey ).read().decode('utf8')\n",
    "    return json.loads(booklet_resp)\n",
    "\n",
    "\n",
    "# GET /api/enrollments/{enrollment-id}\n",
    "def getenrollment(e2):\n",
    "    enrollment_resp = urlopen(cm + '/api/enrollments/' + e2 + '?api_key=' + apiKey ).read().decode('utf8')\n",
    "    return json.loads(enrollment_resp)\n"
   ]
  },
  {
   "cell_type": "markdown",
   "metadata": {},
   "source": [
    "## Accessing the Data"
   ]
  },
  {
   "cell_type": "code",
   "execution_count": 7,
   "metadata": {},
   "outputs": [
    {
     "name": "stdout",
     "output_type": "stream",
     "text": [
      "Getting page 1...\n",
      "10\n"
     ]
    }
   ],
   "source": [
    "## Pull in Booklets Data on Assessment (with assessment_slug) for Analysis in this Notebook\n",
    "## Carsten Nielsen helped me with pagination of the data payload from Crowdmark.\n",
    "from urllib.request import urlopen, Request\n",
    "\n",
    "page = 1\n",
    "booklets = []\n",
    "\n",
    "while True:\n",
    "    print('Getting page ' + str(page) + '...')\n",
    "    res = api_get('/assessments/' + assessment_slug + '/booklets?page[number]=' + str(page))\n",
    "    booklets.extend(res['data'])\n",
    "    if not res['links'].get('next'): break\n",
    "    page += 1\n",
    "\n",
    "print(len(booklets))\n",
    "\n",
    "## Our data set has been pulled from bookletsURL and is now encoded as python dictionary in `booklets`."
   ]
  },
  {
   "cell_type": "markdown",
   "metadata": {},
   "source": [
    "## Exploration\n",
    "\n",
    "Let's play around a bit to see what's in the data payload."
   ]
  },
  {
   "cell_type": "code",
   "execution_count": 9,
   "metadata": {
    "scrolled": true
   },
   "outputs": [
    {
     "data": {
      "text/plain": [
       "{'type': 'booklet',\n",
       " 'id': '2752174',\n",
       " 'links': {'self': '/api/booklets/2752174'},\n",
       " 'attributes': {'number': 4,\n",
       "  'total-points': 18.0,\n",
       "  'created-at': '2017-07-20T14:38:09.461Z',\n",
       "  'updated-at': '2017-08-29T06:23:21.379Z'},\n",
       " 'relationships': {'enrollment': {'data': None},\n",
       "  'assessment': {'data': {'type': 'assessment',\n",
       "    'id': 'math-sample-assessment-fe8c2'},\n",
       "   'links': {'self': '/api/assessments/math-sample-assessment-fe8c2'}},\n",
       "  'responses': {'links': {'related': '/api/booklets/2752174/responses'},\n",
       "   'meta': {'count': 3}}}}"
      ]
     },
     "execution_count": 9,
     "metadata": {},
     "output_type": "execute_result"
    }
   ],
   "source": [
    "booklets[6]"
   ]
  },
  {
   "cell_type": "code",
   "execution_count": 11,
   "metadata": {},
   "outputs": [
    {
     "data": {
      "text/plain": [
       "18.0"
      ]
     },
     "execution_count": 11,
     "metadata": {},
     "output_type": "execute_result"
    }
   ],
   "source": [
    "booklets[6]['attributes']['total-points']"
   ]
  },
  {
   "cell_type": "markdown",
   "metadata": {},
   "source": [
    "The 8th booklet record contains information related to the 8th booklet. For example, we know that the `enrollment` associated with the 8th booklet has a particular identification number."
   ]
  },
  {
   "cell_type": "markdown",
   "metadata": {},
   "source": [
    "***\n",
    "***"
   ]
  },
  {
   "cell_type": "markdown",
   "metadata": {},
   "source": [
    "# Front Pages"
   ]
  },
  {
   "cell_type": "markdown",
   "metadata": {},
   "source": [
    "The next cell will generate a Markdown file with the frong page images from the assessment. The Markdown file can be converted to HTML. The embedded image links will expire a few hours after they were generated."
   ]
  },
  {
   "cell_type": "code",
   "execution_count": 12,
   "metadata": {},
   "outputs": [
    {
     "name": "stdout",
     "output_type": "stream",
     "text": [
      "assessment_slug:math-sample-assessment-fe8c2; front pages \n",
      "\n",
      "<img src=\"https://crowdmark-com.s3.amazonaws.com/website/images/visual-identity/crowdmark-logo-dark.png\" alt=\"Crowdmark logo\" width =\"180\" align=\"right\">\n",
      "--------------------------- \n",
      "\n",
      "### Booklet:2752172\n",
      "\n",
      "### Enrollment:2496808\n",
      "\n",
      "### Student:e.noether\n",
      "\n",
      "![2752172](https://assets.crowdmark.com/exam_pages/3894c4e0-30ac-4ed7-8fc4-f99a1f465afa?Expires=1631152734&Signature=bbazS-r6siIlg4xdwhT9tMoGbfy8SELj8U5LEoR018PLAv7SNzAThqMMHAUS8S5U9sHmcxRB6aufXDpLtdrsK37nWMnCnFuS422qoreM~VqraKqsuC18~zvSInUkFszWIgjyt6nfUgsMuS5wI-tg0Tv1ocryh5Qe-2qSOUFKplLtTDQF5p0wP3jlDhDvYMu-~wamLi6q98vhozq-YtqkMYa0rGtaR5RlTw8c6~kOQcrDyNV89LDCtuhM1n5jvnYE8WvZjejg7bCJMLrvylSDAOLR51QKDpVjel5tSZ3Z59ZC96OScxH1o7loRMASe2PzPZslhbWtVDZr9nHZP-rM9w__&Key-Pair-Id=KSXX7H7QURW4X)\n",
      "\n",
      "<a href=\"https://assets.crowdmark.com/exam_pages/3894c4e0-30ac-4ed7-8fc4-f99a1f465afa?Expires=1631152734&Signature=bbazS-r6siIlg4xdwhT9tMoGbfy8SELj8U5LEoR018PLAv7SNzAThqMMHAUS8S5U9sHmcxRB6aufXDpLtdrsK37nWMnCnFuS422qoreM~VqraKqsuC18~zvSInUkFszWIgjyt6nfUgsMuS5wI-tg0Tv1ocryh5Qe-2qSOUFKplLtTDQF5p0wP3jlDhDvYMu-~wamLi6q98vhozq-YtqkMYa0rGtaR5RlTw8c6~kOQcrDyNV89LDCtuhM1n5jvnYE8WvZjejg7bCJMLrvylSDAOLR51QKDpVjel5tSZ3Z59ZC96OScxH1o7loRMASe2PzPZslhbWtVDZr9nHZP-rM9w__&Key-Pair-Id=KSXX7H7QURW4X\"><img src =\"https://assets.crowdmark.com/exam_pages/3894c4e0-30ac-4ed7-8fc4-f99a1f465afa?Expires=1631152734&Signature=bbazS-r6siIlg4xdwhT9tMoGbfy8SELj8U5LEoR018PLAv7SNzAThqMMHAUS8S5U9sHmcxRB6aufXDpLtdrsK37nWMnCnFuS422qoreM~VqraKqsuC18~zvSInUkFszWIgjyt6nfUgsMuS5wI-tg0Tv1ocryh5Qe-2qSOUFKplLtTDQF5p0wP3jlDhDvYMu-~wamLi6q98vhozq-YtqkMYa0rGtaR5RlTw8c6~kOQcrDyNV89LDCtuhM1n5jvnYE8WvZjejg7bCJMLrvylSDAOLR51QKDpVjel5tSZ3Z59ZC96OScxH1o7loRMASe2PzPZslhbWtVDZr9nHZP-rM9w__&Key-Pair-Id=KSXX7H7QURW4X\" width=\"400\"></a>\n",
      "\n",
      "--------------------------- \n",
      "\n",
      "### Booklet:2752176\n",
      "\n",
      "### Enrollment:2496809\n",
      "\n",
      "### Student:euler\n",
      "\n",
      "![2752176](https://assets.crowdmark.com/exam_pages/9ab1855d-721b-435f-bcd5-795d0bc8040a?Expires=1631152738&Signature=kprhZLlXibDLDbFtGBXMXs-a1nJyvqeRcROKV-6pWlvhhJD5cJRUNwe618St2Z0SX8c5wbfzQOxL9g~BOv-hz0krNr8sHeV~A7HzHILAD836W-C1uQD6A1XCQV-sOb~oLeG9cWyiR8RMgIbYpPpgDSGrQuFCvB3jhTjfcEJIFbkLHuOGQYnYOiW~chXyRW4KS8wB2-bU4VLu~z0dCqFizEM1WXrSd7HT1OXtKgJWL3DC5vaXv5jZ9oiQmkUlB1rRdp978IJIWgfNNDwnA-MbtZE6ue9n-FFnsYU9w7UISYhvGLmXCYE35RZ5T-Yl-qDF4Ll9DheEtEg0TqRbXG1L8g__&Key-Pair-Id=KSXX7H7QURW4X)\n",
      "\n",
      "<a href=\"https://assets.crowdmark.com/exam_pages/9ab1855d-721b-435f-bcd5-795d0bc8040a?Expires=1631152738&Signature=kprhZLlXibDLDbFtGBXMXs-a1nJyvqeRcROKV-6pWlvhhJD5cJRUNwe618St2Z0SX8c5wbfzQOxL9g~BOv-hz0krNr8sHeV~A7HzHILAD836W-C1uQD6A1XCQV-sOb~oLeG9cWyiR8RMgIbYpPpgDSGrQuFCvB3jhTjfcEJIFbkLHuOGQYnYOiW~chXyRW4KS8wB2-bU4VLu~z0dCqFizEM1WXrSd7HT1OXtKgJWL3DC5vaXv5jZ9oiQmkUlB1rRdp978IJIWgfNNDwnA-MbtZE6ue9n-FFnsYU9w7UISYhvGLmXCYE35RZ5T-Yl-qDF4Ll9DheEtEg0TqRbXG1L8g__&Key-Pair-Id=KSXX7H7QURW4X\"><img src =\"https://assets.crowdmark.com/exam_pages/9ab1855d-721b-435f-bcd5-795d0bc8040a?Expires=1631152738&Signature=kprhZLlXibDLDbFtGBXMXs-a1nJyvqeRcROKV-6pWlvhhJD5cJRUNwe618St2Z0SX8c5wbfzQOxL9g~BOv-hz0krNr8sHeV~A7HzHILAD836W-C1uQD6A1XCQV-sOb~oLeG9cWyiR8RMgIbYpPpgDSGrQuFCvB3jhTjfcEJIFbkLHuOGQYnYOiW~chXyRW4KS8wB2-bU4VLu~z0dCqFizEM1WXrSd7HT1OXtKgJWL3DC5vaXv5jZ9oiQmkUlB1rRdp978IJIWgfNNDwnA-MbtZE6ue9n-FFnsYU9w7UISYhvGLmXCYE35RZ5T-Yl-qDF4Ll9DheEtEg0TqRbXG1L8g__&Key-Pair-Id=KSXX7H7QURW4X\" width=\"400\"></a>\n",
      "\n",
      "--------------------------- \n",
      "\n",
      "### Booklet:2752173\n",
      "\n",
      "### Enrollment:2496805\n",
      "\n",
      "### Student:r.feynman\n",
      "\n",
      "![2752173](https://assets.crowdmark.com/exam_pages/5cd68428-efde-46f1-bd57-ba34151bd5f0?Expires=1631152742&Signature=Jg61dR85h9kGXRSOlbz-9Jw9a-rzn3ay4olox1HibbQLo00lTAGBhLpBnDdfFVbfDkVUdFVbK~aVR056gwsrd2v2MsEeKVwbp42FHFfC~5xfweS29FNaWSPeIc~AUBTr28T-qNscD~iheg9P5S60rPuzlOcTU9D5Vr9oz2-ZGLLXtExI1R-SwlbcqbxnJVC0Zmb6QQUyBbfkxnkVDwa6FrusgOzlP6F0lM59HsstQW35dxe5ZHB0061fUGKHGLArpQOwXCVl4fMRcC2-~EzHwiP8nHmXMVBSe6kqZJ34THSSoOogegVnmSOQb4iRxV9bc7hJqxEiokC~9S9N4pgIDw__&Key-Pair-Id=KSXX7H7QURW4X)\n",
      "\n",
      "<a href=\"https://assets.crowdmark.com/exam_pages/5cd68428-efde-46f1-bd57-ba34151bd5f0?Expires=1631152742&Signature=Jg61dR85h9kGXRSOlbz-9Jw9a-rzn3ay4olox1HibbQLo00lTAGBhLpBnDdfFVbfDkVUdFVbK~aVR056gwsrd2v2MsEeKVwbp42FHFfC~5xfweS29FNaWSPeIc~AUBTr28T-qNscD~iheg9P5S60rPuzlOcTU9D5Vr9oz2-ZGLLXtExI1R-SwlbcqbxnJVC0Zmb6QQUyBbfkxnkVDwa6FrusgOzlP6F0lM59HsstQW35dxe5ZHB0061fUGKHGLArpQOwXCVl4fMRcC2-~EzHwiP8nHmXMVBSe6kqZJ34THSSoOogegVnmSOQb4iRxV9bc7hJqxEiokC~9S9N4pgIDw__&Key-Pair-Id=KSXX7H7QURW4X\"><img src =\"https://assets.crowdmark.com/exam_pages/5cd68428-efde-46f1-bd57-ba34151bd5f0?Expires=1631152742&Signature=Jg61dR85h9kGXRSOlbz-9Jw9a-rzn3ay4olox1HibbQLo00lTAGBhLpBnDdfFVbfDkVUdFVbK~aVR056gwsrd2v2MsEeKVwbp42FHFfC~5xfweS29FNaWSPeIc~AUBTr28T-qNscD~iheg9P5S60rPuzlOcTU9D5Vr9oz2-ZGLLXtExI1R-SwlbcqbxnJVC0Zmb6QQUyBbfkxnkVDwa6FrusgOzlP6F0lM59HsstQW35dxe5ZHB0061fUGKHGLArpQOwXCVl4fMRcC2-~EzHwiP8nHmXMVBSe6kqZJ34THSSoOogegVnmSOQb4iRxV9bc7hJqxEiokC~9S9N4pgIDw__&Key-Pair-Id=KSXX7H7QURW4X\" width=\"400\"></a>\n",
      "\n",
      "--------------------------- \n",
      "\n",
      "### Booklet:2752179\n",
      "\n",
      "### Enrollment:2496803\n",
      "\n",
      "### Student:yalow\n",
      "\n",
      "![2752179](https://assets.crowdmark.com/exam_pages/d97e38cd-48e1-41d7-a51e-47cc80b07dd5?Expires=1631152746&Signature=tRxNPVwLZ4FZ1Q-7s6OuS36DWdsjYxQD01Ni-aMRUXvy-RzQJQf63bBPZin6XYG72rgOEY4wuITRCyfg8DrjM2TU45lLxtVoLaz-3HbhTvbSphTem~cr8BTEOJtkvkme4InVStGXokgiQX6geaVmU7PVxBliPiSmtY-FcBYKfISrqEwkHHKyz1mFc1G3TjtbQImaN9737rR8AGPcCzFqprpcIPpMcIkRHyi7~9KF-8Cn-MitiN~tMfuNNWc8WvuPZZseEN~oeBf4sjRYOkDYs227tapKQd62Q1qR-KDb6IGfifub7IcW6kseO2oLa2EKTqDzKCGuCccXj~cnIKlnPQ__&Key-Pair-Id=KSXX7H7QURW4X)\n",
      "\n",
      "<a href=\"https://assets.crowdmark.com/exam_pages/d97e38cd-48e1-41d7-a51e-47cc80b07dd5?Expires=1631152746&Signature=tRxNPVwLZ4FZ1Q-7s6OuS36DWdsjYxQD01Ni-aMRUXvy-RzQJQf63bBPZin6XYG72rgOEY4wuITRCyfg8DrjM2TU45lLxtVoLaz-3HbhTvbSphTem~cr8BTEOJtkvkme4InVStGXokgiQX6geaVmU7PVxBliPiSmtY-FcBYKfISrqEwkHHKyz1mFc1G3TjtbQImaN9737rR8AGPcCzFqprpcIPpMcIkRHyi7~9KF-8Cn-MitiN~tMfuNNWc8WvuPZZseEN~oeBf4sjRYOkDYs227tapKQd62Q1qR-KDb6IGfifub7IcW6kseO2oLa2EKTqDzKCGuCccXj~cnIKlnPQ__&Key-Pair-Id=KSXX7H7QURW4X\"><img src =\"https://assets.crowdmark.com/exam_pages/d97e38cd-48e1-41d7-a51e-47cc80b07dd5?Expires=1631152746&Signature=tRxNPVwLZ4FZ1Q-7s6OuS36DWdsjYxQD01Ni-aMRUXvy-RzQJQf63bBPZin6XYG72rgOEY4wuITRCyfg8DrjM2TU45lLxtVoLaz-3HbhTvbSphTem~cr8BTEOJtkvkme4InVStGXokgiQX6geaVmU7PVxBliPiSmtY-FcBYKfISrqEwkHHKyz1mFc1G3TjtbQImaN9737rR8AGPcCzFqprpcIPpMcIkRHyi7~9KF-8Cn-MitiN~tMfuNNWc8WvuPZZseEN~oeBf4sjRYOkDYs227tapKQd62Q1qR-KDb6IGfifub7IcW6kseO2oLa2EKTqDzKCGuCccXj~cnIKlnPQ__&Key-Pair-Id=KSXX7H7QURW4X\" width=\"400\"></a>\n",
      "\n",
      "--------------------------- \n",
      "\n",
      "### Booklet:2752171\n",
      "\n",
      "![2752171](https://assets.crowdmark.com/exam_pages/df29616a-a8b1-490a-95ac-1fb8716b7217?Expires=1631152750&Signature=LPues46lJpoRLXQiuuZfFh43c9toeLARBXBs6SqN81skzFGXzg36BxEC~RBG9jPELRtuJRBmJJeBg15ES8urhlesRc5ixKsnJEjoJ9o~8j5h8MfvYYDdp3~oE~Y3XPzYaeNPIKaW0DK6YGU-4AQkLfgyygDEIH22gzD5t733YZosU1NPenlWBma1l4IwXYrSJdi5E1Qk1j1wAUcteys-JK3bizrxXiQv4l2whfF3jZy8D3ez1PWh-t6ovJY5g8XQu4hvdsr-7OeOID7SRd9eFazH9OC75iQtFlWzXoWP4OVon4avuEkSEK~qSSl0pSqPlh3D9o8-tXidlnJ3T7LP5Q__&Key-Pair-Id=KSXX7H7QURW4X)\n",
      "\n",
      "<a href=\"https://assets.crowdmark.com/exam_pages/df29616a-a8b1-490a-95ac-1fb8716b7217?Expires=1631152750&Signature=LPues46lJpoRLXQiuuZfFh43c9toeLARBXBs6SqN81skzFGXzg36BxEC~RBG9jPELRtuJRBmJJeBg15ES8urhlesRc5ixKsnJEjoJ9o~8j5h8MfvYYDdp3~oE~Y3XPzYaeNPIKaW0DK6YGU-4AQkLfgyygDEIH22gzD5t733YZosU1NPenlWBma1l4IwXYrSJdi5E1Qk1j1wAUcteys-JK3bizrxXiQv4l2whfF3jZy8D3ez1PWh-t6ovJY5g8XQu4hvdsr-7OeOID7SRd9eFazH9OC75iQtFlWzXoWP4OVon4avuEkSEK~qSSl0pSqPlh3D9o8-tXidlnJ3T7LP5Q__&Key-Pair-Id=KSXX7H7QURW4X\"><img src =\"https://assets.crowdmark.com/exam_pages/df29616a-a8b1-490a-95ac-1fb8716b7217?Expires=1631152750&Signature=LPues46lJpoRLXQiuuZfFh43c9toeLARBXBs6SqN81skzFGXzg36BxEC~RBG9jPELRtuJRBmJJeBg15ES8urhlesRc5ixKsnJEjoJ9o~8j5h8MfvYYDdp3~oE~Y3XPzYaeNPIKaW0DK6YGU-4AQkLfgyygDEIH22gzD5t733YZosU1NPenlWBma1l4IwXYrSJdi5E1Qk1j1wAUcteys-JK3bizrxXiQv4l2whfF3jZy8D3ez1PWh-t6ovJY5g8XQu4hvdsr-7OeOID7SRd9eFazH9OC75iQtFlWzXoWP4OVon4avuEkSEK~qSSl0pSqPlh3D9o8-tXidlnJ3T7LP5Q__&Key-Pair-Id=KSXX7H7QURW4X\" width=\"400\"></a>\n",
      "\n",
      "--------------------------- \n",
      "\n",
      "### Booklet:2752175\n",
      "\n",
      "![2752175](https://assets.crowdmark.com/exam_pages/541b8c9e-35a8-4755-8463-362ce4c74e6c?Expires=1631152752&Signature=YZTqzsHNJLiTOy3JHcSlnww1HT0mXkZ9za1JsdzgE1bly2OcpqHE70tO8T3FlGOg9t9u36yODscDvETecFQiaSnMQpIyTuXcT7X0whhAgxqaPbEqpOP5NsbpQeUJbXwbnoKqFK4~yx~2w3Nr9a1K4pvH~bHyDdDPYf5-n4MaUTXjo6jqjfknz4TZM8ZNeITGXn07U56PpU-gMhQlotEXQuWozPrwpXEICLyTpmSuBw7BDpQxmqDEDWsxtI72gpUFdgRZvjXISq~1ibIIG15uth1EjXGQibFBKnXn3lvWpR0J15bNqUzTZlD37xUaHzr0nGQ0YbsmCOOR7ukY4wg94w__&Key-Pair-Id=KSXX7H7QURW4X)\n",
      "\n",
      "<a href=\"https://assets.crowdmark.com/exam_pages/541b8c9e-35a8-4755-8463-362ce4c74e6c?Expires=1631152752&Signature=YZTqzsHNJLiTOy3JHcSlnww1HT0mXkZ9za1JsdzgE1bly2OcpqHE70tO8T3FlGOg9t9u36yODscDvETecFQiaSnMQpIyTuXcT7X0whhAgxqaPbEqpOP5NsbpQeUJbXwbnoKqFK4~yx~2w3Nr9a1K4pvH~bHyDdDPYf5-n4MaUTXjo6jqjfknz4TZM8ZNeITGXn07U56PpU-gMhQlotEXQuWozPrwpXEICLyTpmSuBw7BDpQxmqDEDWsxtI72gpUFdgRZvjXISq~1ibIIG15uth1EjXGQibFBKnXn3lvWpR0J15bNqUzTZlD37xUaHzr0nGQ0YbsmCOOR7ukY4wg94w__&Key-Pair-Id=KSXX7H7QURW4X\"><img src =\"https://assets.crowdmark.com/exam_pages/541b8c9e-35a8-4755-8463-362ce4c74e6c?Expires=1631152752&Signature=YZTqzsHNJLiTOy3JHcSlnww1HT0mXkZ9za1JsdzgE1bly2OcpqHE70tO8T3FlGOg9t9u36yODscDvETecFQiaSnMQpIyTuXcT7X0whhAgxqaPbEqpOP5NsbpQeUJbXwbnoKqFK4~yx~2w3Nr9a1K4pvH~bHyDdDPYf5-n4MaUTXjo6jqjfknz4TZM8ZNeITGXn07U56PpU-gMhQlotEXQuWozPrwpXEICLyTpmSuBw7BDpQxmqDEDWsxtI72gpUFdgRZvjXISq~1ibIIG15uth1EjXGQibFBKnXn3lvWpR0J15bNqUzTZlD37xUaHzr0nGQ0YbsmCOOR7ukY4wg94w__&Key-Pair-Id=KSXX7H7QURW4X\" width=\"400\"></a>\n",
      "\n",
      "--------------------------- \n",
      "\n",
      "### Booklet:2752174\n",
      "\n",
      "![2752174](https://assets.crowdmark.com/exam_pages/77bf963e-55be-4d14-8293-42cf07d01fe8?Expires=1631152753&Signature=TLSib12vMlu6C1HXMBC2nR7jMnjzX5KMJYfOQK1pFc0mse82Ipd89cJSAsrWLCbz3Rde6TDiq009mZudt29nfB3YAM-92IqXEd0nPzw7xAwx6mjjfnXuFi6ffng7~U3PupMMTjG60kXoWtDJfr0F5qsJKJOqvAsDiGn-n3orMutsyY7BeQrVidKkoHIKoZh8AJ8mVnYukD4NQNXgmFiCE1WHBDoYbx~X66~Udw5FBMWKq6xnfQWrb6LBbeBTk7aBKpvQcnW-6HCMyewzSaIAsIzWFSGe3K0GJePymklmUt8Z3JePdBmYqQMeJz8CP2dNDMVxxT6QS1gwZk-Jafrsow__&Key-Pair-Id=KSXX7H7QURW4X)\n",
      "\n",
      "<a href=\"https://assets.crowdmark.com/exam_pages/77bf963e-55be-4d14-8293-42cf07d01fe8?Expires=1631152753&Signature=TLSib12vMlu6C1HXMBC2nR7jMnjzX5KMJYfOQK1pFc0mse82Ipd89cJSAsrWLCbz3Rde6TDiq009mZudt29nfB3YAM-92IqXEd0nPzw7xAwx6mjjfnXuFi6ffng7~U3PupMMTjG60kXoWtDJfr0F5qsJKJOqvAsDiGn-n3orMutsyY7BeQrVidKkoHIKoZh8AJ8mVnYukD4NQNXgmFiCE1WHBDoYbx~X66~Udw5FBMWKq6xnfQWrb6LBbeBTk7aBKpvQcnW-6HCMyewzSaIAsIzWFSGe3K0GJePymklmUt8Z3JePdBmYqQMeJz8CP2dNDMVxxT6QS1gwZk-Jafrsow__&Key-Pair-Id=KSXX7H7QURW4X\"><img src =\"https://assets.crowdmark.com/exam_pages/77bf963e-55be-4d14-8293-42cf07d01fe8?Expires=1631152753&Signature=TLSib12vMlu6C1HXMBC2nR7jMnjzX5KMJYfOQK1pFc0mse82Ipd89cJSAsrWLCbz3Rde6TDiq009mZudt29nfB3YAM-92IqXEd0nPzw7xAwx6mjjfnXuFi6ffng7~U3PupMMTjG60kXoWtDJfr0F5qsJKJOqvAsDiGn-n3orMutsyY7BeQrVidKkoHIKoZh8AJ8mVnYukD4NQNXgmFiCE1WHBDoYbx~X66~Udw5FBMWKq6xnfQWrb6LBbeBTk7aBKpvQcnW-6HCMyewzSaIAsIzWFSGe3K0GJePymklmUt8Z3JePdBmYqQMeJz8CP2dNDMVxxT6QS1gwZk-Jafrsow__&Key-Pair-Id=KSXX7H7QURW4X\" width=\"400\"></a>\n",
      "\n",
      "--------------------------- \n",
      "\n",
      "### Booklet:2752177\n",
      "\n",
      "![2752177](https://assets.crowdmark.com/exam_pages/2eb5c8d8-70e4-4175-95ce-ab4a05e4c355?Expires=1631152755&Signature=jzVENxTfWh0meQWezJiUvW3r4nBhpPuaE1UNiDl4KUaw2lR8StEEDFJhqSulxD5r9XRY3N5oOhVB~MpZf2lg~ZGYS1ELMfF2XDOOSMX1cwMuWe5~FHjxDkZNCN9SgBQOpX~gXL7iSs9n9oFyRW2DcczHBXwXCBUKyM1IeBDtfauM7SgGENmjIgJT4Qzm6A2ZEaNmBEe7XxITn3G-LGxZIrQGTxzTu4uc8BxkMOmPg32lj9INpVYNXZ6Lq41IqvJ7q1vt4EE7NxeZzwRDD6tYxCCMRRy3bzBB3S06bvCiPAgA2Cv3oB-myliB3PUj~WkqBln4mbyGMhec9l5nBLe-Ng__&Key-Pair-Id=KSXX7H7QURW4X)\n",
      "\n",
      "<a href=\"https://assets.crowdmark.com/exam_pages/2eb5c8d8-70e4-4175-95ce-ab4a05e4c355?Expires=1631152755&Signature=jzVENxTfWh0meQWezJiUvW3r4nBhpPuaE1UNiDl4KUaw2lR8StEEDFJhqSulxD5r9XRY3N5oOhVB~MpZf2lg~ZGYS1ELMfF2XDOOSMX1cwMuWe5~FHjxDkZNCN9SgBQOpX~gXL7iSs9n9oFyRW2DcczHBXwXCBUKyM1IeBDtfauM7SgGENmjIgJT4Qzm6A2ZEaNmBEe7XxITn3G-LGxZIrQGTxzTu4uc8BxkMOmPg32lj9INpVYNXZ6Lq41IqvJ7q1vt4EE7NxeZzwRDD6tYxCCMRRy3bzBB3S06bvCiPAgA2Cv3oB-myliB3PUj~WkqBln4mbyGMhec9l5nBLe-Ng__&Key-Pair-Id=KSXX7H7QURW4X\"><img src =\"https://assets.crowdmark.com/exam_pages/2eb5c8d8-70e4-4175-95ce-ab4a05e4c355?Expires=1631152755&Signature=jzVENxTfWh0meQWezJiUvW3r4nBhpPuaE1UNiDl4KUaw2lR8StEEDFJhqSulxD5r9XRY3N5oOhVB~MpZf2lg~ZGYS1ELMfF2XDOOSMX1cwMuWe5~FHjxDkZNCN9SgBQOpX~gXL7iSs9n9oFyRW2DcczHBXwXCBUKyM1IeBDtfauM7SgGENmjIgJT4Qzm6A2ZEaNmBEe7XxITn3G-LGxZIrQGTxzTu4uc8BxkMOmPg32lj9INpVYNXZ6Lq41IqvJ7q1vt4EE7NxeZzwRDD6tYxCCMRRy3bzBB3S06bvCiPAgA2Cv3oB-myliB3PUj~WkqBln4mbyGMhec9l5nBLe-Ng__&Key-Pair-Id=KSXX7H7QURW4X\" width=\"400\"></a>\n",
      "\n",
      "--------------------------- \n",
      "\n",
      "### Booklet:2752178\n",
      "\n",
      "![2752178](https://assets.crowdmark.com/exam_pages/6234e959-dcec-4af0-b6f4-9b66248488d8?Expires=1631152756&Signature=UUc7RaD3H85DtggNbJBtWmRJntAV6R4Zl0VSpQbKLQaCz7q5ppQWPK2WYQuFwD0PFRKxjH-RUFWXsREpNgFvbVkyv1~Nz5EDh-ViHdh6ExP7bAI5TyWx3FeniYrf8njyIwXNhrTfgdvjOqMkMev7Z4zANHQOD8Tn2naBbK1E-6In5m4OWpp8Iv0t3DfOYLYIRb1bKQToRw0uXrLchhRZg-xyRcs2UNA72NEK45kOejBVkebIgjxe72Xlf0uqgmJQIGeK7L6b9AQooEeMEyyvoFSbxNXV6L-kXpigC~Hu2RT~nwuEL3918-mwpoIfuv2w--49GOZ849TesDxRTDd42A__&Key-Pair-Id=KSXX7H7QURW4X)\n",
      "\n",
      "<a href=\"https://assets.crowdmark.com/exam_pages/6234e959-dcec-4af0-b6f4-9b66248488d8?Expires=1631152756&Signature=UUc7RaD3H85DtggNbJBtWmRJntAV6R4Zl0VSpQbKLQaCz7q5ppQWPK2WYQuFwD0PFRKxjH-RUFWXsREpNgFvbVkyv1~Nz5EDh-ViHdh6ExP7bAI5TyWx3FeniYrf8njyIwXNhrTfgdvjOqMkMev7Z4zANHQOD8Tn2naBbK1E-6In5m4OWpp8Iv0t3DfOYLYIRb1bKQToRw0uXrLchhRZg-xyRcs2UNA72NEK45kOejBVkebIgjxe72Xlf0uqgmJQIGeK7L6b9AQooEeMEyyvoFSbxNXV6L-kXpigC~Hu2RT~nwuEL3918-mwpoIfuv2w--49GOZ849TesDxRTDd42A__&Key-Pair-Id=KSXX7H7QURW4X\"><img src =\"https://assets.crowdmark.com/exam_pages/6234e959-dcec-4af0-b6f4-9b66248488d8?Expires=1631152756&Signature=UUc7RaD3H85DtggNbJBtWmRJntAV6R4Zl0VSpQbKLQaCz7q5ppQWPK2WYQuFwD0PFRKxjH-RUFWXsREpNgFvbVkyv1~Nz5EDh-ViHdh6ExP7bAI5TyWx3FeniYrf8njyIwXNhrTfgdvjOqMkMev7Z4zANHQOD8Tn2naBbK1E-6In5m4OWpp8Iv0t3DfOYLYIRb1bKQToRw0uXrLchhRZg-xyRcs2UNA72NEK45kOejBVkebIgjxe72Xlf0uqgmJQIGeK7L6b9AQooEeMEyyvoFSbxNXV6L-kXpigC~Hu2RT~nwuEL3918-mwpoIfuv2w--49GOZ849TesDxRTDd42A__&Key-Pair-Id=KSXX7H7QURW4X\" width=\"400\"></a>\n",
      "\n",
      "--------------------------- \n",
      "\n",
      "### Booklet:2752180\n",
      "\n",
      "![2752180](https://assets.crowdmark.com/exam_pages/74169f0e-10a2-4263-ad36-298c827cda0f?Expires=1631152758&Signature=X1fkfy1tpk4ND95wzMQx-CB6VsJPWuXFTW4crF1luAkG~Gzi03K63GuXi2X-zMof5mM1a~GgW9Y007dUJFICiQ0EqnfYXNZ08zVp9oF0DId8km5V4CDee1SxZMDxt5pZXUVd8JRM5ubLAo2nsN98~4mwVgavPkm6EZTYU4p~iS8H1qWEPiySDslUsKHnv7fAAZAtX4H5m6k206h63g8esS5RrotNSo~omJDTsXXCu1NP42J6K-mnn-v7gOI1~8zCJm8aoYWr8FBiiZvhokJcHEeku~ML0414Nft59go-sd1fIFn5lQmIuNlHV2HJuxWKKQXYF0Mw-EJ4vLI~O99sew__&Key-Pair-Id=KSXX7H7QURW4X)\n",
      "\n",
      "<a href=\"https://assets.crowdmark.com/exam_pages/74169f0e-10a2-4263-ad36-298c827cda0f?Expires=1631152758&Signature=X1fkfy1tpk4ND95wzMQx-CB6VsJPWuXFTW4crF1luAkG~Gzi03K63GuXi2X-zMof5mM1a~GgW9Y007dUJFICiQ0EqnfYXNZ08zVp9oF0DId8km5V4CDee1SxZMDxt5pZXUVd8JRM5ubLAo2nsN98~4mwVgavPkm6EZTYU4p~iS8H1qWEPiySDslUsKHnv7fAAZAtX4H5m6k206h63g8esS5RrotNSo~omJDTsXXCu1NP42J6K-mnn-v7gOI1~8zCJm8aoYWr8FBiiZvhokJcHEeku~ML0414Nft59go-sd1fIFn5lQmIuNlHV2HJuxWKKQXYF0Mw-EJ4vLI~O99sew__&Key-Pair-Id=KSXX7H7QURW4X\"><img src =\"https://assets.crowdmark.com/exam_pages/74169f0e-10a2-4263-ad36-298c827cda0f?Expires=1631152758&Signature=X1fkfy1tpk4ND95wzMQx-CB6VsJPWuXFTW4crF1luAkG~Gzi03K63GuXi2X-zMof5mM1a~GgW9Y007dUJFICiQ0EqnfYXNZ08zVp9oF0DId8km5V4CDee1SxZMDxt5pZXUVd8JRM5ubLAo2nsN98~4mwVgavPkm6EZTYU4p~iS8H1qWEPiySDslUsKHnv7fAAZAtX4H5m6k206h63g8esS5RrotNSo~omJDTsXXCu1NP42J6K-mnn-v7gOI1~8zCJm8aoYWr8FBiiZvhokJcHEeku~ML0414Nft59go-sd1fIFn5lQmIuNlHV2HJuxWKKQXYF0Mw-EJ4vLI~O99sew__&Key-Pair-Id=KSXX7H7QURW4X\" width=\"400\"></a>\n",
      "\n"
     ]
    }
   ],
   "source": [
    "## Export links to front page images with associated booklet and student information (if available)\n",
    "## Print as output to this cell. \n",
    "## Accumulate output in front_pages.md file\n",
    "\n",
    "## Top Matter: Reminder of which assessment we are examining\n",
    "cm = 'https://app.crowdmark.com'\n",
    "g = open('front_pages.md', 'w')\n",
    "print(\"assessment_slug:\" + assessment_slug + \"; front pages \\n\")\n",
    "print('<img src=\"https://crowdmark-com.s3.amazonaws.com/website/images/visual-identity/crowdmark-logo-dark.png\" alt=\"Crowdmark logo\" width =\"180\" align=\"right\">')\n",
    "g.write(\"assessment_slug:\" + assessment_slug + \"; front pages \\n\")\n",
    "for booklet in booklets:\n",
    "    booklet_id = booklet['id']\n",
    "    ## Information we know about the booklet we are examining.\n",
    "    \n",
    "    res = api_get('/booklets/' + booklet_id + '/pages')\n",
    "    \n",
    "    ## Set an exception to ignore empty booklets\n",
    "    if res['data'] != []:\n",
    "        g.write(\"--------------------------- \\n\")\n",
    "        print(\"--------------------------- \\n\")\n",
    "        g.write(\"### Booklet:\" + booklet_id +\"\\n\") \n",
    "        print(\"### Booklet:\" + booklet_id +\"\\n\") \n",
    "        ## Set an exception to ignore empty records\n",
    "        if type(getbooklet(booklet_id)['data']['relationships']['enrollment']['data']) == dict: \n",
    "            enr = getbooklet(booklet_id)['data']['relationships']['enrollment']['data']['id']\n",
    "            g.write(\"### Enrollment:\" + enr +\"\\n\")\n",
    "            print(\"### Enrollment:\" + enr +\"\\n\")\n",
    "            ## Exception handling for empty records\n",
    "            if getenrollment(enr)['data']['attributes']['metadata'] != {}:\n",
    "                student = getenrollment(enr)['data']['attributes']['metadata']\n",
    "                g.write(\"### Student:\" + student['Name'] + \"\\n\")\n",
    "                print(\"### Student:\" + student['Name'] +  \"\\n\")\n",
    "        # print(booklet)\n",
    "        ## Note: the choice of res['data'][ZERO] points at the front page of the booklet.\n",
    "        ## Variation: Change to res['data'][2] to extract third pages of all booklets.\n",
    "        ## Print in Markdown format.\n",
    "        g.write(\"![\" + booklet_id + \"](\" + res['data'][0]['attributes']['url'] + \")\\n\")\n",
    "        print((\"![\" + booklet_id + \"](\" + res['data'][0]['attributes']['url'] + \")\\n\"))\n",
    "        ## Print as clickable thumbnails when rendered in HTML\n",
    "        print('<a href=\"' + res['data'][0]['attributes']['url'] + '\"><img src =\"' \n",
    "                 + res['data'][0]['attributes']['url'] + '\" width=\"400\"></a>\\n')\n",
    "        g.write('<a href=\"' + res['data'][0]['attributes']['url'] + '\"><img src =\"' \n",
    "                 + res['data'][0]['attributes']['url'] + '\" width=\"400\"></a>\\n')\n",
    "                    \n",
    "g.close()"
   ]
  },
  {
   "cell_type": "markdown",
   "metadata": {},
   "source": [
    "assessment_slug:math-sample-assessment-fe8c2; front pages \n",
    "\n",
    "<img src=\"https://crowdmark-com.s3.amazonaws.com/website/images/visual-identity/crowdmark-logo-dark.png\" alt=\"Crowdmark logo\" width =\"180\" align=\"right\">\n",
    "--------------------------- \n",
    "\n",
    "### Booklet:2752172\n",
    "\n",
    "### Enrollment:2496808\n",
    "\n",
    "### Student:e.noether\n",
    "\n",
    "![2752172](https://assets.crowdmark.com/exam_pages/3894c4e0-30ac-4ed7-8fc4-f99a1f465afa?Expires=1631152734&Signature=bbazS-r6siIlg4xdwhT9tMoGbfy8SELj8U5LEoR018PLAv7SNzAThqMMHAUS8S5U9sHmcxRB6aufXDpLtdrsK37nWMnCnFuS422qoreM~VqraKqsuC18~zvSInUkFszWIgjyt6nfUgsMuS5wI-tg0Tv1ocryh5Qe-2qSOUFKplLtTDQF5p0wP3jlDhDvYMu-~wamLi6q98vhozq-YtqkMYa0rGtaR5RlTw8c6~kOQcrDyNV89LDCtuhM1n5jvnYE8WvZjejg7bCJMLrvylSDAOLR51QKDpVjel5tSZ3Z59ZC96OScxH1o7loRMASe2PzPZslhbWtVDZr9nHZP-rM9w__&Key-Pair-Id=KSXX7H7QURW4X)\n",
    "\n",
    "<a href=\"https://assets.crowdmark.com/exam_pages/3894c4e0-30ac-4ed7-8fc4-f99a1f465afa?Expires=1631152734&Signature=bbazS-r6siIlg4xdwhT9tMoGbfy8SELj8U5LEoR018PLAv7SNzAThqMMHAUS8S5U9sHmcxRB6aufXDpLtdrsK37nWMnCnFuS422qoreM~VqraKqsuC18~zvSInUkFszWIgjyt6nfUgsMuS5wI-tg0Tv1ocryh5Qe-2qSOUFKplLtTDQF5p0wP3jlDhDvYMu-~wamLi6q98vhozq-YtqkMYa0rGtaR5RlTw8c6~kOQcrDyNV89LDCtuhM1n5jvnYE8WvZjejg7bCJMLrvylSDAOLR51QKDpVjel5tSZ3Z59ZC96OScxH1o7loRMASe2PzPZslhbWtVDZr9nHZP-rM9w__&Key-Pair-Id=KSXX7H7QURW4X\"><img src =\"https://assets.crowdmark.com/exam_pages/3894c4e0-30ac-4ed7-8fc4-f99a1f465afa?Expires=1631152734&Signature=bbazS-r6siIlg4xdwhT9tMoGbfy8SELj8U5LEoR018PLAv7SNzAThqMMHAUS8S5U9sHmcxRB6aufXDpLtdrsK37nWMnCnFuS422qoreM~VqraKqsuC18~zvSInUkFszWIgjyt6nfUgsMuS5wI-tg0Tv1ocryh5Qe-2qSOUFKplLtTDQF5p0wP3jlDhDvYMu-~wamLi6q98vhozq-YtqkMYa0rGtaR5RlTw8c6~kOQcrDyNV89LDCtuhM1n5jvnYE8WvZjejg7bCJMLrvylSDAOLR51QKDpVjel5tSZ3Z59ZC96OScxH1o7loRMASe2PzPZslhbWtVDZr9nHZP-rM9w__&Key-Pair-Id=KSXX7H7QURW4X\" width=\"400\"></a>"
   ]
  },
  {
   "cell_type": "code",
   "execution_count": 19,
   "metadata": {},
   "outputs": [
    {
     "data": {
      "text/plain": [
       "{'Name': 'e.noether', 'Student ID': '677508'}"
      ]
     },
     "execution_count": 19,
     "metadata": {},
     "output_type": "execute_result"
    }
   ],
   "source": [
    "student"
   ]
  },
  {
   "cell_type": "markdown",
   "metadata": {},
   "source": [
    "## All Pages"
   ]
  },
  {
   "cell_type": "markdown",
   "metadata": {},
   "source": [
    "The next cell will generate a Markdown file with the frong page images from the assessment. The Markdown file can be converted to HTML. The embedded image links will expire a few hours after they were generated."
   ]
  },
  {
   "cell_type": "code",
   "execution_count": 23,
   "metadata": {},
   "outputs": [
    {
     "name": "stdout",
     "output_type": "stream",
     "text": [
      "assessment_slug:math-sample-assessment-fe8c2; front pages \n",
      "\n",
      "<img src=\"https://crowdmark-com.s3.amazonaws.com/website/images/visual-identity/crowdmark-logo-dark.png\" alt=\"Crowdmark logo\" width =\"180\" align=\"right\">\n",
      "--------------------------- \n",
      "\n",
      "### Booklet:2752172\n",
      "\n",
      "### Enrollment:2496808\n",
      "\n",
      "### Student:e.noether\n",
      "\n",
      "<ul><br>\n",
      "\n",
      "![2752172](https://assets.crowdmark.com/exam_pages/3894c4e0-30ac-4ed7-8fc4-f99a1f465afa?Expires=1631149716&Signature=ZSgcys-8B-vlUVVDZ3~kIdm~~KtPqu80sXQNYmNS5FOWJC6cnuvktWpPMQjUugEc5SGWPhJZjlRHlOSZskj~ZK1zX1dWsbUSSlwncTVzSdaCSBZlOrdshtgANO9AUflcIS~UHTAPJXcZHvo3ifeaf9aoQRJFhcOoFKSz0mxT-wXps1jdKquoQl-dTlasC7MhVZxY94~CoGgNJOK9MM91sDG-OcFr4MMjnx1dC6kANLd1epfR7o0idNn0-lnx88yGbpi8yzdLqj10GhnoKMIhCge9~0VVzOvqsN-OaA5nonsmoQBgW7uGKZn5OucfAvngCYvMDhbj5ARLf2NPWMqdsg__&Key-Pair-Id=KSXX7H7QURW4X)\n",
      "\n",
      "<a href=\"https://assets.crowdmark.com/exam_pages/3894c4e0-30ac-4ed7-8fc4-f99a1f465afa?Expires=1631149716&Signature=ZSgcys-8B-vlUVVDZ3~kIdm~~KtPqu80sXQNYmNS5FOWJC6cnuvktWpPMQjUugEc5SGWPhJZjlRHlOSZskj~ZK1zX1dWsbUSSlwncTVzSdaCSBZlOrdshtgANO9AUflcIS~UHTAPJXcZHvo3ifeaf9aoQRJFhcOoFKSz0mxT-wXps1jdKquoQl-dTlasC7MhVZxY94~CoGgNJOK9MM91sDG-OcFr4MMjnx1dC6kANLd1epfR7o0idNn0-lnx88yGbpi8yzdLqj10GhnoKMIhCge9~0VVzOvqsN-OaA5nonsmoQBgW7uGKZn5OucfAvngCYvMDhbj5ARLf2NPWMqdsg__&Key-Pair-Id=KSXX7H7QURW4X\"><img src =\"https://assets.crowdmark.com/exam_pages/3894c4e0-30ac-4ed7-8fc4-f99a1f465afa?Expires=1631149716&Signature=ZSgcys-8B-vlUVVDZ3~kIdm~~KtPqu80sXQNYmNS5FOWJC6cnuvktWpPMQjUugEc5SGWPhJZjlRHlOSZskj~ZK1zX1dWsbUSSlwncTVzSdaCSBZlOrdshtgANO9AUflcIS~UHTAPJXcZHvo3ifeaf9aoQRJFhcOoFKSz0mxT-wXps1jdKquoQl-dTlasC7MhVZxY94~CoGgNJOK9MM91sDG-OcFr4MMjnx1dC6kANLd1epfR7o0idNn0-lnx88yGbpi8yzdLqj10GhnoKMIhCge9~0VVzOvqsN-OaA5nonsmoQBgW7uGKZn5OucfAvngCYvMDhbj5ARLf2NPWMqdsg__&Key-Pair-Id=KSXX7H7QURW4X\" width=\"200\"></a>\n",
      "\n",
      "![2752172](https://assets.crowdmark.com/exam_pages/7e7b3eec-ac2f-4c3e-8ba3-60c0ad48e1be?Expires=1631149716&Signature=piFtErB9bXIVb30rQpwMIjVmPtei8kwVvg01vSr~IyCPAEU8OhSAQPWzKM1RtRA2uW4X4sYXh6~LS5CzYLniqRqZKBvnCjz0lefNyPqHaHbOPH3NWWnkqnHgx1v0YzQFkijN7Q0W~cknNpAH7TlkDznBUwif5inWPFCyFm9lktx~NiCVDBkGAj~tzlKFGWL8H5YU4vsoLSNwMKyyCEeYD7x5-80EWRDOFVNOL~hl2glgnOx2QfFBbIKkwbU0OvYr5A8Odp2xSKFCC~tPRpsu4XSaYO0YS3pJxkU4X6ByZlYonAQAGQCP1NjEQRhBe4ABMxaJPa6wNNfLtH~g-beRhw__&Key-Pair-Id=KSXX7H7QURW4X)\n",
      "\n",
      "<a href=\"https://assets.crowdmark.com/exam_pages/7e7b3eec-ac2f-4c3e-8ba3-60c0ad48e1be?Expires=1631149716&Signature=piFtErB9bXIVb30rQpwMIjVmPtei8kwVvg01vSr~IyCPAEU8OhSAQPWzKM1RtRA2uW4X4sYXh6~LS5CzYLniqRqZKBvnCjz0lefNyPqHaHbOPH3NWWnkqnHgx1v0YzQFkijN7Q0W~cknNpAH7TlkDznBUwif5inWPFCyFm9lktx~NiCVDBkGAj~tzlKFGWL8H5YU4vsoLSNwMKyyCEeYD7x5-80EWRDOFVNOL~hl2glgnOx2QfFBbIKkwbU0OvYr5A8Odp2xSKFCC~tPRpsu4XSaYO0YS3pJxkU4X6ByZlYonAQAGQCP1NjEQRhBe4ABMxaJPa6wNNfLtH~g-beRhw__&Key-Pair-Id=KSXX7H7QURW4X\"><img src =\"https://assets.crowdmark.com/exam_pages/7e7b3eec-ac2f-4c3e-8ba3-60c0ad48e1be?Expires=1631149716&Signature=piFtErB9bXIVb30rQpwMIjVmPtei8kwVvg01vSr~IyCPAEU8OhSAQPWzKM1RtRA2uW4X4sYXh6~LS5CzYLniqRqZKBvnCjz0lefNyPqHaHbOPH3NWWnkqnHgx1v0YzQFkijN7Q0W~cknNpAH7TlkDznBUwif5inWPFCyFm9lktx~NiCVDBkGAj~tzlKFGWL8H5YU4vsoLSNwMKyyCEeYD7x5-80EWRDOFVNOL~hl2glgnOx2QfFBbIKkwbU0OvYr5A8Odp2xSKFCC~tPRpsu4XSaYO0YS3pJxkU4X6ByZlYonAQAGQCP1NjEQRhBe4ABMxaJPa6wNNfLtH~g-beRhw__&Key-Pair-Id=KSXX7H7QURW4X\" width=\"200\"></a>\n",
      "\n",
      "![2752172](https://assets.crowdmark.com/exam_pages/efe8f4d5-4a9d-482b-b792-9a550710f371?Expires=1631149716&Signature=YUxzHE0qpfVq5zWt62CJM9PxImqlIcIma6ElNEoSi0LueY90hNLsyEi~6qmJ6P8SmL643dpVtIHBpKQph~DJ535KUQc6fqEAxxq2PPzBqmyaGvvWITHt2TFkX6tAwd8Neek25-55-rsVUTBJU1KoDmAGOoLf-KxJ1oQPYfpzA5NtLx8Gu90vG5Kx8pDRx5uv9TwdmujP1OLzqfAcCY6wWtP0DUErWcjB3sAaREgg9i2TPkhKqgJWFi3mZyQ1FziKJTYdmT7lVarySjJEM-q~NhRgw0Vqs5PuI0gBAT6hsz4qB4~gZbbsCN-Z1qyWSTKBk1FMPcIWVeSbPt1qONz1Dw__&Key-Pair-Id=KSXX7H7QURW4X)\n",
      "\n",
      "<a href=\"https://assets.crowdmark.com/exam_pages/efe8f4d5-4a9d-482b-b792-9a550710f371?Expires=1631149716&Signature=YUxzHE0qpfVq5zWt62CJM9PxImqlIcIma6ElNEoSi0LueY90hNLsyEi~6qmJ6P8SmL643dpVtIHBpKQph~DJ535KUQc6fqEAxxq2PPzBqmyaGvvWITHt2TFkX6tAwd8Neek25-55-rsVUTBJU1KoDmAGOoLf-KxJ1oQPYfpzA5NtLx8Gu90vG5Kx8pDRx5uv9TwdmujP1OLzqfAcCY6wWtP0DUErWcjB3sAaREgg9i2TPkhKqgJWFi3mZyQ1FziKJTYdmT7lVarySjJEM-q~NhRgw0Vqs5PuI0gBAT6hsz4qB4~gZbbsCN-Z1qyWSTKBk1FMPcIWVeSbPt1qONz1Dw__&Key-Pair-Id=KSXX7H7QURW4X\"><img src =\"https://assets.crowdmark.com/exam_pages/efe8f4d5-4a9d-482b-b792-9a550710f371?Expires=1631149716&Signature=YUxzHE0qpfVq5zWt62CJM9PxImqlIcIma6ElNEoSi0LueY90hNLsyEi~6qmJ6P8SmL643dpVtIHBpKQph~DJ535KUQc6fqEAxxq2PPzBqmyaGvvWITHt2TFkX6tAwd8Neek25-55-rsVUTBJU1KoDmAGOoLf-KxJ1oQPYfpzA5NtLx8Gu90vG5Kx8pDRx5uv9TwdmujP1OLzqfAcCY6wWtP0DUErWcjB3sAaREgg9i2TPkhKqgJWFi3mZyQ1FziKJTYdmT7lVarySjJEM-q~NhRgw0Vqs5PuI0gBAT6hsz4qB4~gZbbsCN-Z1qyWSTKBk1FMPcIWVeSbPt1qONz1Dw__&Key-Pair-Id=KSXX7H7QURW4X\" width=\"200\"></a>\n",
      "\n",
      "![2752172](https://assets.crowdmark.com/exam_pages/ead421d2-36e4-4325-876a-a8d4bade3f45?Expires=1631149716&Signature=UFKggBb0frPuSu8vDAMvlOMNnR7imUXdfCzxq0AI6eyKcaqHTvgkPItfWzjWIy~MWTvZhUdmZP4uiuCqccRJMbxRW7TOfZjNsxMvqzpSLTOzxAr6JkF4J4zSzCsykDfsqbsuVSjdKsbp-CtdTQ-EDjtfqCGbaK86pUuiJox4FFdIJgejg3jB-f5Y7nK7OlIUGAjRzJ~lJIqWk3ZoaMBQDDc8UZ9N~7MHi-1V5swzEKx5vuaJYK-Y8iEaiaLRTeAJ--m5mKX-9f7DNjUXtNYSwCQuQfl8Q~Qn6qoxgkWfeONXQ2jtikEsUUo1uuX94BcKTicTBoKp1LVTWqj3xQhD5g__&Key-Pair-Id=KSXX7H7QURW4X)\n",
      "\n",
      "<a href=\"https://assets.crowdmark.com/exam_pages/ead421d2-36e4-4325-876a-a8d4bade3f45?Expires=1631149716&Signature=UFKggBb0frPuSu8vDAMvlOMNnR7imUXdfCzxq0AI6eyKcaqHTvgkPItfWzjWIy~MWTvZhUdmZP4uiuCqccRJMbxRW7TOfZjNsxMvqzpSLTOzxAr6JkF4J4zSzCsykDfsqbsuVSjdKsbp-CtdTQ-EDjtfqCGbaK86pUuiJox4FFdIJgejg3jB-f5Y7nK7OlIUGAjRzJ~lJIqWk3ZoaMBQDDc8UZ9N~7MHi-1V5swzEKx5vuaJYK-Y8iEaiaLRTeAJ--m5mKX-9f7DNjUXtNYSwCQuQfl8Q~Qn6qoxgkWfeONXQ2jtikEsUUo1uuX94BcKTicTBoKp1LVTWqj3xQhD5g__&Key-Pair-Id=KSXX7H7QURW4X\"><img src =\"https://assets.crowdmark.com/exam_pages/ead421d2-36e4-4325-876a-a8d4bade3f45?Expires=1631149716&Signature=UFKggBb0frPuSu8vDAMvlOMNnR7imUXdfCzxq0AI6eyKcaqHTvgkPItfWzjWIy~MWTvZhUdmZP4uiuCqccRJMbxRW7TOfZjNsxMvqzpSLTOzxAr6JkF4J4zSzCsykDfsqbsuVSjdKsbp-CtdTQ-EDjtfqCGbaK86pUuiJox4FFdIJgejg3jB-f5Y7nK7OlIUGAjRzJ~lJIqWk3ZoaMBQDDc8UZ9N~7MHi-1V5swzEKx5vuaJYK-Y8iEaiaLRTeAJ--m5mKX-9f7DNjUXtNYSwCQuQfl8Q~Qn6qoxgkWfeONXQ2jtikEsUUo1uuX94BcKTicTBoKp1LVTWqj3xQhD5g__&Key-Pair-Id=KSXX7H7QURW4X\" width=\"200\"></a>\n",
      "\n",
      "</ul>\n",
      "\n",
      "--------------------------- \n",
      "\n",
      "### Booklet:2752176\n",
      "\n",
      "### Enrollment:2496809\n",
      "\n",
      "### Student:euler\n",
      "\n",
      "<ul><br>\n",
      "\n",
      "![2752176](https://assets.crowdmark.com/exam_pages/9ab1855d-721b-435f-bcd5-795d0bc8040a?Expires=1631149720&Signature=K2o8tfLak4InDjaTMSxG58jj7qM1qCL-tyvgO9pPjZlvIFs1OVqrAw3NY8YkVGITaSvWuvSYYAIUzbJB27xKtAzcjzN5ZHbsq6LqHZV2ixiHLuU7nTj4E5i~eERyY2Q4pNMTjBOgAHBLJ~Qx~gYcuqPQaWpjuNMQVTxYT6wx2fCsAclA8vaxBUuLTZe4ru7effhEZ0jy3NinQtwO-cOnRxjuODyt7zhtqAmWq2IQWzmeZ~9w4j~a-XZ7XRtKPnyWnMzGLbrPdwJ-z~3dV2At~q5NwaEqFCUzgyPChDV9ZkFzLLOpBsMznWY1AuFwMMac4A5~HEAZhzfRkrjGEehY7Q__&Key-Pair-Id=KSXX7H7QURW4X)\n",
      "\n",
      "<a href=\"https://assets.crowdmark.com/exam_pages/9ab1855d-721b-435f-bcd5-795d0bc8040a?Expires=1631149720&Signature=K2o8tfLak4InDjaTMSxG58jj7qM1qCL-tyvgO9pPjZlvIFs1OVqrAw3NY8YkVGITaSvWuvSYYAIUzbJB27xKtAzcjzN5ZHbsq6LqHZV2ixiHLuU7nTj4E5i~eERyY2Q4pNMTjBOgAHBLJ~Qx~gYcuqPQaWpjuNMQVTxYT6wx2fCsAclA8vaxBUuLTZe4ru7effhEZ0jy3NinQtwO-cOnRxjuODyt7zhtqAmWq2IQWzmeZ~9w4j~a-XZ7XRtKPnyWnMzGLbrPdwJ-z~3dV2At~q5NwaEqFCUzgyPChDV9ZkFzLLOpBsMznWY1AuFwMMac4A5~HEAZhzfRkrjGEehY7Q__&Key-Pair-Id=KSXX7H7QURW4X\"><img src =\"https://assets.crowdmark.com/exam_pages/9ab1855d-721b-435f-bcd5-795d0bc8040a?Expires=1631149720&Signature=K2o8tfLak4InDjaTMSxG58jj7qM1qCL-tyvgO9pPjZlvIFs1OVqrAw3NY8YkVGITaSvWuvSYYAIUzbJB27xKtAzcjzN5ZHbsq6LqHZV2ixiHLuU7nTj4E5i~eERyY2Q4pNMTjBOgAHBLJ~Qx~gYcuqPQaWpjuNMQVTxYT6wx2fCsAclA8vaxBUuLTZe4ru7effhEZ0jy3NinQtwO-cOnRxjuODyt7zhtqAmWq2IQWzmeZ~9w4j~a-XZ7XRtKPnyWnMzGLbrPdwJ-z~3dV2At~q5NwaEqFCUzgyPChDV9ZkFzLLOpBsMznWY1AuFwMMac4A5~HEAZhzfRkrjGEehY7Q__&Key-Pair-Id=KSXX7H7QURW4X\" width=\"200\"></a>\n",
      "\n",
      "![2752176](https://assets.crowdmark.com/exam_pages/af5219e3-087d-4134-ad0a-6d1ca8a53559?Expires=1631149720&Signature=RowVw6FFuRwP0OdllEuXF9rLmJZTO0cGm8-aZVpnZoKeWW1uvJOahzN97JJ7N6wQ7NB7TCM5OZ6VWDIG93o9NpjyB4BShI6NyDNLD4HBHyoGSg1Wl243wHF1MkxtsSEhk4fYGZ0I4iRdIHm~PA9h2YGsnPZsp8B1kKnFTz2Z6mOTc-d9cmRyLiZPXDTPalwhr3NRef5T0YmUAoH3uiG44sjwTThKF-jDTlRg-No3sf~HaJc6pg0p4phz7pmwmHRHqmgxiBvxzQPbCWhhdLzYDYJpqrt09Jj-PgKXAprzthEWhUjHg4p3pgdu9nT6B6NKaKMhTpuojNSxiOfg3Fx2tA__&Key-Pair-Id=KSXX7H7QURW4X)\n",
      "\n",
      "<a href=\"https://assets.crowdmark.com/exam_pages/af5219e3-087d-4134-ad0a-6d1ca8a53559?Expires=1631149720&Signature=RowVw6FFuRwP0OdllEuXF9rLmJZTO0cGm8-aZVpnZoKeWW1uvJOahzN97JJ7N6wQ7NB7TCM5OZ6VWDIG93o9NpjyB4BShI6NyDNLD4HBHyoGSg1Wl243wHF1MkxtsSEhk4fYGZ0I4iRdIHm~PA9h2YGsnPZsp8B1kKnFTz2Z6mOTc-d9cmRyLiZPXDTPalwhr3NRef5T0YmUAoH3uiG44sjwTThKF-jDTlRg-No3sf~HaJc6pg0p4phz7pmwmHRHqmgxiBvxzQPbCWhhdLzYDYJpqrt09Jj-PgKXAprzthEWhUjHg4p3pgdu9nT6B6NKaKMhTpuojNSxiOfg3Fx2tA__&Key-Pair-Id=KSXX7H7QURW4X\"><img src =\"https://assets.crowdmark.com/exam_pages/af5219e3-087d-4134-ad0a-6d1ca8a53559?Expires=1631149720&Signature=RowVw6FFuRwP0OdllEuXF9rLmJZTO0cGm8-aZVpnZoKeWW1uvJOahzN97JJ7N6wQ7NB7TCM5OZ6VWDIG93o9NpjyB4BShI6NyDNLD4HBHyoGSg1Wl243wHF1MkxtsSEhk4fYGZ0I4iRdIHm~PA9h2YGsnPZsp8B1kKnFTz2Z6mOTc-d9cmRyLiZPXDTPalwhr3NRef5T0YmUAoH3uiG44sjwTThKF-jDTlRg-No3sf~HaJc6pg0p4phz7pmwmHRHqmgxiBvxzQPbCWhhdLzYDYJpqrt09Jj-PgKXAprzthEWhUjHg4p3pgdu9nT6B6NKaKMhTpuojNSxiOfg3Fx2tA__&Key-Pair-Id=KSXX7H7QURW4X\" width=\"200\"></a>\n",
      "\n",
      "![2752176](https://assets.crowdmark.com/exam_pages/d0465236-279f-4399-8650-1c47b9fe1be3?Expires=1631149720&Signature=EvbOxUkEsqSXU5-AWVdfYH773le-jfugKs75VVY3L72nM4-U-0pE6JS-Gg6S6KNn1lWvcKKZ~93BpqROuGH7oHYk4RhQs1y3A3LG02JINgo6kA859ydVwsJT~UBNeIeuVwIkRVJ-GTstzSV9qkSF8YMopumUDW6-vQ0Mv8jA3as5-HRWoi3FOBidcVUOraBjJemRZ~KR5kF8aSJLvDbyIAKhboMcBItSrhuzrlQEduI1VhNNhPyhACJYQuVMF1zeL45L0bTNkYNZM4jHA4RKHYsVJpWFBgOHZp218DvCMwB~WyxsDJyC5ct5mRua8mU~-2r0fy7HqNYnDredLcndxg__&Key-Pair-Id=KSXX7H7QURW4X)\n",
      "\n",
      "<a href=\"https://assets.crowdmark.com/exam_pages/d0465236-279f-4399-8650-1c47b9fe1be3?Expires=1631149720&Signature=EvbOxUkEsqSXU5-AWVdfYH773le-jfugKs75VVY3L72nM4-U-0pE6JS-Gg6S6KNn1lWvcKKZ~93BpqROuGH7oHYk4RhQs1y3A3LG02JINgo6kA859ydVwsJT~UBNeIeuVwIkRVJ-GTstzSV9qkSF8YMopumUDW6-vQ0Mv8jA3as5-HRWoi3FOBidcVUOraBjJemRZ~KR5kF8aSJLvDbyIAKhboMcBItSrhuzrlQEduI1VhNNhPyhACJYQuVMF1zeL45L0bTNkYNZM4jHA4RKHYsVJpWFBgOHZp218DvCMwB~WyxsDJyC5ct5mRua8mU~-2r0fy7HqNYnDredLcndxg__&Key-Pair-Id=KSXX7H7QURW4X\"><img src =\"https://assets.crowdmark.com/exam_pages/d0465236-279f-4399-8650-1c47b9fe1be3?Expires=1631149720&Signature=EvbOxUkEsqSXU5-AWVdfYH773le-jfugKs75VVY3L72nM4-U-0pE6JS-Gg6S6KNn1lWvcKKZ~93BpqROuGH7oHYk4RhQs1y3A3LG02JINgo6kA859ydVwsJT~UBNeIeuVwIkRVJ-GTstzSV9qkSF8YMopumUDW6-vQ0Mv8jA3as5-HRWoi3FOBidcVUOraBjJemRZ~KR5kF8aSJLvDbyIAKhboMcBItSrhuzrlQEduI1VhNNhPyhACJYQuVMF1zeL45L0bTNkYNZM4jHA4RKHYsVJpWFBgOHZp218DvCMwB~WyxsDJyC5ct5mRua8mU~-2r0fy7HqNYnDredLcndxg__&Key-Pair-Id=KSXX7H7QURW4X\" width=\"200\"></a>\n",
      "\n",
      "![2752176](https://assets.crowdmark.com/exam_pages/f148b68b-aea5-474d-b36c-7f4a258a1bda?Expires=1631149720&Signature=Okhlub8O5wPdiYxUbOwBIavGoR7IkoRZ78EEERs9WMle3mxDLxCmve0QksYmBHlrK4nwXNqEFDk8iMUc0Bopewj8Db~2EHj-mKMXuHg3nylKTpRElBR-aUVWpn8gQ6sEZHVAHZ1lULmT4R0O0~tYz4U98tHZ3lDQyOnnb0vQxaNqROj7TvBaeounUo4dzqXbSPGxx6rJSekO-q1ovrjEWtLe0rqJ7usDwbsQ0A1Rb~MthfJ1rGFu8-xrqbWFGAJKKFkL5dAQiaaMEfIO8SabIY-vtlFFm2GS~nHPs2bP0KKldvISCuwln7y5g0QRLPAz~pJE~Snd9PinzFPZLKxnOw__&Key-Pair-Id=KSXX7H7QURW4X)\n",
      "\n",
      "<a href=\"https://assets.crowdmark.com/exam_pages/f148b68b-aea5-474d-b36c-7f4a258a1bda?Expires=1631149720&Signature=Okhlub8O5wPdiYxUbOwBIavGoR7IkoRZ78EEERs9WMle3mxDLxCmve0QksYmBHlrK4nwXNqEFDk8iMUc0Bopewj8Db~2EHj-mKMXuHg3nylKTpRElBR-aUVWpn8gQ6sEZHVAHZ1lULmT4R0O0~tYz4U98tHZ3lDQyOnnb0vQxaNqROj7TvBaeounUo4dzqXbSPGxx6rJSekO-q1ovrjEWtLe0rqJ7usDwbsQ0A1Rb~MthfJ1rGFu8-xrqbWFGAJKKFkL5dAQiaaMEfIO8SabIY-vtlFFm2GS~nHPs2bP0KKldvISCuwln7y5g0QRLPAz~pJE~Snd9PinzFPZLKxnOw__&Key-Pair-Id=KSXX7H7QURW4X\"><img src =\"https://assets.crowdmark.com/exam_pages/f148b68b-aea5-474d-b36c-7f4a258a1bda?Expires=1631149720&Signature=Okhlub8O5wPdiYxUbOwBIavGoR7IkoRZ78EEERs9WMle3mxDLxCmve0QksYmBHlrK4nwXNqEFDk8iMUc0Bopewj8Db~2EHj-mKMXuHg3nylKTpRElBR-aUVWpn8gQ6sEZHVAHZ1lULmT4R0O0~tYz4U98tHZ3lDQyOnnb0vQxaNqROj7TvBaeounUo4dzqXbSPGxx6rJSekO-q1ovrjEWtLe0rqJ7usDwbsQ0A1Rb~MthfJ1rGFu8-xrqbWFGAJKKFkL5dAQiaaMEfIO8SabIY-vtlFFm2GS~nHPs2bP0KKldvISCuwln7y5g0QRLPAz~pJE~Snd9PinzFPZLKxnOw__&Key-Pair-Id=KSXX7H7QURW4X\" width=\"200\"></a>\n",
      "\n",
      "</ul>\n",
      "\n",
      "--------------------------- \n",
      "\n",
      "### Booklet:2752173\n",
      "\n",
      "### Enrollment:2496805\n",
      "\n",
      "### Student:r.feynman\n",
      "\n",
      "<ul><br>\n",
      "\n",
      "![2752173](https://assets.crowdmark.com/exam_pages/5cd68428-efde-46f1-bd57-ba34151bd5f0?Expires=1631149723&Signature=foHOtqLsMzV0rNFbg4ZpqKcfgWZ2dbyvjKp8fKzyNsi4fTIqiLRoDXqJad02e5SvpI5YuAje3NBdIQgN-KH5XwcZZ2Kfyhq6DQfUZ7FPwazDY6iA2BjiBrc4ScxM37C8y3mAYD4nI0rzxtDvTx8SSlGLCcdNT8WrRNRcDZDfucWlUXXVmwioHh4nn2c82LoENayYCGtbYwpqWh~LvfGj6CYeUsURSEE4KNq8H0JyMbsGQc6SeXXkSNeLpYhAsCSTKFyg-~uIH6GlBzk6x-eEJhdyCcoSD9r07x7rOs2gMB9fm~2n9bl7ApZJSmjo2-z3nv09hq-hsllz6b5Zd9kuJw__&Key-Pair-Id=KSXX7H7QURW4X)\n",
      "\n",
      "<a href=\"https://assets.crowdmark.com/exam_pages/5cd68428-efde-46f1-bd57-ba34151bd5f0?Expires=1631149723&Signature=foHOtqLsMzV0rNFbg4ZpqKcfgWZ2dbyvjKp8fKzyNsi4fTIqiLRoDXqJad02e5SvpI5YuAje3NBdIQgN-KH5XwcZZ2Kfyhq6DQfUZ7FPwazDY6iA2BjiBrc4ScxM37C8y3mAYD4nI0rzxtDvTx8SSlGLCcdNT8WrRNRcDZDfucWlUXXVmwioHh4nn2c82LoENayYCGtbYwpqWh~LvfGj6CYeUsURSEE4KNq8H0JyMbsGQc6SeXXkSNeLpYhAsCSTKFyg-~uIH6GlBzk6x-eEJhdyCcoSD9r07x7rOs2gMB9fm~2n9bl7ApZJSmjo2-z3nv09hq-hsllz6b5Zd9kuJw__&Key-Pair-Id=KSXX7H7QURW4X\"><img src =\"https://assets.crowdmark.com/exam_pages/5cd68428-efde-46f1-bd57-ba34151bd5f0?Expires=1631149723&Signature=foHOtqLsMzV0rNFbg4ZpqKcfgWZ2dbyvjKp8fKzyNsi4fTIqiLRoDXqJad02e5SvpI5YuAje3NBdIQgN-KH5XwcZZ2Kfyhq6DQfUZ7FPwazDY6iA2BjiBrc4ScxM37C8y3mAYD4nI0rzxtDvTx8SSlGLCcdNT8WrRNRcDZDfucWlUXXVmwioHh4nn2c82LoENayYCGtbYwpqWh~LvfGj6CYeUsURSEE4KNq8H0JyMbsGQc6SeXXkSNeLpYhAsCSTKFyg-~uIH6GlBzk6x-eEJhdyCcoSD9r07x7rOs2gMB9fm~2n9bl7ApZJSmjo2-z3nv09hq-hsllz6b5Zd9kuJw__&Key-Pair-Id=KSXX7H7QURW4X\" width=\"200\"></a>\n",
      "\n",
      "![2752173](https://assets.crowdmark.com/exam_pages/655044d3-d46c-48c3-badc-e854d81a8ae1?Expires=1631149723&Signature=OGYSWI0xonX2WG5s2pBhnD6pDnTKXgqXvUSW5-XvCPOkVs~F2Fcq53wXy~EFtUeg9jqvXhLdk1dhgRJg9b9URCMDJmLh9rNlCH7ip60UlpEAdoqgGnhxjxgC4kT8-OBtpU84fgv0B5jl9QIr1dJDAlcAsMUe~iXrw0KCD1is952XBLJr8SG2~bbelgSRtP7jH-oVT-1Z0NJFQpwDllaRwO5AHyfwZL7E00Pl0InzvdZS67K284GQE7G2AoSqz9w4Ggi1y3WMGgF0t7BOixrXUhuy8W5x8QM5aJaf9cyBGw1d1nQh-avvM56fgqIEda40zyLDMuadfKRzM4WhiwSUhA__&Key-Pair-Id=KSXX7H7QURW4X)\n",
      "\n",
      "<a href=\"https://assets.crowdmark.com/exam_pages/655044d3-d46c-48c3-badc-e854d81a8ae1?Expires=1631149723&Signature=OGYSWI0xonX2WG5s2pBhnD6pDnTKXgqXvUSW5-XvCPOkVs~F2Fcq53wXy~EFtUeg9jqvXhLdk1dhgRJg9b9URCMDJmLh9rNlCH7ip60UlpEAdoqgGnhxjxgC4kT8-OBtpU84fgv0B5jl9QIr1dJDAlcAsMUe~iXrw0KCD1is952XBLJr8SG2~bbelgSRtP7jH-oVT-1Z0NJFQpwDllaRwO5AHyfwZL7E00Pl0InzvdZS67K284GQE7G2AoSqz9w4Ggi1y3WMGgF0t7BOixrXUhuy8W5x8QM5aJaf9cyBGw1d1nQh-avvM56fgqIEda40zyLDMuadfKRzM4WhiwSUhA__&Key-Pair-Id=KSXX7H7QURW4X\"><img src =\"https://assets.crowdmark.com/exam_pages/655044d3-d46c-48c3-badc-e854d81a8ae1?Expires=1631149723&Signature=OGYSWI0xonX2WG5s2pBhnD6pDnTKXgqXvUSW5-XvCPOkVs~F2Fcq53wXy~EFtUeg9jqvXhLdk1dhgRJg9b9URCMDJmLh9rNlCH7ip60UlpEAdoqgGnhxjxgC4kT8-OBtpU84fgv0B5jl9QIr1dJDAlcAsMUe~iXrw0KCD1is952XBLJr8SG2~bbelgSRtP7jH-oVT-1Z0NJFQpwDllaRwO5AHyfwZL7E00Pl0InzvdZS67K284GQE7G2AoSqz9w4Ggi1y3WMGgF0t7BOixrXUhuy8W5x8QM5aJaf9cyBGw1d1nQh-avvM56fgqIEda40zyLDMuadfKRzM4WhiwSUhA__&Key-Pair-Id=KSXX7H7QURW4X\" width=\"200\"></a>\n",
      "\n",
      "![2752173](https://assets.crowdmark.com/exam_pages/ad58576d-3938-4359-8d62-ef1776faf7d6?Expires=1631149724&Signature=K2OmEj1tvwEihEqFYv2dkegNDmWRR~sG~xEU6IYuDKw7peSqTyaLLhlwfLKSUPpm~ZzfkFC0tksyEAt5xE2H6Ugt5Da0ehhzKDaBbzHuFd17divlskkjeb-P3ZQCy6yHKGcri~QSXJquOxhzCe3rXPe3I8hxFIuyj7NotmdfuEVMQVcHgIdf6J8ie0nmDfXbbA9bcS71U3UpbGAD9WviZZS3nQUDxaBBT3h9mcHRUuOFSxBuGasV1GpX7ZTDkc8v5-8JbV5TX3MUQ3~F5zr6R1KatQ9X8QLHufv7CvSYdAtSZGtCccVkZF2bTkztwQ7AfaYdBPHSOva~RswZiGVXDA__&Key-Pair-Id=KSXX7H7QURW4X)\n",
      "\n",
      "<a href=\"https://assets.crowdmark.com/exam_pages/ad58576d-3938-4359-8d62-ef1776faf7d6?Expires=1631149724&Signature=K2OmEj1tvwEihEqFYv2dkegNDmWRR~sG~xEU6IYuDKw7peSqTyaLLhlwfLKSUPpm~ZzfkFC0tksyEAt5xE2H6Ugt5Da0ehhzKDaBbzHuFd17divlskkjeb-P3ZQCy6yHKGcri~QSXJquOxhzCe3rXPe3I8hxFIuyj7NotmdfuEVMQVcHgIdf6J8ie0nmDfXbbA9bcS71U3UpbGAD9WviZZS3nQUDxaBBT3h9mcHRUuOFSxBuGasV1GpX7ZTDkc8v5-8JbV5TX3MUQ3~F5zr6R1KatQ9X8QLHufv7CvSYdAtSZGtCccVkZF2bTkztwQ7AfaYdBPHSOva~RswZiGVXDA__&Key-Pair-Id=KSXX7H7QURW4X\"><img src =\"https://assets.crowdmark.com/exam_pages/ad58576d-3938-4359-8d62-ef1776faf7d6?Expires=1631149724&Signature=K2OmEj1tvwEihEqFYv2dkegNDmWRR~sG~xEU6IYuDKw7peSqTyaLLhlwfLKSUPpm~ZzfkFC0tksyEAt5xE2H6Ugt5Da0ehhzKDaBbzHuFd17divlskkjeb-P3ZQCy6yHKGcri~QSXJquOxhzCe3rXPe3I8hxFIuyj7NotmdfuEVMQVcHgIdf6J8ie0nmDfXbbA9bcS71U3UpbGAD9WviZZS3nQUDxaBBT3h9mcHRUuOFSxBuGasV1GpX7ZTDkc8v5-8JbV5TX3MUQ3~F5zr6R1KatQ9X8QLHufv7CvSYdAtSZGtCccVkZF2bTkztwQ7AfaYdBPHSOva~RswZiGVXDA__&Key-Pair-Id=KSXX7H7QURW4X\" width=\"200\"></a>\n",
      "\n",
      "![2752173](https://assets.crowdmark.com/exam_pages/a68585c7-9bf4-46f5-9e32-128ac2b997fc?Expires=1631149724&Signature=kgCH2YLFhwQ4-GKzKnnztikEUS3gGLWcj~xTiNMGGL-MfO-7tGG6VFfu7y7SvGT8WYNTKk388P7MzY~ReV-Q6k3A8XTt6nExbj2EMHgf0VoG99yiPCTwsDL8YAk-BCTcfVOQksWrA6wY13lt~hQONwBOeHd26q1M~-lWvTs22KhVk-PNLA-72bim1mBfH97CsQXaKn1mfwjepTGwunzWIkKWjDEM4k0tB0j7ev1MVaD0IwOkEX0hgsCy3T1SJ9oxqi7OO7zrxGXUpHj3SqbNE7sBdji9h8cURgofdVMFb7-fFibL77MqMXtj9S2IRt7wdajioAsxojHdtlgDjBtk-g__&Key-Pair-Id=KSXX7H7QURW4X)\n",
      "\n",
      "<a href=\"https://assets.crowdmark.com/exam_pages/a68585c7-9bf4-46f5-9e32-128ac2b997fc?Expires=1631149724&Signature=kgCH2YLFhwQ4-GKzKnnztikEUS3gGLWcj~xTiNMGGL-MfO-7tGG6VFfu7y7SvGT8WYNTKk388P7MzY~ReV-Q6k3A8XTt6nExbj2EMHgf0VoG99yiPCTwsDL8YAk-BCTcfVOQksWrA6wY13lt~hQONwBOeHd26q1M~-lWvTs22KhVk-PNLA-72bim1mBfH97CsQXaKn1mfwjepTGwunzWIkKWjDEM4k0tB0j7ev1MVaD0IwOkEX0hgsCy3T1SJ9oxqi7OO7zrxGXUpHj3SqbNE7sBdji9h8cURgofdVMFb7-fFibL77MqMXtj9S2IRt7wdajioAsxojHdtlgDjBtk-g__&Key-Pair-Id=KSXX7H7QURW4X\"><img src =\"https://assets.crowdmark.com/exam_pages/a68585c7-9bf4-46f5-9e32-128ac2b997fc?Expires=1631149724&Signature=kgCH2YLFhwQ4-GKzKnnztikEUS3gGLWcj~xTiNMGGL-MfO-7tGG6VFfu7y7SvGT8WYNTKk388P7MzY~ReV-Q6k3A8XTt6nExbj2EMHgf0VoG99yiPCTwsDL8YAk-BCTcfVOQksWrA6wY13lt~hQONwBOeHd26q1M~-lWvTs22KhVk-PNLA-72bim1mBfH97CsQXaKn1mfwjepTGwunzWIkKWjDEM4k0tB0j7ev1MVaD0IwOkEX0hgsCy3T1SJ9oxqi7OO7zrxGXUpHj3SqbNE7sBdji9h8cURgofdVMFb7-fFibL77MqMXtj9S2IRt7wdajioAsxojHdtlgDjBtk-g__&Key-Pair-Id=KSXX7H7QURW4X\" width=\"200\"></a>\n",
      "\n",
      "</ul>\n",
      "\n",
      "--------------------------- \n",
      "\n",
      "### Booklet:2752179\n",
      "\n",
      "### Enrollment:2496803\n",
      "\n",
      "### Student:yalow\n",
      "\n",
      "<ul><br>\n",
      "\n",
      "![2752179](https://assets.crowdmark.com/exam_pages/d97e38cd-48e1-41d7-a51e-47cc80b07dd5?Expires=1631149727&Signature=MNePrqFhT1VDT6wN1WGcyVH7HaUwe4d2FTWYk0o-lIEY5DfOQy5~Wi1LnOW8NZXAVfD~2yH0Tu3LvwWOrg~ay1T1NYMK3wMS34U59pWeDfgEt4czP8bzOlllj2jFoc6NHJSLMtlelCBp6cNAavNasGUF3OoCioWa3OBn4rzYpG2cYAp51I6a2-Uve46vEmIhEUFgVtQtg4w~mMuLTWUejmQCZDyMHc1Hgbu-BeGGL7u7dDUjoh9AiV1GZ9VJ76pm4kI7z7CgQuGPxSbCMe7ZRTOIFUETpdBPaew8~uEfQomCqw47GUHMnevTaUsFK1WET6mA6~Of3TeFzaFMHyfwLA__&Key-Pair-Id=KSXX7H7QURW4X)\n",
      "\n",
      "<a href=\"https://assets.crowdmark.com/exam_pages/d97e38cd-48e1-41d7-a51e-47cc80b07dd5?Expires=1631149727&Signature=MNePrqFhT1VDT6wN1WGcyVH7HaUwe4d2FTWYk0o-lIEY5DfOQy5~Wi1LnOW8NZXAVfD~2yH0Tu3LvwWOrg~ay1T1NYMK3wMS34U59pWeDfgEt4czP8bzOlllj2jFoc6NHJSLMtlelCBp6cNAavNasGUF3OoCioWa3OBn4rzYpG2cYAp51I6a2-Uve46vEmIhEUFgVtQtg4w~mMuLTWUejmQCZDyMHc1Hgbu-BeGGL7u7dDUjoh9AiV1GZ9VJ76pm4kI7z7CgQuGPxSbCMe7ZRTOIFUETpdBPaew8~uEfQomCqw47GUHMnevTaUsFK1WET6mA6~Of3TeFzaFMHyfwLA__&Key-Pair-Id=KSXX7H7QURW4X\"><img src =\"https://assets.crowdmark.com/exam_pages/d97e38cd-48e1-41d7-a51e-47cc80b07dd5?Expires=1631149727&Signature=MNePrqFhT1VDT6wN1WGcyVH7HaUwe4d2FTWYk0o-lIEY5DfOQy5~Wi1LnOW8NZXAVfD~2yH0Tu3LvwWOrg~ay1T1NYMK3wMS34U59pWeDfgEt4czP8bzOlllj2jFoc6NHJSLMtlelCBp6cNAavNasGUF3OoCioWa3OBn4rzYpG2cYAp51I6a2-Uve46vEmIhEUFgVtQtg4w~mMuLTWUejmQCZDyMHc1Hgbu-BeGGL7u7dDUjoh9AiV1GZ9VJ76pm4kI7z7CgQuGPxSbCMe7ZRTOIFUETpdBPaew8~uEfQomCqw47GUHMnevTaUsFK1WET6mA6~Of3TeFzaFMHyfwLA__&Key-Pair-Id=KSXX7H7QURW4X\" width=\"200\"></a>\n",
      "\n",
      "![2752179](https://assets.crowdmark.com/exam_pages/a69e0e9f-9320-4e72-a431-23b052abb125?Expires=1631149727&Signature=JXa7LsDlMEcOaiZuLb3xUAl05VLKNBjNC~4kC4LUdMm2TzOIKDiLjF03nHpKeyA8sktQqHluWS7c4CAhtsjVr6KIK5XT0xNfggw9eTiI8wr5T5ZLE~UUKZEecZYnnmLyPqIPfuAcVdSE3RsqcDmT81zLX-rqRwfLKKpiKG5q2IuFT48FewMlWsHOn1tOWnkXbRXwogS5kswijlWlLfrrV~tDT4s7UqwkAp1sLZYiZntWxFWtriP7BLMqZhbapHER91O3CmJ4SyooEixovjZA4M4KWWB3fD5CRV5PQTVh3tJFROOU48zfQpGXA1617ZPhuCRgSEGn4pgquGoTXfhr9w__&Key-Pair-Id=KSXX7H7QURW4X)\n",
      "\n",
      "<a href=\"https://assets.crowdmark.com/exam_pages/a69e0e9f-9320-4e72-a431-23b052abb125?Expires=1631149727&Signature=JXa7LsDlMEcOaiZuLb3xUAl05VLKNBjNC~4kC4LUdMm2TzOIKDiLjF03nHpKeyA8sktQqHluWS7c4CAhtsjVr6KIK5XT0xNfggw9eTiI8wr5T5ZLE~UUKZEecZYnnmLyPqIPfuAcVdSE3RsqcDmT81zLX-rqRwfLKKpiKG5q2IuFT48FewMlWsHOn1tOWnkXbRXwogS5kswijlWlLfrrV~tDT4s7UqwkAp1sLZYiZntWxFWtriP7BLMqZhbapHER91O3CmJ4SyooEixovjZA4M4KWWB3fD5CRV5PQTVh3tJFROOU48zfQpGXA1617ZPhuCRgSEGn4pgquGoTXfhr9w__&Key-Pair-Id=KSXX7H7QURW4X\"><img src =\"https://assets.crowdmark.com/exam_pages/a69e0e9f-9320-4e72-a431-23b052abb125?Expires=1631149727&Signature=JXa7LsDlMEcOaiZuLb3xUAl05VLKNBjNC~4kC4LUdMm2TzOIKDiLjF03nHpKeyA8sktQqHluWS7c4CAhtsjVr6KIK5XT0xNfggw9eTiI8wr5T5ZLE~UUKZEecZYnnmLyPqIPfuAcVdSE3RsqcDmT81zLX-rqRwfLKKpiKG5q2IuFT48FewMlWsHOn1tOWnkXbRXwogS5kswijlWlLfrrV~tDT4s7UqwkAp1sLZYiZntWxFWtriP7BLMqZhbapHER91O3CmJ4SyooEixovjZA4M4KWWB3fD5CRV5PQTVh3tJFROOU48zfQpGXA1617ZPhuCRgSEGn4pgquGoTXfhr9w__&Key-Pair-Id=KSXX7H7QURW4X\" width=\"200\"></a>\n",
      "\n",
      "![2752179](https://assets.crowdmark.com/exam_pages/c006a936-9a53-4a72-998e-8361bbcacf10?Expires=1631149727&Signature=PeiEBQDu3Px-F5UrlMweziEHr9KF5llIi3vT4c57Wv8mROAsfH6iZR3Bkj4pAv~qdeQ91PF9Z9LsUlJITOcio0-e1mKCvdLisaC7tSd4lruLWoUO-ZLuTYCCNEmvM8DHJ4zER5iNort8qC35pgKNBGogvdAEz0WHJAmZmT5cx4boQvdtGbGYuzKmtGneRnui2oWn8FX~KBwqmoSGb~XDaadpzOowQay72JHCF95NZqyBhjuL7WaubilUDySxF~aHACXDDORHWjGo8xLumpxhIXLkCE9WNJsEZFc7UcvEh1ynBJcosBemHKKEwQhzexEAqvxfbE9poxMDcyIOlUN5AA__&Key-Pair-Id=KSXX7H7QURW4X)\n",
      "\n",
      "<a href=\"https://assets.crowdmark.com/exam_pages/c006a936-9a53-4a72-998e-8361bbcacf10?Expires=1631149727&Signature=PeiEBQDu3Px-F5UrlMweziEHr9KF5llIi3vT4c57Wv8mROAsfH6iZR3Bkj4pAv~qdeQ91PF9Z9LsUlJITOcio0-e1mKCvdLisaC7tSd4lruLWoUO-ZLuTYCCNEmvM8DHJ4zER5iNort8qC35pgKNBGogvdAEz0WHJAmZmT5cx4boQvdtGbGYuzKmtGneRnui2oWn8FX~KBwqmoSGb~XDaadpzOowQay72JHCF95NZqyBhjuL7WaubilUDySxF~aHACXDDORHWjGo8xLumpxhIXLkCE9WNJsEZFc7UcvEh1ynBJcosBemHKKEwQhzexEAqvxfbE9poxMDcyIOlUN5AA__&Key-Pair-Id=KSXX7H7QURW4X\"><img src =\"https://assets.crowdmark.com/exam_pages/c006a936-9a53-4a72-998e-8361bbcacf10?Expires=1631149727&Signature=PeiEBQDu3Px-F5UrlMweziEHr9KF5llIi3vT4c57Wv8mROAsfH6iZR3Bkj4pAv~qdeQ91PF9Z9LsUlJITOcio0-e1mKCvdLisaC7tSd4lruLWoUO-ZLuTYCCNEmvM8DHJ4zER5iNort8qC35pgKNBGogvdAEz0WHJAmZmT5cx4boQvdtGbGYuzKmtGneRnui2oWn8FX~KBwqmoSGb~XDaadpzOowQay72JHCF95NZqyBhjuL7WaubilUDySxF~aHACXDDORHWjGo8xLumpxhIXLkCE9WNJsEZFc7UcvEh1ynBJcosBemHKKEwQhzexEAqvxfbE9poxMDcyIOlUN5AA__&Key-Pair-Id=KSXX7H7QURW4X\" width=\"200\"></a>\n",
      "\n",
      "![2752179](https://assets.crowdmark.com/exam_pages/aabdf536-388a-46a3-96d7-d7e71c1d387b?Expires=1631149727&Signature=KOJqTMnjfflFTruTYG2wyxKkZDMrSZBlyQrLgnMHWRrVfRUIhfIhVJqIt4WLbc3BRuzr1UIhXduWj9KCpvMRSYqZoRbi1tcb2SIogPVikPhNWZXZWtqSdr6bC~87jSpEhgvJt0h2dFe~V-b0t~9X7HwuRgvPj-YQLr4ZB6zDNWttWYNr2ORbed09Xbsi3w~oEdJHikb2u5VMH8paK9Cq9e37J1nu13tPlU9yAkT1Xzx16~Nj93PRUsdfOb9-MySFu7SVSwWH4HdJZEzudsOybzpVn2pvU8BBaPDvO42IW6rw1NJqa8gnXe8M45HE4fhgasgrDCVnXWlI49XDiydHSg__&Key-Pair-Id=KSXX7H7QURW4X)\n",
      "\n",
      "<a href=\"https://assets.crowdmark.com/exam_pages/aabdf536-388a-46a3-96d7-d7e71c1d387b?Expires=1631149727&Signature=KOJqTMnjfflFTruTYG2wyxKkZDMrSZBlyQrLgnMHWRrVfRUIhfIhVJqIt4WLbc3BRuzr1UIhXduWj9KCpvMRSYqZoRbi1tcb2SIogPVikPhNWZXZWtqSdr6bC~87jSpEhgvJt0h2dFe~V-b0t~9X7HwuRgvPj-YQLr4ZB6zDNWttWYNr2ORbed09Xbsi3w~oEdJHikb2u5VMH8paK9Cq9e37J1nu13tPlU9yAkT1Xzx16~Nj93PRUsdfOb9-MySFu7SVSwWH4HdJZEzudsOybzpVn2pvU8BBaPDvO42IW6rw1NJqa8gnXe8M45HE4fhgasgrDCVnXWlI49XDiydHSg__&Key-Pair-Id=KSXX7H7QURW4X\"><img src =\"https://assets.crowdmark.com/exam_pages/aabdf536-388a-46a3-96d7-d7e71c1d387b?Expires=1631149727&Signature=KOJqTMnjfflFTruTYG2wyxKkZDMrSZBlyQrLgnMHWRrVfRUIhfIhVJqIt4WLbc3BRuzr1UIhXduWj9KCpvMRSYqZoRbi1tcb2SIogPVikPhNWZXZWtqSdr6bC~87jSpEhgvJt0h2dFe~V-b0t~9X7HwuRgvPj-YQLr4ZB6zDNWttWYNr2ORbed09Xbsi3w~oEdJHikb2u5VMH8paK9Cq9e37J1nu13tPlU9yAkT1Xzx16~Nj93PRUsdfOb9-MySFu7SVSwWH4HdJZEzudsOybzpVn2pvU8BBaPDvO42IW6rw1NJqa8gnXe8M45HE4fhgasgrDCVnXWlI49XDiydHSg__&Key-Pair-Id=KSXX7H7QURW4X\" width=\"200\"></a>\n",
      "\n",
      "</ul>\n",
      "\n",
      "--------------------------- \n",
      "\n",
      "### Booklet:2752171\n",
      "\n",
      "<ul><br>\n",
      "\n",
      "![2752171](https://assets.crowdmark.com/exam_pages/df29616a-a8b1-490a-95ac-1fb8716b7217?Expires=1631149731&Signature=Igeht5YE8vjIL2GxC83D5DFHQ2xyCIlUotBFUEnROpG40aa2Bl3uGkF7W5BWSJW17aU~PmgESmjv999mH1UNJ1irQfNKmz-fmFSJ4ym6sSaHckci2vaRj2Roprldx8RmhdMPsBoOfDdKuCwj1M9LaGrMBlm3b-FKvQ03MKvEMfgAhUqZnLJdqQpQdy0nc6l64Q0T6uuDqGoOsX1Q1oTA7loLSBjN2k52ILGuBqZ8jFJrWFHaGln62snDlupQ~~Px5r0h9DJdDEZDUI8rnY0nsGp3I48n-KCk1mI16TDvwHXjHk6FgMyt4PPebtckKX3iUmmTwCm1qZnlJntSIdhezw__&Key-Pair-Id=KSXX7H7QURW4X)\n",
      "\n",
      "<a href=\"https://assets.crowdmark.com/exam_pages/df29616a-a8b1-490a-95ac-1fb8716b7217?Expires=1631149731&Signature=Igeht5YE8vjIL2GxC83D5DFHQ2xyCIlUotBFUEnROpG40aa2Bl3uGkF7W5BWSJW17aU~PmgESmjv999mH1UNJ1irQfNKmz-fmFSJ4ym6sSaHckci2vaRj2Roprldx8RmhdMPsBoOfDdKuCwj1M9LaGrMBlm3b-FKvQ03MKvEMfgAhUqZnLJdqQpQdy0nc6l64Q0T6uuDqGoOsX1Q1oTA7loLSBjN2k52ILGuBqZ8jFJrWFHaGln62snDlupQ~~Px5r0h9DJdDEZDUI8rnY0nsGp3I48n-KCk1mI16TDvwHXjHk6FgMyt4PPebtckKX3iUmmTwCm1qZnlJntSIdhezw__&Key-Pair-Id=KSXX7H7QURW4X\"><img src =\"https://assets.crowdmark.com/exam_pages/df29616a-a8b1-490a-95ac-1fb8716b7217?Expires=1631149731&Signature=Igeht5YE8vjIL2GxC83D5DFHQ2xyCIlUotBFUEnROpG40aa2Bl3uGkF7W5BWSJW17aU~PmgESmjv999mH1UNJ1irQfNKmz-fmFSJ4ym6sSaHckci2vaRj2Roprldx8RmhdMPsBoOfDdKuCwj1M9LaGrMBlm3b-FKvQ03MKvEMfgAhUqZnLJdqQpQdy0nc6l64Q0T6uuDqGoOsX1Q1oTA7loLSBjN2k52ILGuBqZ8jFJrWFHaGln62snDlupQ~~Px5r0h9DJdDEZDUI8rnY0nsGp3I48n-KCk1mI16TDvwHXjHk6FgMyt4PPebtckKX3iUmmTwCm1qZnlJntSIdhezw__&Key-Pair-Id=KSXX7H7QURW4X\" width=\"200\"></a>\n",
      "\n",
      "![2752171](https://assets.crowdmark.com/exam_pages/df528897-399a-4a36-aa69-657b9e0b7f94?Expires=1631149731&Signature=hMKaKUupC87nUaFxDhhWoMYTfU6-EakAt~8Y-DgMRC0pbPWEjhY0WwJagmIiyy0VPc5vn8jNW-73P9mk5EmiuhZU7jPcvPq2H2gVaqt3K4JceLsn9va~uhA1zSc3nSkBXIAe~Ttnk6OZwhemL9~HeQTgQReO7MJ8x2TPNNOHsEKyZ907arlE2b8ZZXdpOcmoPgbdTbsQoTt4NSL4Icraiog5sBWZfwdvR3B1iyh5ahVNNBkUuzyKfIGaRhkb~9rP7vfl9NDmkapP1DJ9hjoNXGFFMuMDsns5RMidFamf-tAtTZDW~e2orCmrz1FVMJ2pZQOhz5KjsuStRClKN~-DBw__&Key-Pair-Id=KSXX7H7QURW4X)\n",
      "\n",
      "<a href=\"https://assets.crowdmark.com/exam_pages/df528897-399a-4a36-aa69-657b9e0b7f94?Expires=1631149731&Signature=hMKaKUupC87nUaFxDhhWoMYTfU6-EakAt~8Y-DgMRC0pbPWEjhY0WwJagmIiyy0VPc5vn8jNW-73P9mk5EmiuhZU7jPcvPq2H2gVaqt3K4JceLsn9va~uhA1zSc3nSkBXIAe~Ttnk6OZwhemL9~HeQTgQReO7MJ8x2TPNNOHsEKyZ907arlE2b8ZZXdpOcmoPgbdTbsQoTt4NSL4Icraiog5sBWZfwdvR3B1iyh5ahVNNBkUuzyKfIGaRhkb~9rP7vfl9NDmkapP1DJ9hjoNXGFFMuMDsns5RMidFamf-tAtTZDW~e2orCmrz1FVMJ2pZQOhz5KjsuStRClKN~-DBw__&Key-Pair-Id=KSXX7H7QURW4X\"><img src =\"https://assets.crowdmark.com/exam_pages/df528897-399a-4a36-aa69-657b9e0b7f94?Expires=1631149731&Signature=hMKaKUupC87nUaFxDhhWoMYTfU6-EakAt~8Y-DgMRC0pbPWEjhY0WwJagmIiyy0VPc5vn8jNW-73P9mk5EmiuhZU7jPcvPq2H2gVaqt3K4JceLsn9va~uhA1zSc3nSkBXIAe~Ttnk6OZwhemL9~HeQTgQReO7MJ8x2TPNNOHsEKyZ907arlE2b8ZZXdpOcmoPgbdTbsQoTt4NSL4Icraiog5sBWZfwdvR3B1iyh5ahVNNBkUuzyKfIGaRhkb~9rP7vfl9NDmkapP1DJ9hjoNXGFFMuMDsns5RMidFamf-tAtTZDW~e2orCmrz1FVMJ2pZQOhz5KjsuStRClKN~-DBw__&Key-Pair-Id=KSXX7H7QURW4X\" width=\"200\"></a>\n",
      "\n",
      "![2752171](https://assets.crowdmark.com/exam_pages/49a20aac-7ee6-4af4-b25a-62440749efce?Expires=1631149731&Signature=hm1lFq~HWxUi0HNsgU1H735YSQsJCHIeO3j2Mu-uDkqyzaQv~Wnze1ojX2wvmFaK0mhGBJFLMqejX8i0STmRSA05oDwqySX5xSDxku-XIhYPRH6TwRC4pcpnCLkgTgfl5YhmPKRAoub9mNfEMWdaC5anY5l24ypCuRUeg20eeaOdrl6RANqcQOfq3GgTvT~fUW5yIKiBZ~TJ~ZcqZ6NH~GCU~dNzBdNvnMI2FTRBovNWYQRNm8HCzdjYBMj0E4bUfblqviPNkcT81huApaM~ZO4y-1vUTSjizbUhWfVbPFD5NT7JbZcMI-Yn6LDx1iMGohiD8crrsOCXPahKN19ntA__&Key-Pair-Id=KSXX7H7QURW4X)\n",
      "\n",
      "<a href=\"https://assets.crowdmark.com/exam_pages/49a20aac-7ee6-4af4-b25a-62440749efce?Expires=1631149731&Signature=hm1lFq~HWxUi0HNsgU1H735YSQsJCHIeO3j2Mu-uDkqyzaQv~Wnze1ojX2wvmFaK0mhGBJFLMqejX8i0STmRSA05oDwqySX5xSDxku-XIhYPRH6TwRC4pcpnCLkgTgfl5YhmPKRAoub9mNfEMWdaC5anY5l24ypCuRUeg20eeaOdrl6RANqcQOfq3GgTvT~fUW5yIKiBZ~TJ~ZcqZ6NH~GCU~dNzBdNvnMI2FTRBovNWYQRNm8HCzdjYBMj0E4bUfblqviPNkcT81huApaM~ZO4y-1vUTSjizbUhWfVbPFD5NT7JbZcMI-Yn6LDx1iMGohiD8crrsOCXPahKN19ntA__&Key-Pair-Id=KSXX7H7QURW4X\"><img src =\"https://assets.crowdmark.com/exam_pages/49a20aac-7ee6-4af4-b25a-62440749efce?Expires=1631149731&Signature=hm1lFq~HWxUi0HNsgU1H735YSQsJCHIeO3j2Mu-uDkqyzaQv~Wnze1ojX2wvmFaK0mhGBJFLMqejX8i0STmRSA05oDwqySX5xSDxku-XIhYPRH6TwRC4pcpnCLkgTgfl5YhmPKRAoub9mNfEMWdaC5anY5l24ypCuRUeg20eeaOdrl6RANqcQOfq3GgTvT~fUW5yIKiBZ~TJ~ZcqZ6NH~GCU~dNzBdNvnMI2FTRBovNWYQRNm8HCzdjYBMj0E4bUfblqviPNkcT81huApaM~ZO4y-1vUTSjizbUhWfVbPFD5NT7JbZcMI-Yn6LDx1iMGohiD8crrsOCXPahKN19ntA__&Key-Pair-Id=KSXX7H7QURW4X\" width=\"200\"></a>\n",
      "\n",
      "![2752171](https://assets.crowdmark.com/exam_pages/9db136d7-48bb-4440-87d9-da7df6c719a6?Expires=1631149731&Signature=d9WB2tI~H5lp2l2R25flAS~miCSKfouVooPDT86qzdIghVHCI~lPG~b7~LPiRFVqvnQvVQrCHydVPbLVMPoeViBVe6kgOXjf86IxkgCbQQtK235q-rIzhW55n2~HDmRh8U5jOC6ZCC2G~Io1BwXZbJMgqpICWa3phTFbACKqhBLvUnYWPXnxFdK7krLqDGuO9vVafIRrib7Z2MO8CZ0mF2Nj3AO00Yg3Obe8Y1QZsYjjymXNKYnKimAGmzQml~wDkIy0hkEr-PmBu4CTBTnJukt8-MLYjf9Zw8Vxee1x5lv~zqm7QBRLI54ekkH4PbCh5~XdpJcpWn-vTdvwl4CmvA__&Key-Pair-Id=KSXX7H7QURW4X)\n",
      "\n",
      "<a href=\"https://assets.crowdmark.com/exam_pages/9db136d7-48bb-4440-87d9-da7df6c719a6?Expires=1631149731&Signature=d9WB2tI~H5lp2l2R25flAS~miCSKfouVooPDT86qzdIghVHCI~lPG~b7~LPiRFVqvnQvVQrCHydVPbLVMPoeViBVe6kgOXjf86IxkgCbQQtK235q-rIzhW55n2~HDmRh8U5jOC6ZCC2G~Io1BwXZbJMgqpICWa3phTFbACKqhBLvUnYWPXnxFdK7krLqDGuO9vVafIRrib7Z2MO8CZ0mF2Nj3AO00Yg3Obe8Y1QZsYjjymXNKYnKimAGmzQml~wDkIy0hkEr-PmBu4CTBTnJukt8-MLYjf9Zw8Vxee1x5lv~zqm7QBRLI54ekkH4PbCh5~XdpJcpWn-vTdvwl4CmvA__&Key-Pair-Id=KSXX7H7QURW4X\"><img src =\"https://assets.crowdmark.com/exam_pages/9db136d7-48bb-4440-87d9-da7df6c719a6?Expires=1631149731&Signature=d9WB2tI~H5lp2l2R25flAS~miCSKfouVooPDT86qzdIghVHCI~lPG~b7~LPiRFVqvnQvVQrCHydVPbLVMPoeViBVe6kgOXjf86IxkgCbQQtK235q-rIzhW55n2~HDmRh8U5jOC6ZCC2G~Io1BwXZbJMgqpICWa3phTFbACKqhBLvUnYWPXnxFdK7krLqDGuO9vVafIRrib7Z2MO8CZ0mF2Nj3AO00Yg3Obe8Y1QZsYjjymXNKYnKimAGmzQml~wDkIy0hkEr-PmBu4CTBTnJukt8-MLYjf9Zw8Vxee1x5lv~zqm7QBRLI54ekkH4PbCh5~XdpJcpWn-vTdvwl4CmvA__&Key-Pair-Id=KSXX7H7QURW4X\" width=\"200\"></a>\n",
      "\n",
      "</ul>\n",
      "\n",
      "--------------------------- \n",
      "\n",
      "### Booklet:2752175\n",
      "\n",
      "<ul><br>\n",
      "\n",
      "![2752175](https://assets.crowdmark.com/exam_pages/541b8c9e-35a8-4755-8463-362ce4c74e6c?Expires=1631149733&Signature=m4rOi3c1H4H8AxcnnuiRLDpnGKsdAKcYm6QgwCW~Kq1kvL7qto-twJ8zoSsve6s6AuMzR1eSNRNeYGLJyjLsw1cG-EXtEi~iS8A5ibJqi4HvOhd0h5elw~XVGd72Cn1pxGLnUPl3~-T2TjWRxi9MDdhap3wAxqITVVS-4VO93KlvUaJnsCjrLli9EaMkFdLQR9m1ye8w1DLKy-Yoxp7hwC~4qwKm0qhVw2JI~mdz00Du3fE39zzAaEYkVd45h6IlEEvO0DNYz5QmN7BpSS70aUAJUkfYtcITma64NtTLzaJvXNtG99WZ6QwGgD~AAjFU~4O0BJthqjbxKaDhFWmO~g__&Key-Pair-Id=KSXX7H7QURW4X)\n",
      "\n",
      "<a href=\"https://assets.crowdmark.com/exam_pages/541b8c9e-35a8-4755-8463-362ce4c74e6c?Expires=1631149733&Signature=m4rOi3c1H4H8AxcnnuiRLDpnGKsdAKcYm6QgwCW~Kq1kvL7qto-twJ8zoSsve6s6AuMzR1eSNRNeYGLJyjLsw1cG-EXtEi~iS8A5ibJqi4HvOhd0h5elw~XVGd72Cn1pxGLnUPl3~-T2TjWRxi9MDdhap3wAxqITVVS-4VO93KlvUaJnsCjrLli9EaMkFdLQR9m1ye8w1DLKy-Yoxp7hwC~4qwKm0qhVw2JI~mdz00Du3fE39zzAaEYkVd45h6IlEEvO0DNYz5QmN7BpSS70aUAJUkfYtcITma64NtTLzaJvXNtG99WZ6QwGgD~AAjFU~4O0BJthqjbxKaDhFWmO~g__&Key-Pair-Id=KSXX7H7QURW4X\"><img src =\"https://assets.crowdmark.com/exam_pages/541b8c9e-35a8-4755-8463-362ce4c74e6c?Expires=1631149733&Signature=m4rOi3c1H4H8AxcnnuiRLDpnGKsdAKcYm6QgwCW~Kq1kvL7qto-twJ8zoSsve6s6AuMzR1eSNRNeYGLJyjLsw1cG-EXtEi~iS8A5ibJqi4HvOhd0h5elw~XVGd72Cn1pxGLnUPl3~-T2TjWRxi9MDdhap3wAxqITVVS-4VO93KlvUaJnsCjrLli9EaMkFdLQR9m1ye8w1DLKy-Yoxp7hwC~4qwKm0qhVw2JI~mdz00Du3fE39zzAaEYkVd45h6IlEEvO0DNYz5QmN7BpSS70aUAJUkfYtcITma64NtTLzaJvXNtG99WZ6QwGgD~AAjFU~4O0BJthqjbxKaDhFWmO~g__&Key-Pair-Id=KSXX7H7QURW4X\" width=\"200\"></a>\n",
      "\n",
      "![2752175](https://assets.crowdmark.com/exam_pages/f341c09c-1b29-4b3f-ac61-469d8bfc13f2?Expires=1631149733&Signature=NUXPyxINyFCJQbH59Pb7AJIHknyKvBkM3I6eFRpg3o32aKWktmRAsKCxOZj0FN7sntSYhgFEyWsxy8nST-HIQ1PGseQiuoYPf8UjS-AhR5q5unTHprtEAY4rbQn8rsT6I7~olAxw0ED6~HWaLsjr2VbLQbe2WrILbAIn7XmbTBO1rY-dZML8Izsiy-BTMaXk2W0V0QEE6Gr2phRsLrsmix2f9yF3nGEUevAZM5~IuJA4Wfo6OxDvJXA1TPhYLTCvivPyPK4-XWidGa4vMDz00MoAQprtvFKkVxOIqnq5J3uooiEBYTI4DvsKdr77yKyoupC7X-J6mF4PF1-L~eFlbA__&Key-Pair-Id=KSXX7H7QURW4X)\n",
      "\n",
      "<a href=\"https://assets.crowdmark.com/exam_pages/f341c09c-1b29-4b3f-ac61-469d8bfc13f2?Expires=1631149733&Signature=NUXPyxINyFCJQbH59Pb7AJIHknyKvBkM3I6eFRpg3o32aKWktmRAsKCxOZj0FN7sntSYhgFEyWsxy8nST-HIQ1PGseQiuoYPf8UjS-AhR5q5unTHprtEAY4rbQn8rsT6I7~olAxw0ED6~HWaLsjr2VbLQbe2WrILbAIn7XmbTBO1rY-dZML8Izsiy-BTMaXk2W0V0QEE6Gr2phRsLrsmix2f9yF3nGEUevAZM5~IuJA4Wfo6OxDvJXA1TPhYLTCvivPyPK4-XWidGa4vMDz00MoAQprtvFKkVxOIqnq5J3uooiEBYTI4DvsKdr77yKyoupC7X-J6mF4PF1-L~eFlbA__&Key-Pair-Id=KSXX7H7QURW4X\"><img src =\"https://assets.crowdmark.com/exam_pages/f341c09c-1b29-4b3f-ac61-469d8bfc13f2?Expires=1631149733&Signature=NUXPyxINyFCJQbH59Pb7AJIHknyKvBkM3I6eFRpg3o32aKWktmRAsKCxOZj0FN7sntSYhgFEyWsxy8nST-HIQ1PGseQiuoYPf8UjS-AhR5q5unTHprtEAY4rbQn8rsT6I7~olAxw0ED6~HWaLsjr2VbLQbe2WrILbAIn7XmbTBO1rY-dZML8Izsiy-BTMaXk2W0V0QEE6Gr2phRsLrsmix2f9yF3nGEUevAZM5~IuJA4Wfo6OxDvJXA1TPhYLTCvivPyPK4-XWidGa4vMDz00MoAQprtvFKkVxOIqnq5J3uooiEBYTI4DvsKdr77yKyoupC7X-J6mF4PF1-L~eFlbA__&Key-Pair-Id=KSXX7H7QURW4X\" width=\"200\"></a>\n",
      "\n",
      "![2752175](https://assets.crowdmark.com/exam_pages/90eadaba-1eb1-43b8-9afc-dd068acd8cce?Expires=1631149733&Signature=gklrHsIR6prCkQiglmnPcZerCTqHQ7DhIFFrjgj-xBnGjuy2ixMw90Bwk98mgFmb6hgz10x71qnxk4~86cjP0t381Vp14jVIOuRXxlwgFuAMErcoHd7a6mVeAeohr8v9XJQnEUhXvx9Od4UhCW5AdsZRZoF5hoqRnOdduij9Kia~L105zgCpTetyRWLtTQLt3dKzKwzgrVTqw2BsDMPC7r1NSwEL8j5UwIP2H0KhpHO0JkAnVqqf3d3sxVkQ9vs59vrMOpf5mxablcswPDMnOPIoRJOvwFmQ8jhJQ4wcVxoon0rtiLtcBd8DPPPgMYoFJJDe5EUser30PeTCExjzpw__&Key-Pair-Id=KSXX7H7QURW4X)\n",
      "\n",
      "<a href=\"https://assets.crowdmark.com/exam_pages/90eadaba-1eb1-43b8-9afc-dd068acd8cce?Expires=1631149733&Signature=gklrHsIR6prCkQiglmnPcZerCTqHQ7DhIFFrjgj-xBnGjuy2ixMw90Bwk98mgFmb6hgz10x71qnxk4~86cjP0t381Vp14jVIOuRXxlwgFuAMErcoHd7a6mVeAeohr8v9XJQnEUhXvx9Od4UhCW5AdsZRZoF5hoqRnOdduij9Kia~L105zgCpTetyRWLtTQLt3dKzKwzgrVTqw2BsDMPC7r1NSwEL8j5UwIP2H0KhpHO0JkAnVqqf3d3sxVkQ9vs59vrMOpf5mxablcswPDMnOPIoRJOvwFmQ8jhJQ4wcVxoon0rtiLtcBd8DPPPgMYoFJJDe5EUser30PeTCExjzpw__&Key-Pair-Id=KSXX7H7QURW4X\"><img src =\"https://assets.crowdmark.com/exam_pages/90eadaba-1eb1-43b8-9afc-dd068acd8cce?Expires=1631149733&Signature=gklrHsIR6prCkQiglmnPcZerCTqHQ7DhIFFrjgj-xBnGjuy2ixMw90Bwk98mgFmb6hgz10x71qnxk4~86cjP0t381Vp14jVIOuRXxlwgFuAMErcoHd7a6mVeAeohr8v9XJQnEUhXvx9Od4UhCW5AdsZRZoF5hoqRnOdduij9Kia~L105zgCpTetyRWLtTQLt3dKzKwzgrVTqw2BsDMPC7r1NSwEL8j5UwIP2H0KhpHO0JkAnVqqf3d3sxVkQ9vs59vrMOpf5mxablcswPDMnOPIoRJOvwFmQ8jhJQ4wcVxoon0rtiLtcBd8DPPPgMYoFJJDe5EUser30PeTCExjzpw__&Key-Pair-Id=KSXX7H7QURW4X\" width=\"200\"></a>\n",
      "\n",
      "![2752175](https://assets.crowdmark.com/exam_pages/dd605287-701f-4f6a-b949-35d6fe1ad906?Expires=1631149733&Signature=DB5gLPQOry-W07lNbkVOU--VssjtSBIb5h1fnGnVtWMdbYnVlOr40jxILsPmkj2uzn8ckLkhWYqgmPn44qplqlhGhaaWZOn8nWkYrO9ZA-3k6rQCFMLreaOGgDhdMRTRLc6YNDpLbe0UatHhXuwvYAJwMzZZIhUMmAIc-uh89SLYQ7-tiPeWtcuCRnVgzeD0LsRP8C1aZSampGhiA9RrDTezfWwtzgWfmte67I~YXCDlX0DKidLQpfxIoQZMt2NAj~iZIsL6dMfW2y6M~qbddWGGPG79nh3ioCbPY5f6SDy1la~sQ7rwcf82OIiAjPWDLBjK1xkOc9V703J-XpOuXg__&Key-Pair-Id=KSXX7H7QURW4X)\n",
      "\n",
      "<a href=\"https://assets.crowdmark.com/exam_pages/dd605287-701f-4f6a-b949-35d6fe1ad906?Expires=1631149733&Signature=DB5gLPQOry-W07lNbkVOU--VssjtSBIb5h1fnGnVtWMdbYnVlOr40jxILsPmkj2uzn8ckLkhWYqgmPn44qplqlhGhaaWZOn8nWkYrO9ZA-3k6rQCFMLreaOGgDhdMRTRLc6YNDpLbe0UatHhXuwvYAJwMzZZIhUMmAIc-uh89SLYQ7-tiPeWtcuCRnVgzeD0LsRP8C1aZSampGhiA9RrDTezfWwtzgWfmte67I~YXCDlX0DKidLQpfxIoQZMt2NAj~iZIsL6dMfW2y6M~qbddWGGPG79nh3ioCbPY5f6SDy1la~sQ7rwcf82OIiAjPWDLBjK1xkOc9V703J-XpOuXg__&Key-Pair-Id=KSXX7H7QURW4X\"><img src =\"https://assets.crowdmark.com/exam_pages/dd605287-701f-4f6a-b949-35d6fe1ad906?Expires=1631149733&Signature=DB5gLPQOry-W07lNbkVOU--VssjtSBIb5h1fnGnVtWMdbYnVlOr40jxILsPmkj2uzn8ckLkhWYqgmPn44qplqlhGhaaWZOn8nWkYrO9ZA-3k6rQCFMLreaOGgDhdMRTRLc6YNDpLbe0UatHhXuwvYAJwMzZZIhUMmAIc-uh89SLYQ7-tiPeWtcuCRnVgzeD0LsRP8C1aZSampGhiA9RrDTezfWwtzgWfmte67I~YXCDlX0DKidLQpfxIoQZMt2NAj~iZIsL6dMfW2y6M~qbddWGGPG79nh3ioCbPY5f6SDy1la~sQ7rwcf82OIiAjPWDLBjK1xkOc9V703J-XpOuXg__&Key-Pair-Id=KSXX7H7QURW4X\" width=\"200\"></a>\n",
      "\n",
      "</ul>\n",
      "\n",
      "--------------------------- \n",
      "\n",
      "### Booklet:2752174\n",
      "\n",
      "<ul><br>\n",
      "\n",
      "![2752174](https://assets.crowdmark.com/exam_pages/77bf963e-55be-4d14-8293-42cf07d01fe8?Expires=1631149734&Signature=NeFH1l17eehIG09HWp157HvHvs6GDoUgd2HkyeCjuy8onsWDqv6H3WgifHsvFjbIzNaol-qSgWc7YM69hIS1W5k2Q7euHapZtelyba4G4cJcBeV01Rwrgpl2h7zmo8e~hg3JXeZas4HGanYJG6-ITyHIBjntHyjVneG7uJBz92tguZ3OkhdHYOmZhBE73Dmmt~7gWNkN7PoL59DDkLEtSisBvQ5ZusLja9SmBLuGmyyW~yd89175uUSVpWPFgd-xlw1lN1zg~wm7I3LMCqVjh2sYARy5UevygAxvPc3WoR37rie8dXdL~YheKuOGCaKZo82psS1LUbc2GTwbqAnyvg__&Key-Pair-Id=KSXX7H7QURW4X)\n",
      "\n",
      "<a href=\"https://assets.crowdmark.com/exam_pages/77bf963e-55be-4d14-8293-42cf07d01fe8?Expires=1631149734&Signature=NeFH1l17eehIG09HWp157HvHvs6GDoUgd2HkyeCjuy8onsWDqv6H3WgifHsvFjbIzNaol-qSgWc7YM69hIS1W5k2Q7euHapZtelyba4G4cJcBeV01Rwrgpl2h7zmo8e~hg3JXeZas4HGanYJG6-ITyHIBjntHyjVneG7uJBz92tguZ3OkhdHYOmZhBE73Dmmt~7gWNkN7PoL59DDkLEtSisBvQ5ZusLja9SmBLuGmyyW~yd89175uUSVpWPFgd-xlw1lN1zg~wm7I3LMCqVjh2sYARy5UevygAxvPc3WoR37rie8dXdL~YheKuOGCaKZo82psS1LUbc2GTwbqAnyvg__&Key-Pair-Id=KSXX7H7QURW4X\"><img src =\"https://assets.crowdmark.com/exam_pages/77bf963e-55be-4d14-8293-42cf07d01fe8?Expires=1631149734&Signature=NeFH1l17eehIG09HWp157HvHvs6GDoUgd2HkyeCjuy8onsWDqv6H3WgifHsvFjbIzNaol-qSgWc7YM69hIS1W5k2Q7euHapZtelyba4G4cJcBeV01Rwrgpl2h7zmo8e~hg3JXeZas4HGanYJG6-ITyHIBjntHyjVneG7uJBz92tguZ3OkhdHYOmZhBE73Dmmt~7gWNkN7PoL59DDkLEtSisBvQ5ZusLja9SmBLuGmyyW~yd89175uUSVpWPFgd-xlw1lN1zg~wm7I3LMCqVjh2sYARy5UevygAxvPc3WoR37rie8dXdL~YheKuOGCaKZo82psS1LUbc2GTwbqAnyvg__&Key-Pair-Id=KSXX7H7QURW4X\" width=\"200\"></a>\n",
      "\n",
      "![2752174](https://assets.crowdmark.com/exam_pages/170506c3-dd33-49ce-83f7-ffe0f5a1b59c?Expires=1631149734&Signature=SPmAJIqMS0xQ~3O-VZ-D43BrfhVwvcU0TB96T8-SGgrK7RR-Nl7zqggdRVKVh6gX0sX1i2iRnPLHwEdxkiMj5szV8VeKapZWiXF9YryGpVyQn2xLcGKsXYlRfk9qAI6Vx9te2xOjobwkc9U-GyZ0~YvMY~kO1JMHWvtrk7rzN~LYuUQ0jAnY2mRJ3pJCGayz1uXqxVIqpMYtav~nxMsFORCnjbX-~UA6ciuXrreKYlGm4KX-V4JYJh16Eu84CLFqY3dGlOYcb13jz2sJxP2NuiTzHVxBwWrNuB~6Nu~yfnMZeNiPM54YdKv0Dm66~8mWMVB8L93defAqEOZ8kYopug__&Key-Pair-Id=KSXX7H7QURW4X)\n",
      "\n",
      "<a href=\"https://assets.crowdmark.com/exam_pages/170506c3-dd33-49ce-83f7-ffe0f5a1b59c?Expires=1631149734&Signature=SPmAJIqMS0xQ~3O-VZ-D43BrfhVwvcU0TB96T8-SGgrK7RR-Nl7zqggdRVKVh6gX0sX1i2iRnPLHwEdxkiMj5szV8VeKapZWiXF9YryGpVyQn2xLcGKsXYlRfk9qAI6Vx9te2xOjobwkc9U-GyZ0~YvMY~kO1JMHWvtrk7rzN~LYuUQ0jAnY2mRJ3pJCGayz1uXqxVIqpMYtav~nxMsFORCnjbX-~UA6ciuXrreKYlGm4KX-V4JYJh16Eu84CLFqY3dGlOYcb13jz2sJxP2NuiTzHVxBwWrNuB~6Nu~yfnMZeNiPM54YdKv0Dm66~8mWMVB8L93defAqEOZ8kYopug__&Key-Pair-Id=KSXX7H7QURW4X\"><img src =\"https://assets.crowdmark.com/exam_pages/170506c3-dd33-49ce-83f7-ffe0f5a1b59c?Expires=1631149734&Signature=SPmAJIqMS0xQ~3O-VZ-D43BrfhVwvcU0TB96T8-SGgrK7RR-Nl7zqggdRVKVh6gX0sX1i2iRnPLHwEdxkiMj5szV8VeKapZWiXF9YryGpVyQn2xLcGKsXYlRfk9qAI6Vx9te2xOjobwkc9U-GyZ0~YvMY~kO1JMHWvtrk7rzN~LYuUQ0jAnY2mRJ3pJCGayz1uXqxVIqpMYtav~nxMsFORCnjbX-~UA6ciuXrreKYlGm4KX-V4JYJh16Eu84CLFqY3dGlOYcb13jz2sJxP2NuiTzHVxBwWrNuB~6Nu~yfnMZeNiPM54YdKv0Dm66~8mWMVB8L93defAqEOZ8kYopug__&Key-Pair-Id=KSXX7H7QURW4X\" width=\"200\"></a>\n",
      "\n",
      "![2752174](https://assets.crowdmark.com/exam_pages/069c05c8-cfed-4a17-aaa5-7448ebb74bdf?Expires=1631149734&Signature=gH0fMNzOKQb3SvyGTeALlFkua7k5iuVyk~gQrxFI8n7V1Qgy~RtkvyN9ZHCZ1HxXi4NZn-28T-cKpNUcRMBr54ZGSYSHzXEjfpxP4tK2~XHL0uw-ULubzKwREpQOM1veHffmNdcTPFPdUCT-9tRTG4wYPATluALJbDVlz7ZmhBicwgk9C6eUiQXVRgAQaXNwZbcI3NDXCGQGz3Xeotp6DWlaqvxLv9mxaGg8nIm3BXjM6DrHBtUIt4glC80zGyGw-xcXuMAhNkFsQswB37e~G1zO1-2L~cNU7pNPUI5mzckV64igU0IxNMeakI-bvr0iC7s1UeJTfgfgbsZn-dcgSg__&Key-Pair-Id=KSXX7H7QURW4X)\n",
      "\n",
      "<a href=\"https://assets.crowdmark.com/exam_pages/069c05c8-cfed-4a17-aaa5-7448ebb74bdf?Expires=1631149734&Signature=gH0fMNzOKQb3SvyGTeALlFkua7k5iuVyk~gQrxFI8n7V1Qgy~RtkvyN9ZHCZ1HxXi4NZn-28T-cKpNUcRMBr54ZGSYSHzXEjfpxP4tK2~XHL0uw-ULubzKwREpQOM1veHffmNdcTPFPdUCT-9tRTG4wYPATluALJbDVlz7ZmhBicwgk9C6eUiQXVRgAQaXNwZbcI3NDXCGQGz3Xeotp6DWlaqvxLv9mxaGg8nIm3BXjM6DrHBtUIt4glC80zGyGw-xcXuMAhNkFsQswB37e~G1zO1-2L~cNU7pNPUI5mzckV64igU0IxNMeakI-bvr0iC7s1UeJTfgfgbsZn-dcgSg__&Key-Pair-Id=KSXX7H7QURW4X\"><img src =\"https://assets.crowdmark.com/exam_pages/069c05c8-cfed-4a17-aaa5-7448ebb74bdf?Expires=1631149734&Signature=gH0fMNzOKQb3SvyGTeALlFkua7k5iuVyk~gQrxFI8n7V1Qgy~RtkvyN9ZHCZ1HxXi4NZn-28T-cKpNUcRMBr54ZGSYSHzXEjfpxP4tK2~XHL0uw-ULubzKwREpQOM1veHffmNdcTPFPdUCT-9tRTG4wYPATluALJbDVlz7ZmhBicwgk9C6eUiQXVRgAQaXNwZbcI3NDXCGQGz3Xeotp6DWlaqvxLv9mxaGg8nIm3BXjM6DrHBtUIt4glC80zGyGw-xcXuMAhNkFsQswB37e~G1zO1-2L~cNU7pNPUI5mzckV64igU0IxNMeakI-bvr0iC7s1UeJTfgfgbsZn-dcgSg__&Key-Pair-Id=KSXX7H7QURW4X\" width=\"200\"></a>\n",
      "\n",
      "![2752174](https://assets.crowdmark.com/exam_pages/da08add8-4e32-4dda-b4e0-9ee03bd9249c?Expires=1631149734&Signature=U37p~UxZBcd2NvkRNLnrg7r0UOTMEKeC1NqRnC5pymgdoPnNHexCGxXK1e3G-QNmGkFhPHE8-XCDREkR0RAtNs80R59uHZuIQ~IUysBQudOP4QIUTg7-9I8OwsOqnafs8fVSSlp1bH9dmTprqu8i3T3kYbHAO7LyOILhdX3ZpN2JmtALak6ekk-7IY3E3dOIOiiRrJ70u5Kr0sElljlxDNOcQT4P8Vkbn4Zu~ifdJSvrvR-07e2vrEkiklGFPTk91C6-SxkM3YOos8d6L7FZZUTcVmp2HjnbEnmWxp8xDx67IxH1PwFM3U93pFa-YL4YwsU3VEM4snJcesivTN7WFg__&Key-Pair-Id=KSXX7H7QURW4X)\n",
      "\n",
      "<a href=\"https://assets.crowdmark.com/exam_pages/da08add8-4e32-4dda-b4e0-9ee03bd9249c?Expires=1631149734&Signature=U37p~UxZBcd2NvkRNLnrg7r0UOTMEKeC1NqRnC5pymgdoPnNHexCGxXK1e3G-QNmGkFhPHE8-XCDREkR0RAtNs80R59uHZuIQ~IUysBQudOP4QIUTg7-9I8OwsOqnafs8fVSSlp1bH9dmTprqu8i3T3kYbHAO7LyOILhdX3ZpN2JmtALak6ekk-7IY3E3dOIOiiRrJ70u5Kr0sElljlxDNOcQT4P8Vkbn4Zu~ifdJSvrvR-07e2vrEkiklGFPTk91C6-SxkM3YOos8d6L7FZZUTcVmp2HjnbEnmWxp8xDx67IxH1PwFM3U93pFa-YL4YwsU3VEM4snJcesivTN7WFg__&Key-Pair-Id=KSXX7H7QURW4X\"><img src =\"https://assets.crowdmark.com/exam_pages/da08add8-4e32-4dda-b4e0-9ee03bd9249c?Expires=1631149734&Signature=U37p~UxZBcd2NvkRNLnrg7r0UOTMEKeC1NqRnC5pymgdoPnNHexCGxXK1e3G-QNmGkFhPHE8-XCDREkR0RAtNs80R59uHZuIQ~IUysBQudOP4QIUTg7-9I8OwsOqnafs8fVSSlp1bH9dmTprqu8i3T3kYbHAO7LyOILhdX3ZpN2JmtALak6ekk-7IY3E3dOIOiiRrJ70u5Kr0sElljlxDNOcQT4P8Vkbn4Zu~ifdJSvrvR-07e2vrEkiklGFPTk91C6-SxkM3YOos8d6L7FZZUTcVmp2HjnbEnmWxp8xDx67IxH1PwFM3U93pFa-YL4YwsU3VEM4snJcesivTN7WFg__&Key-Pair-Id=KSXX7H7QURW4X\" width=\"200\"></a>\n",
      "\n",
      "</ul>\n",
      "\n",
      "--------------------------- \n",
      "\n",
      "### Booklet:2752177\n",
      "\n",
      "<ul><br>\n",
      "\n",
      "![2752177](https://assets.crowdmark.com/exam_pages/2eb5c8d8-70e4-4175-95ce-ab4a05e4c355?Expires=1631149736&Signature=YSsDbK2fsJPnTqJxnQg1C~8qTWnlK6nWMZ-KehQqtCz7C9ASoIvPCS~mxryTTMvFLWdH-6B9fE0mGFJvksbXC2mRCdLxOKCUBR9bssF91rUoSSXzHAIp5UAzcsCTH39iwBGgqA2y0qPQzVBLLYBNw6VlLQrZElEPjyT~Agaui~LmpbcXaeKmCa5Z0jofLDzx6PicTgo5CI5GD0i6l99bhTQUwQIvVF10CPxZwQ0yr-hOe~R9r-K9e1byinY-KUEs2topErSCZf40gDyS65eOWQINEOzXnXi2j6wnfuMyMKqMUAupSjeXeKm6lD0bKDloMgvWrpB860VPyFHVXtGXwQ__&Key-Pair-Id=KSXX7H7QURW4X)\n",
      "\n",
      "<a href=\"https://assets.crowdmark.com/exam_pages/2eb5c8d8-70e4-4175-95ce-ab4a05e4c355?Expires=1631149736&Signature=YSsDbK2fsJPnTqJxnQg1C~8qTWnlK6nWMZ-KehQqtCz7C9ASoIvPCS~mxryTTMvFLWdH-6B9fE0mGFJvksbXC2mRCdLxOKCUBR9bssF91rUoSSXzHAIp5UAzcsCTH39iwBGgqA2y0qPQzVBLLYBNw6VlLQrZElEPjyT~Agaui~LmpbcXaeKmCa5Z0jofLDzx6PicTgo5CI5GD0i6l99bhTQUwQIvVF10CPxZwQ0yr-hOe~R9r-K9e1byinY-KUEs2topErSCZf40gDyS65eOWQINEOzXnXi2j6wnfuMyMKqMUAupSjeXeKm6lD0bKDloMgvWrpB860VPyFHVXtGXwQ__&Key-Pair-Id=KSXX7H7QURW4X\"><img src =\"https://assets.crowdmark.com/exam_pages/2eb5c8d8-70e4-4175-95ce-ab4a05e4c355?Expires=1631149736&Signature=YSsDbK2fsJPnTqJxnQg1C~8qTWnlK6nWMZ-KehQqtCz7C9ASoIvPCS~mxryTTMvFLWdH-6B9fE0mGFJvksbXC2mRCdLxOKCUBR9bssF91rUoSSXzHAIp5UAzcsCTH39iwBGgqA2y0qPQzVBLLYBNw6VlLQrZElEPjyT~Agaui~LmpbcXaeKmCa5Z0jofLDzx6PicTgo5CI5GD0i6l99bhTQUwQIvVF10CPxZwQ0yr-hOe~R9r-K9e1byinY-KUEs2topErSCZf40gDyS65eOWQINEOzXnXi2j6wnfuMyMKqMUAupSjeXeKm6lD0bKDloMgvWrpB860VPyFHVXtGXwQ__&Key-Pair-Id=KSXX7H7QURW4X\" width=\"200\"></a>\n",
      "\n",
      "![2752177](https://assets.crowdmark.com/exam_pages/4c95ef85-2def-4f48-bf1c-c8705459125d?Expires=1631149736&Signature=mx22AwhVa~pnJbofIX87iGVBZEi~WPxclyB9yAos9eKb1AVqbg3qBwUvi5cf4f~hJ7oNnh8TjVSrQVzG1gnKrGmsPPtJSwkvX8yMMDb9Q~8qAWp6DdCkLH8oFRIU-FZHQTMySv7lA1dhL2Q18ic1gtK3CWRMC1RKcCO4DffNXyAoYVwX7rW9~SUEqA1uC2Uz06iqut5nynRBYOAQhO4FO7NaoAQva-OejcbnCYjhU4izWORHd9bTmRXi~bvMcB7AR9f78660ZH2dl05RUl7-X1OnQ0EWZ59oRZO34Fk81Duh~m~d5A21bTuMm4I4DuFVWuT6vC0CvyLza-suegIxLg__&Key-Pair-Id=KSXX7H7QURW4X)\n",
      "\n",
      "<a href=\"https://assets.crowdmark.com/exam_pages/4c95ef85-2def-4f48-bf1c-c8705459125d?Expires=1631149736&Signature=mx22AwhVa~pnJbofIX87iGVBZEi~WPxclyB9yAos9eKb1AVqbg3qBwUvi5cf4f~hJ7oNnh8TjVSrQVzG1gnKrGmsPPtJSwkvX8yMMDb9Q~8qAWp6DdCkLH8oFRIU-FZHQTMySv7lA1dhL2Q18ic1gtK3CWRMC1RKcCO4DffNXyAoYVwX7rW9~SUEqA1uC2Uz06iqut5nynRBYOAQhO4FO7NaoAQva-OejcbnCYjhU4izWORHd9bTmRXi~bvMcB7AR9f78660ZH2dl05RUl7-X1OnQ0EWZ59oRZO34Fk81Duh~m~d5A21bTuMm4I4DuFVWuT6vC0CvyLza-suegIxLg__&Key-Pair-Id=KSXX7H7QURW4X\"><img src =\"https://assets.crowdmark.com/exam_pages/4c95ef85-2def-4f48-bf1c-c8705459125d?Expires=1631149736&Signature=mx22AwhVa~pnJbofIX87iGVBZEi~WPxclyB9yAos9eKb1AVqbg3qBwUvi5cf4f~hJ7oNnh8TjVSrQVzG1gnKrGmsPPtJSwkvX8yMMDb9Q~8qAWp6DdCkLH8oFRIU-FZHQTMySv7lA1dhL2Q18ic1gtK3CWRMC1RKcCO4DffNXyAoYVwX7rW9~SUEqA1uC2Uz06iqut5nynRBYOAQhO4FO7NaoAQva-OejcbnCYjhU4izWORHd9bTmRXi~bvMcB7AR9f78660ZH2dl05RUl7-X1OnQ0EWZ59oRZO34Fk81Duh~m~d5A21bTuMm4I4DuFVWuT6vC0CvyLza-suegIxLg__&Key-Pair-Id=KSXX7H7QURW4X\" width=\"200\"></a>\n",
      "\n",
      "![2752177](https://assets.crowdmark.com/exam_pages/88541006-ab79-4181-9c31-acbc402db38c?Expires=1631149736&Signature=i3XTG6LJG-VwG6kXO5hz5ccI-jUikXfJeym~5PMsWrgajCXxPNp3riZie3IAQAXdyFUor3i6xp~qADyZ~BwLQy2821oZhiacM~7~CZtSmd-NgLDwpKJ7KLRshGlKAh--bFWgCdDYHmDB9XwjjhUS1eelZNuF0-W3cUSqPfMF2wPBiTMUd~tueS7Cv2Rs8A1hwiotgjRyndD4~ALOJRoaHrxEcAjqRScVuWBP-zMLNMOPHWNBqMRJ8bUKXuLAay4ATX5-5pluaFExSZNixn1jpHYZoI2q~gCmtWa8zarf12-sL8YPCcKrXlZ5owVViOzEI2nKbcy-bB~nwgNuK4f0LA__&Key-Pair-Id=KSXX7H7QURW4X)\n",
      "\n",
      "<a href=\"https://assets.crowdmark.com/exam_pages/88541006-ab79-4181-9c31-acbc402db38c?Expires=1631149736&Signature=i3XTG6LJG-VwG6kXO5hz5ccI-jUikXfJeym~5PMsWrgajCXxPNp3riZie3IAQAXdyFUor3i6xp~qADyZ~BwLQy2821oZhiacM~7~CZtSmd-NgLDwpKJ7KLRshGlKAh--bFWgCdDYHmDB9XwjjhUS1eelZNuF0-W3cUSqPfMF2wPBiTMUd~tueS7Cv2Rs8A1hwiotgjRyndD4~ALOJRoaHrxEcAjqRScVuWBP-zMLNMOPHWNBqMRJ8bUKXuLAay4ATX5-5pluaFExSZNixn1jpHYZoI2q~gCmtWa8zarf12-sL8YPCcKrXlZ5owVViOzEI2nKbcy-bB~nwgNuK4f0LA__&Key-Pair-Id=KSXX7H7QURW4X\"><img src =\"https://assets.crowdmark.com/exam_pages/88541006-ab79-4181-9c31-acbc402db38c?Expires=1631149736&Signature=i3XTG6LJG-VwG6kXO5hz5ccI-jUikXfJeym~5PMsWrgajCXxPNp3riZie3IAQAXdyFUor3i6xp~qADyZ~BwLQy2821oZhiacM~7~CZtSmd-NgLDwpKJ7KLRshGlKAh--bFWgCdDYHmDB9XwjjhUS1eelZNuF0-W3cUSqPfMF2wPBiTMUd~tueS7Cv2Rs8A1hwiotgjRyndD4~ALOJRoaHrxEcAjqRScVuWBP-zMLNMOPHWNBqMRJ8bUKXuLAay4ATX5-5pluaFExSZNixn1jpHYZoI2q~gCmtWa8zarf12-sL8YPCcKrXlZ5owVViOzEI2nKbcy-bB~nwgNuK4f0LA__&Key-Pair-Id=KSXX7H7QURW4X\" width=\"200\"></a>\n",
      "\n",
      "![2752177](https://assets.crowdmark.com/exam_pages/8b00488b-56ac-4ede-ac69-b5cacfa1eea1?Expires=1631149736&Signature=tju7En16oieh6BoZKA~ZHgGyfJS9G7w5idss5eW7TFm36McEHHJeVQWlP72dcpPNoC4E0J4smTWf3C9i8jzJlj4yvQpmo8CmcuE5HN5b1EWutCvpfF3qa-81RiLvIjmtDtD98UrmQ2D99vcjA6TwFxul3ws-Yj1AbOqQPOtR7s3Ni4C1H5O2nIbBkDeYc5AGPRYy5hlXqPi-LtxFoQ4hnr671-JOck5b-4zEiUoWF0YtkUqbMoMbOEeXC3-cD2gdCI4zn8uOtthVHY~mBpWIN1nf6tFGg-gWmWNkQb6WOaYW-xLWhkBL7mnHlsfK-ISO28ZEjkjUDp-QtaTrTwTLBA__&Key-Pair-Id=KSXX7H7QURW4X)\n",
      "\n",
      "<a href=\"https://assets.crowdmark.com/exam_pages/8b00488b-56ac-4ede-ac69-b5cacfa1eea1?Expires=1631149736&Signature=tju7En16oieh6BoZKA~ZHgGyfJS9G7w5idss5eW7TFm36McEHHJeVQWlP72dcpPNoC4E0J4smTWf3C9i8jzJlj4yvQpmo8CmcuE5HN5b1EWutCvpfF3qa-81RiLvIjmtDtD98UrmQ2D99vcjA6TwFxul3ws-Yj1AbOqQPOtR7s3Ni4C1H5O2nIbBkDeYc5AGPRYy5hlXqPi-LtxFoQ4hnr671-JOck5b-4zEiUoWF0YtkUqbMoMbOEeXC3-cD2gdCI4zn8uOtthVHY~mBpWIN1nf6tFGg-gWmWNkQb6WOaYW-xLWhkBL7mnHlsfK-ISO28ZEjkjUDp-QtaTrTwTLBA__&Key-Pair-Id=KSXX7H7QURW4X\"><img src =\"https://assets.crowdmark.com/exam_pages/8b00488b-56ac-4ede-ac69-b5cacfa1eea1?Expires=1631149736&Signature=tju7En16oieh6BoZKA~ZHgGyfJS9G7w5idss5eW7TFm36McEHHJeVQWlP72dcpPNoC4E0J4smTWf3C9i8jzJlj4yvQpmo8CmcuE5HN5b1EWutCvpfF3qa-81RiLvIjmtDtD98UrmQ2D99vcjA6TwFxul3ws-Yj1AbOqQPOtR7s3Ni4C1H5O2nIbBkDeYc5AGPRYy5hlXqPi-LtxFoQ4hnr671-JOck5b-4zEiUoWF0YtkUqbMoMbOEeXC3-cD2gdCI4zn8uOtthVHY~mBpWIN1nf6tFGg-gWmWNkQb6WOaYW-xLWhkBL7mnHlsfK-ISO28ZEjkjUDp-QtaTrTwTLBA__&Key-Pair-Id=KSXX7H7QURW4X\" width=\"200\"></a>\n",
      "\n",
      "</ul>\n",
      "\n",
      "--------------------------- \n",
      "\n",
      "### Booklet:2752178\n",
      "\n",
      "<ul><br>\n",
      "\n",
      "![2752178](https://assets.crowdmark.com/exam_pages/6234e959-dcec-4af0-b6f4-9b66248488d8?Expires=1631149737&Signature=D6djScvHstC5uNiaRO-m6UY1JhhbHe3wQMqybO222D7k0TKQQFbhppi0Db5s~pS8xY5DWxyEZF4ipl8kUCH8Fwvt9F0a417H4eLvqjIGUoxCt0rD0MgwVtojzP0PiY5o~EIaKqnLfYvYbRP29zWOiomF0VC6PKcwJbgW9ZPbgFpF~I13aoB~sDeTootd0QCLmec0hsksykqYCIs0a2VhpDq8TNfUTGjb8kFH8enf6Pwe~ETqt77crIcUUhgchQtuHKVl9MVgovajhEqcEwJeqK5-Nmazu2blzaS63Imwm6vcsokLe54tYfgHmeqcxX-c5Yc9M~Rqmelqw3hCwiHdSQ__&Key-Pair-Id=KSXX7H7QURW4X)\n",
      "\n",
      "<a href=\"https://assets.crowdmark.com/exam_pages/6234e959-dcec-4af0-b6f4-9b66248488d8?Expires=1631149737&Signature=D6djScvHstC5uNiaRO-m6UY1JhhbHe3wQMqybO222D7k0TKQQFbhppi0Db5s~pS8xY5DWxyEZF4ipl8kUCH8Fwvt9F0a417H4eLvqjIGUoxCt0rD0MgwVtojzP0PiY5o~EIaKqnLfYvYbRP29zWOiomF0VC6PKcwJbgW9ZPbgFpF~I13aoB~sDeTootd0QCLmec0hsksykqYCIs0a2VhpDq8TNfUTGjb8kFH8enf6Pwe~ETqt77crIcUUhgchQtuHKVl9MVgovajhEqcEwJeqK5-Nmazu2blzaS63Imwm6vcsokLe54tYfgHmeqcxX-c5Yc9M~Rqmelqw3hCwiHdSQ__&Key-Pair-Id=KSXX7H7QURW4X\"><img src =\"https://assets.crowdmark.com/exam_pages/6234e959-dcec-4af0-b6f4-9b66248488d8?Expires=1631149737&Signature=D6djScvHstC5uNiaRO-m6UY1JhhbHe3wQMqybO222D7k0TKQQFbhppi0Db5s~pS8xY5DWxyEZF4ipl8kUCH8Fwvt9F0a417H4eLvqjIGUoxCt0rD0MgwVtojzP0PiY5o~EIaKqnLfYvYbRP29zWOiomF0VC6PKcwJbgW9ZPbgFpF~I13aoB~sDeTootd0QCLmec0hsksykqYCIs0a2VhpDq8TNfUTGjb8kFH8enf6Pwe~ETqt77crIcUUhgchQtuHKVl9MVgovajhEqcEwJeqK5-Nmazu2blzaS63Imwm6vcsokLe54tYfgHmeqcxX-c5Yc9M~Rqmelqw3hCwiHdSQ__&Key-Pair-Id=KSXX7H7QURW4X\" width=\"200\"></a>\n",
      "\n",
      "![2752178](https://assets.crowdmark.com/exam_pages/b1515aab-496c-47bb-b626-3b534e462f05?Expires=1631149737&Signature=gJnyB-d2~tOt5ZQ-k6Q-2LEPkXSG0PQ0UI2Bovydno4qnwMGhJAHUFLMlVT2vPxucdaeWSOCAx0HwVvmqkv0t3b8NXsEKw4k4PA3I4av4ih8GcBVR5-mW6K1E5gT0byj9BnpH5ci0ImaB1Hid3fGarWt~k6xkQdOM-iJA3HCVbHWPnj0m3TbAzN7HENl-1AibvgdgCM3rIftfTlCuVVCoZS-uchHfkU-8XXNfu-2QdTLrplJWVIe6rQu~sC3COSBqPgks05rkkTatJr1Wbh9msln8IxMRxZpMgwABYQ-bGW~r43ZHYNNrCSaYqh760IN66NZcCASpTYO6run3iEY1w__&Key-Pair-Id=KSXX7H7QURW4X)\n",
      "\n",
      "<a href=\"https://assets.crowdmark.com/exam_pages/b1515aab-496c-47bb-b626-3b534e462f05?Expires=1631149737&Signature=gJnyB-d2~tOt5ZQ-k6Q-2LEPkXSG0PQ0UI2Bovydno4qnwMGhJAHUFLMlVT2vPxucdaeWSOCAx0HwVvmqkv0t3b8NXsEKw4k4PA3I4av4ih8GcBVR5-mW6K1E5gT0byj9BnpH5ci0ImaB1Hid3fGarWt~k6xkQdOM-iJA3HCVbHWPnj0m3TbAzN7HENl-1AibvgdgCM3rIftfTlCuVVCoZS-uchHfkU-8XXNfu-2QdTLrplJWVIe6rQu~sC3COSBqPgks05rkkTatJr1Wbh9msln8IxMRxZpMgwABYQ-bGW~r43ZHYNNrCSaYqh760IN66NZcCASpTYO6run3iEY1w__&Key-Pair-Id=KSXX7H7QURW4X\"><img src =\"https://assets.crowdmark.com/exam_pages/b1515aab-496c-47bb-b626-3b534e462f05?Expires=1631149737&Signature=gJnyB-d2~tOt5ZQ-k6Q-2LEPkXSG0PQ0UI2Bovydno4qnwMGhJAHUFLMlVT2vPxucdaeWSOCAx0HwVvmqkv0t3b8NXsEKw4k4PA3I4av4ih8GcBVR5-mW6K1E5gT0byj9BnpH5ci0ImaB1Hid3fGarWt~k6xkQdOM-iJA3HCVbHWPnj0m3TbAzN7HENl-1AibvgdgCM3rIftfTlCuVVCoZS-uchHfkU-8XXNfu-2QdTLrplJWVIe6rQu~sC3COSBqPgks05rkkTatJr1Wbh9msln8IxMRxZpMgwABYQ-bGW~r43ZHYNNrCSaYqh760IN66NZcCASpTYO6run3iEY1w__&Key-Pair-Id=KSXX7H7QURW4X\" width=\"200\"></a>\n",
      "\n",
      "![2752178](https://assets.crowdmark.com/exam_pages/079bea49-a2c7-4a62-a719-b1a2352d4e1a?Expires=1631149738&Signature=s6ZHKkqd0QP1DvGRGxPM1yQoGR0C1et4bqZqKfo8lwB28~QKCq24yUsCgb5bvFkSt9MXxp9yo1guMeIH5IyrvXQlza6xhTZfwSpVSNdgI33CETMutiAbH4zVOcaNPgncZBOCI3~hCr~hGtuAtXzbNSQo-mVaLRipgISSiRCcB9guxsjB-JHufhYGj1vNoCWE4m~dl7r7yAW~dx6TDppm06abYK6p6yrqg76cslFYoqTx3dYNe9-w52li~jou1XIDNHJuPEVEQj2pe1cVQETOXiIRydVQ09vk7ktiZFoiQaabQE0UCPX44f0nv~BU9HG33o32A-IbIRZkzBJXX2Ev8Q__&Key-Pair-Id=KSXX7H7QURW4X)\n",
      "\n",
      "<a href=\"https://assets.crowdmark.com/exam_pages/079bea49-a2c7-4a62-a719-b1a2352d4e1a?Expires=1631149738&Signature=s6ZHKkqd0QP1DvGRGxPM1yQoGR0C1et4bqZqKfo8lwB28~QKCq24yUsCgb5bvFkSt9MXxp9yo1guMeIH5IyrvXQlza6xhTZfwSpVSNdgI33CETMutiAbH4zVOcaNPgncZBOCI3~hCr~hGtuAtXzbNSQo-mVaLRipgISSiRCcB9guxsjB-JHufhYGj1vNoCWE4m~dl7r7yAW~dx6TDppm06abYK6p6yrqg76cslFYoqTx3dYNe9-w52li~jou1XIDNHJuPEVEQj2pe1cVQETOXiIRydVQ09vk7ktiZFoiQaabQE0UCPX44f0nv~BU9HG33o32A-IbIRZkzBJXX2Ev8Q__&Key-Pair-Id=KSXX7H7QURW4X\"><img src =\"https://assets.crowdmark.com/exam_pages/079bea49-a2c7-4a62-a719-b1a2352d4e1a?Expires=1631149738&Signature=s6ZHKkqd0QP1DvGRGxPM1yQoGR0C1et4bqZqKfo8lwB28~QKCq24yUsCgb5bvFkSt9MXxp9yo1guMeIH5IyrvXQlza6xhTZfwSpVSNdgI33CETMutiAbH4zVOcaNPgncZBOCI3~hCr~hGtuAtXzbNSQo-mVaLRipgISSiRCcB9guxsjB-JHufhYGj1vNoCWE4m~dl7r7yAW~dx6TDppm06abYK6p6yrqg76cslFYoqTx3dYNe9-w52li~jou1XIDNHJuPEVEQj2pe1cVQETOXiIRydVQ09vk7ktiZFoiQaabQE0UCPX44f0nv~BU9HG33o32A-IbIRZkzBJXX2Ev8Q__&Key-Pair-Id=KSXX7H7QURW4X\" width=\"200\"></a>\n",
      "\n",
      "![2752178](https://assets.crowdmark.com/exam_pages/e1c41dcf-3fdf-4412-94d8-1d7625ddfbe5?Expires=1631149738&Signature=rEDkrFMOfCO3YzmWc7fqRCHHb0OeHzyOGR5Osl-sKaHpV3~yCLo0uCp3McagjIF1WTbdjafV8r7bAQC5INMBz20aVQvhTAYdAequfkNocBk~BpkIiCKHt3b1Pg4T3la~ACpoVwHW~90sg8~MFNpS-G53TsK1UqVfK2s6MLJdAD3cUb4AkM93SfusgrfW2eZK3XbIlGcLphcqYXirMiJihpUOJNlnHiqKNK008PEbGuWe~g2gODX3xUlFFxTC90bcJq37FBogyzEhP7XXdybtBAKSLAXiSEQ9me1QMKddSBikn4wFSiJBU88W9Wkj73eURAvR49whvD0z57WjvAmmwQ__&Key-Pair-Id=KSXX7H7QURW4X)\n",
      "\n",
      "<a href=\"https://assets.crowdmark.com/exam_pages/e1c41dcf-3fdf-4412-94d8-1d7625ddfbe5?Expires=1631149738&Signature=rEDkrFMOfCO3YzmWc7fqRCHHb0OeHzyOGR5Osl-sKaHpV3~yCLo0uCp3McagjIF1WTbdjafV8r7bAQC5INMBz20aVQvhTAYdAequfkNocBk~BpkIiCKHt3b1Pg4T3la~ACpoVwHW~90sg8~MFNpS-G53TsK1UqVfK2s6MLJdAD3cUb4AkM93SfusgrfW2eZK3XbIlGcLphcqYXirMiJihpUOJNlnHiqKNK008PEbGuWe~g2gODX3xUlFFxTC90bcJq37FBogyzEhP7XXdybtBAKSLAXiSEQ9me1QMKddSBikn4wFSiJBU88W9Wkj73eURAvR49whvD0z57WjvAmmwQ__&Key-Pair-Id=KSXX7H7QURW4X\"><img src =\"https://assets.crowdmark.com/exam_pages/e1c41dcf-3fdf-4412-94d8-1d7625ddfbe5?Expires=1631149738&Signature=rEDkrFMOfCO3YzmWc7fqRCHHb0OeHzyOGR5Osl-sKaHpV3~yCLo0uCp3McagjIF1WTbdjafV8r7bAQC5INMBz20aVQvhTAYdAequfkNocBk~BpkIiCKHt3b1Pg4T3la~ACpoVwHW~90sg8~MFNpS-G53TsK1UqVfK2s6MLJdAD3cUb4AkM93SfusgrfW2eZK3XbIlGcLphcqYXirMiJihpUOJNlnHiqKNK008PEbGuWe~g2gODX3xUlFFxTC90bcJq37FBogyzEhP7XXdybtBAKSLAXiSEQ9me1QMKddSBikn4wFSiJBU88W9Wkj73eURAvR49whvD0z57WjvAmmwQ__&Key-Pair-Id=KSXX7H7QURW4X\" width=\"200\"></a>\n",
      "\n",
      "</ul>\n",
      "\n",
      "--------------------------- \n",
      "\n",
      "### Booklet:2752180\n",
      "\n",
      "<ul><br>\n",
      "\n",
      "![2752180](https://assets.crowdmark.com/exam_pages/74169f0e-10a2-4263-ad36-298c827cda0f?Expires=1631149739&Signature=eFKuRq4zg4Zxd-WJPQZCkStzwD1TswypEUzLAfhHBYOMDy8nPJJY4fY~khtqFBGNoLbn0U-NW7AlaCJgXfUr~250UNS-JrgTlLbye6~khXlEik4zpDx0GO1jUHqrg69nUPw5SZvKpdN3ygm3pK7toBzMS9aPDoRoKXdYlCqUIKf8QGskA~SOVsv9ldtTdzcDpsg30LZpxT6B1kPXJY5mkrrVMJKTDtvzf-Yu0KncAD-I7~C6OPzrQApIxecMJN9tOq5jhfre7nNREEkb9ouKgFE6oJ-e8tcBeomnXZdZrx~Y0npCzhcSCxhYhWMZcuyBN8PRKzwxRikqc4YClBBtQQ__&Key-Pair-Id=KSXX7H7QURW4X)\n",
      "\n",
      "<a href=\"https://assets.crowdmark.com/exam_pages/74169f0e-10a2-4263-ad36-298c827cda0f?Expires=1631149739&Signature=eFKuRq4zg4Zxd-WJPQZCkStzwD1TswypEUzLAfhHBYOMDy8nPJJY4fY~khtqFBGNoLbn0U-NW7AlaCJgXfUr~250UNS-JrgTlLbye6~khXlEik4zpDx0GO1jUHqrg69nUPw5SZvKpdN3ygm3pK7toBzMS9aPDoRoKXdYlCqUIKf8QGskA~SOVsv9ldtTdzcDpsg30LZpxT6B1kPXJY5mkrrVMJKTDtvzf-Yu0KncAD-I7~C6OPzrQApIxecMJN9tOq5jhfre7nNREEkb9ouKgFE6oJ-e8tcBeomnXZdZrx~Y0npCzhcSCxhYhWMZcuyBN8PRKzwxRikqc4YClBBtQQ__&Key-Pair-Id=KSXX7H7QURW4X\"><img src =\"https://assets.crowdmark.com/exam_pages/74169f0e-10a2-4263-ad36-298c827cda0f?Expires=1631149739&Signature=eFKuRq4zg4Zxd-WJPQZCkStzwD1TswypEUzLAfhHBYOMDy8nPJJY4fY~khtqFBGNoLbn0U-NW7AlaCJgXfUr~250UNS-JrgTlLbye6~khXlEik4zpDx0GO1jUHqrg69nUPw5SZvKpdN3ygm3pK7toBzMS9aPDoRoKXdYlCqUIKf8QGskA~SOVsv9ldtTdzcDpsg30LZpxT6B1kPXJY5mkrrVMJKTDtvzf-Yu0KncAD-I7~C6OPzrQApIxecMJN9tOq5jhfre7nNREEkb9ouKgFE6oJ-e8tcBeomnXZdZrx~Y0npCzhcSCxhYhWMZcuyBN8PRKzwxRikqc4YClBBtQQ__&Key-Pair-Id=KSXX7H7QURW4X\" width=\"200\"></a>\n",
      "\n",
      "![2752180](https://assets.crowdmark.com/exam_pages/c6f17386-ac78-4440-8d4e-94db90c759b5?Expires=1631149739&Signature=SsUB7-zgyN6U7odMpKy2qTlMzP7LPV71tH~~046TnA0Da5FYK4iegP1pjnft4DWBczZmoR~PjUVGEKqu6gDWiCxRYYwYlKLzKTg1JkIICnFl0Fe8S9lYmhR-gTORiMc95i3OA9xRawbTuIit6ssUw0OtyCEz85O7o3bsLVcTeUAKm8qimeQ9ZOI1V3YutCdJcEdC-qrfmkaOrJU1cDF1ofv0~eMMcXkeaoqY5ar2wipvT7ChUD5509MFpN-SJr49u1Gy~1U03JIILJeEDxWDPM-dad3vgKu2HrrFnHzP9gvWItbtgwN3oWK7iKDR06jGrWsCGpAfnLte-BvbNB3V5g__&Key-Pair-Id=KSXX7H7QURW4X)\n",
      "\n",
      "<a href=\"https://assets.crowdmark.com/exam_pages/c6f17386-ac78-4440-8d4e-94db90c759b5?Expires=1631149739&Signature=SsUB7-zgyN6U7odMpKy2qTlMzP7LPV71tH~~046TnA0Da5FYK4iegP1pjnft4DWBczZmoR~PjUVGEKqu6gDWiCxRYYwYlKLzKTg1JkIICnFl0Fe8S9lYmhR-gTORiMc95i3OA9xRawbTuIit6ssUw0OtyCEz85O7o3bsLVcTeUAKm8qimeQ9ZOI1V3YutCdJcEdC-qrfmkaOrJU1cDF1ofv0~eMMcXkeaoqY5ar2wipvT7ChUD5509MFpN-SJr49u1Gy~1U03JIILJeEDxWDPM-dad3vgKu2HrrFnHzP9gvWItbtgwN3oWK7iKDR06jGrWsCGpAfnLte-BvbNB3V5g__&Key-Pair-Id=KSXX7H7QURW4X\"><img src =\"https://assets.crowdmark.com/exam_pages/c6f17386-ac78-4440-8d4e-94db90c759b5?Expires=1631149739&Signature=SsUB7-zgyN6U7odMpKy2qTlMzP7LPV71tH~~046TnA0Da5FYK4iegP1pjnft4DWBczZmoR~PjUVGEKqu6gDWiCxRYYwYlKLzKTg1JkIICnFl0Fe8S9lYmhR-gTORiMc95i3OA9xRawbTuIit6ssUw0OtyCEz85O7o3bsLVcTeUAKm8qimeQ9ZOI1V3YutCdJcEdC-qrfmkaOrJU1cDF1ofv0~eMMcXkeaoqY5ar2wipvT7ChUD5509MFpN-SJr49u1Gy~1U03JIILJeEDxWDPM-dad3vgKu2HrrFnHzP9gvWItbtgwN3oWK7iKDR06jGrWsCGpAfnLte-BvbNB3V5g__&Key-Pair-Id=KSXX7H7QURW4X\" width=\"200\"></a>\n",
      "\n",
      "![2752180](https://assets.crowdmark.com/exam_pages/3c3714e2-ea93-4797-980e-f7b5164c8762?Expires=1631149739&Signature=RbHzVDgi7a40guGY9bj22x9n~lz7tHsMbKSIvtM3ZsAe5QnqSKpw7~~dN4erR18uEdJiHfQZkEcrRp25S2idEg8XP9-V18Dtt9G45n-LOHovU2zI1j97UnkhKnJZW0YVoKrgAhD0UZV1tb2jHOen-0rZ-u-cazmblmtg3Cef46HJbOzmIIFpLIfyILulxW1vP4o1Mfqtm0F1vnNJ4IRIeXg56Y8v7y-2jwiU905lO7V3TrMSHiOAkuV4cNxWA~3xjL1z2Zu7f-PV1c3UW5LiYydd18R1Z7x9U~hbaPtyLdNaKS-r5VoVUYfTFbNOalVct6-eCY7QqL-kHOpsQznQMg__&Key-Pair-Id=KSXX7H7QURW4X)\n",
      "\n",
      "<a href=\"https://assets.crowdmark.com/exam_pages/3c3714e2-ea93-4797-980e-f7b5164c8762?Expires=1631149739&Signature=RbHzVDgi7a40guGY9bj22x9n~lz7tHsMbKSIvtM3ZsAe5QnqSKpw7~~dN4erR18uEdJiHfQZkEcrRp25S2idEg8XP9-V18Dtt9G45n-LOHovU2zI1j97UnkhKnJZW0YVoKrgAhD0UZV1tb2jHOen-0rZ-u-cazmblmtg3Cef46HJbOzmIIFpLIfyILulxW1vP4o1Mfqtm0F1vnNJ4IRIeXg56Y8v7y-2jwiU905lO7V3TrMSHiOAkuV4cNxWA~3xjL1z2Zu7f-PV1c3UW5LiYydd18R1Z7x9U~hbaPtyLdNaKS-r5VoVUYfTFbNOalVct6-eCY7QqL-kHOpsQznQMg__&Key-Pair-Id=KSXX7H7QURW4X\"><img src =\"https://assets.crowdmark.com/exam_pages/3c3714e2-ea93-4797-980e-f7b5164c8762?Expires=1631149739&Signature=RbHzVDgi7a40guGY9bj22x9n~lz7tHsMbKSIvtM3ZsAe5QnqSKpw7~~dN4erR18uEdJiHfQZkEcrRp25S2idEg8XP9-V18Dtt9G45n-LOHovU2zI1j97UnkhKnJZW0YVoKrgAhD0UZV1tb2jHOen-0rZ-u-cazmblmtg3Cef46HJbOzmIIFpLIfyILulxW1vP4o1Mfqtm0F1vnNJ4IRIeXg56Y8v7y-2jwiU905lO7V3TrMSHiOAkuV4cNxWA~3xjL1z2Zu7f-PV1c3UW5LiYydd18R1Z7x9U~hbaPtyLdNaKS-r5VoVUYfTFbNOalVct6-eCY7QqL-kHOpsQznQMg__&Key-Pair-Id=KSXX7H7QURW4X\" width=\"200\"></a>\n",
      "\n",
      "![2752180](https://assets.crowdmark.com/exam_pages/3db06fe8-2331-41d7-a014-3ce6e1d4f0e8?Expires=1631149739&Signature=Z8XiWq4KJ2KQzdPgBuPSMfNtGKTOTYh5RYZmzi6Ckc8gD7f7j-rXrKdfpzwSuHckiICQf8Z8Ygi3SPcg2BcsP3EfaUOJpclnmGI1k6uZIPYFKC0nZh0ERX~rJcaZGOD5ZnaZFFcwDsBsxRuhDtgzydgMFLFx6VmCSv-arQQ66YGBlcQdpw7JlxC-NTmtTSSnb2E0BMUnnDATjYcq7eH0cTJjoh5lekPQcC5H4qPuMksQ1uxsnE~VK-4AooY-ftHlOjlFJ-EY6wn7utFy6EVzdB5-~greSregXbGQ6lKaaBbtz-auQQmLuIjmKiNnK0V4NR6aRIi9FMTMStM3WxU1HQ__&Key-Pair-Id=KSXX7H7QURW4X)\n",
      "\n",
      "<a href=\"https://assets.crowdmark.com/exam_pages/3db06fe8-2331-41d7-a014-3ce6e1d4f0e8?Expires=1631149739&Signature=Z8XiWq4KJ2KQzdPgBuPSMfNtGKTOTYh5RYZmzi6Ckc8gD7f7j-rXrKdfpzwSuHckiICQf8Z8Ygi3SPcg2BcsP3EfaUOJpclnmGI1k6uZIPYFKC0nZh0ERX~rJcaZGOD5ZnaZFFcwDsBsxRuhDtgzydgMFLFx6VmCSv-arQQ66YGBlcQdpw7JlxC-NTmtTSSnb2E0BMUnnDATjYcq7eH0cTJjoh5lekPQcC5H4qPuMksQ1uxsnE~VK-4AooY-ftHlOjlFJ-EY6wn7utFy6EVzdB5-~greSregXbGQ6lKaaBbtz-auQQmLuIjmKiNnK0V4NR6aRIi9FMTMStM3WxU1HQ__&Key-Pair-Id=KSXX7H7QURW4X\"><img src =\"https://assets.crowdmark.com/exam_pages/3db06fe8-2331-41d7-a014-3ce6e1d4f0e8?Expires=1631149739&Signature=Z8XiWq4KJ2KQzdPgBuPSMfNtGKTOTYh5RYZmzi6Ckc8gD7f7j-rXrKdfpzwSuHckiICQf8Z8Ygi3SPcg2BcsP3EfaUOJpclnmGI1k6uZIPYFKC0nZh0ERX~rJcaZGOD5ZnaZFFcwDsBsxRuhDtgzydgMFLFx6VmCSv-arQQ66YGBlcQdpw7JlxC-NTmtTSSnb2E0BMUnnDATjYcq7eH0cTJjoh5lekPQcC5H4qPuMksQ1uxsnE~VK-4AooY-ftHlOjlFJ-EY6wn7utFy6EVzdB5-~greSregXbGQ6lKaaBbtz-auQQmLuIjmKiNnK0V4NR6aRIi9FMTMStM3WxU1HQ__&Key-Pair-Id=KSXX7H7QURW4X\" width=\"200\"></a>\n",
      "\n",
      "</ul>\n",
      "\n"
     ]
    }
   ],
   "source": [
    "## Export links to all page images with associated booklet and student information (if available)\n",
    "## Print as output to this cell. \n",
    "## Accumulate output in front_pages.md file\n",
    "## Experiments with this script suggest that the output may need to be paginated! It may crash the analysis server.\n",
    "\n",
    "## Top Matter: Reminder of which assessment we are examining\n",
    "g = open('all_pages.md', 'w')\n",
    "print(\"assessment_slug:\" + assessment_slug + \"; front pages \\n\")\n",
    "print('<img src=\"https://crowdmark-com.s3.amazonaws.com/website/images/visual-identity/crowdmark-logo-dark.png\" alt=\"Crowdmark logo\" width =\"180\" align=\"right\">')\n",
    "g.write(\"assessment_slug:\" + assessment_slug + \"; front pages \\n\")\n",
    "for booklet in booklets:\n",
    "    booklet_id = booklet['id']\n",
    "    ## Information we know about the booklet we are examining.\n",
    "    \n",
    "    res = api_get('/booklets/' + booklet_id + '/pages')\n",
    "    \n",
    "    \n",
    "    ## Set an exception to ignore empty booklets\n",
    "    if res['data'] != []:\n",
    "        g.write(\"--------------------------- \\n\")\n",
    "        print(\"--------------------------- \\n\")\n",
    "        g.write(\"### Booklet:\" + booklet_id +\"\\n\") \n",
    "        print(\"### Booklet:\" + booklet_id +\"\\n\") \n",
    "        ## Set an exception to ignore empty records\n",
    "        if type(getbooklet(booklet_id)['data']['relationships']['enrollment']['data']) == dict: \n",
    "            enr = getbooklet(booklet_id)['data']['relationships']['enrollment']['data']['id']\n",
    "            g.write(\"### Enrollment:\" + enr +\"\\n\")\n",
    "            print(\"### Enrollment:\" + enr +\"\\n\")\n",
    "            if getenrollment(enr)['data']['attributes']['metadata'] != {}:\n",
    "                student = getenrollment(enr)['data']['attributes']['metadata']\n",
    "                g.write(\"### Student:\" + student['Name'] + \"\\n\")\n",
    "                print(\"### Student:\" + student['Name'] + \"\\n\")\n",
    "        # print(booklet)\n",
    "        print(\"<ul><br>\\n\")\n",
    "        g.write(\"<ul>\\n\")\n",
    "        for j in range(0,len(res['data'])):\n",
    "        ## Loop through all pages in the booklet\n",
    "            g.write(\"![\" + booklet_id + \"](\" + res['data'][j]['attributes']['url'] + \")\\n\")\n",
    "            ## Note: the choice of res['data'][ZERO] points at the front page of the booklet.\n",
    "            ## Print in Markdown format.\n",
    "            print((\"![\" + booklet_id + \"](\" + res['data'][j]['attributes']['url'] + \")\\n\"))\n",
    "            ## Print as clickable thumbnails when rendered in HTML\n",
    "            print('<a href=\"' + res['data'][j]['attributes']['url'] + '\"><img src =\"' \n",
    "                 + res['data'][j]['attributes']['url'] + '\" width=\"200\"></a>\\n')\n",
    "        print(\"</ul>\\n\")\n",
    "        g.write(\"</ul><br>\\n\")\n",
    "                    \n",
    "g.close()"
   ]
  },
  {
   "cell_type": "code",
   "execution_count": null,
   "metadata": {},
   "outputs": [],
   "source": []
  }
 ],
 "metadata": {
  "kernelspec": {
   "display_name": "Python 3 (ipykernel)",
   "language": "python",
   "name": "python3"
  },
  "language_info": {
   "codemirror_mode": {
    "name": "ipython",
    "version": 3
   },
   "file_extension": ".py",
   "mimetype": "text/x-python",
   "name": "python",
   "nbconvert_exporter": "python",
   "pygments_lexer": "ipython3",
   "version": "3.8.11"
  }
 },
 "nbformat": 4,
 "nbformat_minor": 4
}
